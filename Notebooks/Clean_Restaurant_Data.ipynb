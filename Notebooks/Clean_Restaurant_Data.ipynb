{
 "cells": [
  {
   "cell_type": "code",
   "execution_count": 2,
   "metadata": {},
   "outputs": [
    {
     "ename": "ModuleNotFoundError",
     "evalue": "No module named 'config'",
     "output_type": "error",
     "traceback": [
      "\u001b[1;31m---------------------------------------------------------------------------\u001b[0m",
      "\u001b[1;31mModuleNotFoundError\u001b[0m                       Traceback (most recent call last)",
      "\u001b[1;32m<ipython-input-2-4ebf369f7eb7>\u001b[0m in \u001b[0;36m<module>\u001b[1;34m\u001b[0m\n\u001b[0;32m     11\u001b[0m \u001b[1;33m\u001b[0m\u001b[0m\n\u001b[0;32m     12\u001b[0m \u001b[1;31m# Import API key\u001b[0m\u001b[1;33m\u001b[0m\u001b[1;33m\u001b[0m\u001b[1;33m\u001b[0m\u001b[0m\n\u001b[1;32m---> 13\u001b[1;33m \u001b[1;32mfrom\u001b[0m \u001b[0mconfig\u001b[0m \u001b[1;32mimport\u001b[0m \u001b[0mg_key\u001b[0m\u001b[1;33m\u001b[0m\u001b[1;33m\u001b[0m\u001b[0m\n\u001b[0m",
      "\u001b[1;31mModuleNotFoundError\u001b[0m: No module named 'config'"
     ]
    }
   ],
   "source": [
    "# Dependencies and Setup\n",
    "import matplotlib.pyplot as plt\n",
    "import pandas as pd\n",
    "import numpy as np\n",
    "import requests\n",
    "import gmaps\n",
    "import os\n",
    "import json\n",
    "import seaborn as sns\n",
    "\n",
    "\n",
    "# Import API key\n",
    "from config import g_key"
   ]
  },
  {
   "cell_type": "code",
   "execution_count": null,
   "metadata": {},
   "outputs": [],
   "source": [
    "# Files to Load (Remember to Change These)\n",
    "fast_food_restaurants_2018 = \"../Resources/Fast_Food_Restaurants_2018.csv\"\n",
    "census_2018 =\"../Resources/census_data_clean_2018.csv\"\n",
    "# Read files into Pandas DF\n",
    "Rest_2018 = pd.read_csv(fast_food_restaurants_2018)\n",
    "census_2018=pd.read_csv(census_2018)"
   ]
  },
  {
   "cell_type": "code",
   "execution_count": null,
   "metadata": {},
   "outputs": [],
   "source": [
    "# remove columns we will not need\n",
    "Rest_2018=Rest_2018.drop(['id','sourceURLs','websites'], axis =1)\n",
    "Rest_2018.columns"
   ]
  },
  {
   "cell_type": "code",
   "execution_count": null,
   "metadata": {},
   "outputs": [],
   "source": [
    "# reorganize/rename columns\n",
    "Rest_2018 = Rest_2018.rename(columns={'name':'Name', 'address': 'Address', 'city': 'City', 'country': 'Country', 'latitude': 'Latitude', 'longitude':'Longitude', 'postalCode': 'Zip Code',\\\n",
    "                                     'province': 'State'})\n",
    "Rest_2018 = Rest_2018[['Name', 'Address', 'City','State', 'Zip Code','Country', 'Latitude', 'Longitude','categories']]\n",
    "Rest_2018.head()"
   ]
  },
  {
   "cell_type": "code",
   "execution_count": null,
   "metadata": {},
   "outputs": [],
   "source": [
    "# get unique names in list and sort alphabetically to assist with cleaning\n",
    "names = Rest_2018['Name'].unique()\n",
    "names.sort()\n",
    "print(len(names))\n",
    "print(names)"
   ]
  },
  {
   "cell_type": "code",
   "execution_count": null,
   "metadata": {},
   "outputs": [],
   "source": [
    "Rest_2018['Name'] = Rest_2018['Name'].replace({\"Arby's - Closed\":\"Arby's\",'Arbys': \"Arby's\", \"Auntie Anne's\": \"Auntie Anne's Pretzels\",\"Baker's Drive Thru\":\"Baker's Drive-thru\",\"Ben and Jerry's\": \"Ben & Jerry's\",'Bob Evans Restaurant':'Bob Evans',\"Bojangles' Famous Chicken 'n Biscuits\": 'Bojangles', 'Burger King¬Æ': 'Burger King','Capri Italian Restaurant':'Capri Restaurant',\"Carl's Jr.\":\"Carl's Jr\",\"Carl's Jr. / Green Burrito\":\"Carl's Jr\",\"Carl's Jr / Green Burrito\":\"Carl's Jr\",'Caseys Carry Out Pizza':\"Casey's General Store\",\"Charley's Grilled Subs\":'Charleys Philly Steaks',\"Checker's Pizza\":'Checkers','Chick-fil-A':'Chick-Fil-A', 'Chipotle':'Chipotle Mexican Grill','Dairy Queen (Treat Only)':'Dairy Queen','Dunkin Donuts':\"Dunkin' Donuts\",'Five Guys Burgers Fries':'Five Guys', 'Five Guys Burgers And Fries':'Five Guys',\"Foster's Freeze\":'Fosters Freeze', \"Hardee's\":'Hardees',\"Hardee's / Red Burrito\":'Hardees', \"Hardee's/red Burrito\":'Hardees','Jack in the Box':'Jack In The Box', 'Jack in the Box -':'Jack In The Box'})\n",
    "Rest_2018['Name'] = Rest_2018['Name'].replace({\"Jimmy John's\":'Jimmy Johns','KFC - Kentucky Fried Chicken':'KFC','KFC/AW':'KFC','KFC/Long John Silvers':'KFC', 'KFC/Taco Bell':'KFC'})\n",
    "Rest_2018['Name'] = Rest_2018['Name'].replace({\"Little Caesar's Pizza\":'Little Caesars', 'Little Caesars Pizza':'Little Caesars',\"Long John Silver's / AW\" 'Long John Silvers':\"Long John Silver's\",'Long John Silvers / A&W':\"Long John Silver's\",'Mc Donalds':\"McDonald's\",\"McDonald's of Rolesville\":\"McDonald's\",'McDonalds':\"McDonald's\",\"McDonalds's\":\"McDonald's\",\"Mcdonald's\":\"McDonald's\",'Mcdonalds':\"McDonald's\",'Mcdonalds Whitehouse':\"McDonald's\"})\n",
    "Rest_2018['Name'] = Rest_2018['Name'].replace({'Panda Express Innovation Kitchen':'Panda Express' ,'PepperJax Grill':'Pepperjax Grill',\"Popeye's Louisiana Kitchen\":'Popeyes','Popeyes Chicken & Biscuits':'Popeyes','Popeyes Chicken Biscuits':'Popeyes','Popeyes Louisiana Kitchen':'Popeyes'})\n",
    "Rest_2018['Name'] = Rest_2018['Name'].replace({'QDOBA Mexican Eats':'Qdoba Mexican Grill', 'Qdoba Mexican Eats':'Qdoba Mexican Grill', \"Quizno's\": 'Quiznos', 'Quiznos Sub':'Quiznos',\"Raising Cane's\":'Raising Canes', \"Raising Cane's Chicken Fingers\":'Raising Canes'})\n",
    "Rest_2018['Name'] = Rest_2018['Name'].replace({\"Rally's Hamburgers\":\"Rally's\", 'Rallys':\"Rally's\",'Roma Pizza':'Romas Pizza','SONIC Drive In': 'SONIC Drive-In', 'SUBWAY¬Æ':'SUBWAY'})\n",
    "Rest_2018['Name'] = Rest_2018['Name'].replace({'Sonic':'SONIC Drive-In', \"Sonic America's Drive-In\":'SONIC Drive-In','Sonic Drive In':'SONIC Drive-In','Sonic Drive in':'SONIC Drive-In','Sonic Drive-In':'SONIC Drive-In',\"Steak 'n Shake\":'Steak N Shake','Taco Bell / KFC':'Taco Bell' ,'Taco Bell/KFC':'Taco Bell','Taco Bell/Pizza Hut':'Taco Bell'})\n",
    "Rest_2018['Name'] = Rest_2018['Name'].replace({ 'Wienerschitzel':'Wienerschnitzel','Wingstop Restaurant':'Wingstop',\"Wolf's Dairy Queen\" :'Dairy Queen',\"Zaxby's Chicken Fingers & Buffalo Wings\": \"Zaxby's\",'b.good':'B.GOOD', 'A&W/Long John Silvers':\"Long John Silver's\"})\n",
    "# After going through team decided to rename Pizza Hut, Taco Bell and KFC to YUM Brands\n",
    "Rest_2018['Name'] = Rest_2018['Name'].replace({'Pizza Hut': 'YUM Brands', 'KFC': 'YUM Brands','Taco Bell': 'YUM Brands'})"
   ]
  },
  {
   "cell_type": "code",
   "execution_count": null,
   "metadata": {},
   "outputs": [],
   "source": [
    "print(len(Rest_2018))"
   ]
  },
  {
   "cell_type": "code",
   "execution_count": null,
   "metadata": {},
   "outputs": [],
   "source": [
    "# Remove locations that are not food related 'Walmart Supercenter''T-Mobile''Hilton Boston Logan Airport''7-Eleven'\n",
    "# https://thispointer.com/python-pandas-how-to-drop-rows-in-dataframe-by-conditions-on-column-values/\n",
    "indexNames= Rest_2018[(Rest_2018['Name']=='Walmart Supercenter')].index\n",
    "Rest_2018.drop(indexNames, inplace=True)"
   ]
  },
  {
   "cell_type": "code",
   "execution_count": null,
   "metadata": {},
   "outputs": [],
   "source": [
    "indexNames= Rest_2018[(Rest_2018['Name']=='T-Mobile')].index\n",
    "Rest_2018.drop(indexNames, inplace=True)"
   ]
  },
  {
   "cell_type": "code",
   "execution_count": null,
   "metadata": {},
   "outputs": [],
   "source": [
    "indexNames= Rest_2018[(Rest_2018['Name']=='Hilton Boston Logan Airport')].index\n",
    "Rest_2018.drop(indexNames, inplace=True)"
   ]
  },
  {
   "cell_type": "code",
   "execution_count": null,
   "metadata": {},
   "outputs": [],
   "source": [
    "indexNames= Rest_2018[(Rest_2018['Name']=='7-Eleven')].index\n",
    "Rest_2018.drop(indexNames, inplace=True)\n",
    "print(len(Rest_2018))\n",
    "Rest_2018['Name'].nunique()"
   ]
  },
  {
   "cell_type": "code",
   "execution_count": null,
   "metadata": {},
   "outputs": [],
   "source": [
    "# find number of entries for each location\n",
    "Rest_2018['Name'].value_counts()"
   ]
  },
  {
   "cell_type": "code",
   "execution_count": null,
   "metadata": {},
   "outputs": [],
   "source": [
    "# Remove all locations that have less than 50 entries\n",
    "# https://www.thetopsites.net/article/58467286.shtml\n",
    "threshold = 50\n",
    "clean_rest_2018 = Rest_2018[Rest_2018.groupby('Name')['Name'].transform('count')>threshold].copy()\n",
    "print(len(clean_rest_2018))\n",
    "clean_rest_2018['Name'].value_counts()"
   ]
  },
  {
   "cell_type": "code",
   "execution_count": 3,
   "metadata": {},
   "outputs": [
    {
     "ename": "NameError",
     "evalue": "name 'clean_rest_2018' is not defined",
     "output_type": "error",
     "traceback": [
      "\u001b[1;31m---------------------------------------------------------------------------\u001b[0m",
      "\u001b[1;31mNameError\u001b[0m                                 Traceback (most recent call last)",
      "\u001b[1;32m<ipython-input-3-b7257f3c6457>\u001b[0m in \u001b[0;36m<module>\u001b[1;34m\u001b[0m\n\u001b[1;32m----> 1\u001b[1;33m \u001b[0mclean_rest_2018\u001b[0m\u001b[1;33m.\u001b[0m\u001b[0mto_csv\u001b[0m\u001b[1;33m(\u001b[0m\u001b[1;34m'../Resources/clean_rest_2018.csv'\u001b[0m\u001b[1;33m,\u001b[0m \u001b[0mencoding\u001b[0m\u001b[1;33m=\u001b[0m\u001b[1;34m'utf-8'\u001b[0m\u001b[1;33m,\u001b[0m \u001b[0mindex\u001b[0m \u001b[1;33m=\u001b[0m \u001b[1;32mFalse\u001b[0m\u001b[1;33m)\u001b[0m\u001b[1;33m\u001b[0m\u001b[1;33m\u001b[0m\u001b[0m\n\u001b[0m",
      "\u001b[1;31mNameError\u001b[0m: name 'clean_rest_2018' is not defined"
     ]
    }
   ],
   "source": [
    "clean_rest_2018.to_csv('../Resources/clean_rest_2018.csv', encoding='utf-8', index = False)"
   ]
  },
  {
   "cell_type": "code",
   "execution_count": 4,
   "metadata": {},
   "outputs": [
    {
     "data": {
      "text/html": [
       "<div>\n",
       "<style scoped>\n",
       "    .dataframe tbody tr th:only-of-type {\n",
       "        vertical-align: middle;\n",
       "    }\n",
       "\n",
       "    .dataframe tbody tr th {\n",
       "        vertical-align: top;\n",
       "    }\n",
       "\n",
       "    .dataframe thead th {\n",
       "        text-align: right;\n",
       "    }\n",
       "</style>\n",
       "<table border=\"1\" class=\"dataframe\">\n",
       "  <thead>\n",
       "    <tr style=\"text-align: right;\">\n",
       "      <th></th>\n",
       "      <th>Name</th>\n",
       "      <th>Address</th>\n",
       "      <th>City</th>\n",
       "      <th>State</th>\n",
       "      <th>Zip Code</th>\n",
       "      <th>Country</th>\n",
       "      <th>Latitude</th>\n",
       "      <th>Longitude</th>\n",
       "    </tr>\n",
       "  </thead>\n",
       "  <tbody>\n",
       "    <tr>\n",
       "      <th>0</th>\n",
       "      <td>Chipotle Mexican Grill</td>\n",
       "      <td>346 W Magnolia Ave</td>\n",
       "      <td>Auburn</td>\n",
       "      <td>Alabama</td>\n",
       "      <td>36832</td>\n",
       "      <td>US</td>\n",
       "      <td>32.606813</td>\n",
       "      <td>-85.487328</td>\n",
       "    </tr>\n",
       "    <tr>\n",
       "      <th>1</th>\n",
       "      <td>Chipotle Mexican Grill</td>\n",
       "      <td>300 20th St S</td>\n",
       "      <td>Birmingham</td>\n",
       "      <td>Alabama</td>\n",
       "      <td>35233</td>\n",
       "      <td>US</td>\n",
       "      <td>33.509722</td>\n",
       "      <td>-86.802756</td>\n",
       "    </tr>\n",
       "  </tbody>\n",
       "</table>\n",
       "</div>"
      ],
      "text/plain": [
       "                     Name                Address        City    State  \\\n",
       "0  Chipotle Mexican Grill  346 W Magnolia Ave         Auburn  Alabama   \n",
       "1  Chipotle Mexican Grill       300 20th St S     Birmingham  Alabama   \n",
       "\n",
       "  Zip Code Country   Latitude  Longitude  \n",
       "0    36832      US  32.606813 -85.487328  \n",
       "1    35233      US  33.509722 -86.802756  "
      ]
     },
     "execution_count": 4,
     "metadata": {},
     "output_type": "execute_result"
    }
   ],
   "source": [
    "# combine with chipotle csv\n",
    "# first read get file then read into pandas DF\n",
    "Chipotle_stores = \"../Resources/chipotle_stores.csv\"\n",
    "chipotle = pd.read_csv(Chipotle_stores)\n",
    "chipotle.head(2)"
   ]
  },
  {
   "cell_type": "code",
   "execution_count": 5,
   "metadata": {},
   "outputs": [
    {
     "ename": "NameError",
     "evalue": "name 'clean_rest_2018' is not defined",
     "output_type": "error",
     "traceback": [
      "\u001b[1;31m---------------------------------------------------------------------------\u001b[0m",
      "\u001b[1;31mNameError\u001b[0m                                 Traceback (most recent call last)",
      "\u001b[1;32m<ipython-input-5-d88bba999bf2>\u001b[0m in \u001b[0;36m<module>\u001b[1;34m\u001b[0m\n\u001b[1;32m----> 1\u001b[1;33m \u001b[0mclean_rest_2018\u001b[0m\u001b[1;33m.\u001b[0m\u001b[0mhead\u001b[0m\u001b[1;33m(\u001b[0m\u001b[1;36m2\u001b[0m\u001b[1;33m)\u001b[0m\u001b[1;33m\u001b[0m\u001b[1;33m\u001b[0m\u001b[0m\n\u001b[0m",
      "\u001b[1;31mNameError\u001b[0m: name 'clean_rest_2018' is not defined"
     ]
    }
   ],
   "source": [
    "clean_rest_2018.head(2)"
   ]
  },
  {
   "cell_type": "code",
   "execution_count": 6,
   "metadata": {},
   "outputs": [
    {
     "data": {
      "text/html": [
       "<div>\n",
       "<style scoped>\n",
       "    .dataframe tbody tr th:only-of-type {\n",
       "        vertical-align: middle;\n",
       "    }\n",
       "\n",
       "    .dataframe tbody tr th {\n",
       "        vertical-align: top;\n",
       "    }\n",
       "\n",
       "    .dataframe thead th {\n",
       "        text-align: right;\n",
       "    }\n",
       "</style>\n",
       "<table border=\"1\" class=\"dataframe\">\n",
       "  <thead>\n",
       "    <tr style=\"text-align: right;\">\n",
       "      <th></th>\n",
       "      <th>Name</th>\n",
       "      <th>Address</th>\n",
       "      <th>City</th>\n",
       "      <th>State</th>\n",
       "      <th>Zip Code</th>\n",
       "      <th>Country</th>\n",
       "      <th>Latitude</th>\n",
       "      <th>Longitude</th>\n",
       "      <th>Categories</th>\n",
       "      <th>Population</th>\n",
       "      <th>Median Age</th>\n",
       "      <th>Household Income</th>\n",
       "      <th>Per Capita Income</th>\n",
       "      <th>Poverty Count</th>\n",
       "      <th>Poverty Rate</th>\n",
       "    </tr>\n",
       "  </thead>\n",
       "  <tbody>\n",
       "    <tr>\n",
       "      <th>0</th>\n",
       "      <td>Chipotle Mexican Grill</td>\n",
       "      <td>346 W Magnolia Ave</td>\n",
       "      <td>Auburn</td>\n",
       "      <td>Alabama</td>\n",
       "      <td>36832</td>\n",
       "      <td>US</td>\n",
       "      <td>32.606813</td>\n",
       "      <td>-85.487328</td>\n",
       "      <td>NaN</td>\n",
       "      <td>24509.0</td>\n",
       "      <td>23.7</td>\n",
       "      <td>27638.0</td>\n",
       "      <td>22390.0</td>\n",
       "      <td>9821.0</td>\n",
       "      <td>40.070994</td>\n",
       "    </tr>\n",
       "    <tr>\n",
       "      <th>1</th>\n",
       "      <td>Chipotle Mexican Grill</td>\n",
       "      <td>300 20th St S</td>\n",
       "      <td>Birmingham</td>\n",
       "      <td>Alabama</td>\n",
       "      <td>35233</td>\n",
       "      <td>US</td>\n",
       "      <td>33.509722</td>\n",
       "      <td>-86.802756</td>\n",
       "      <td>NaN</td>\n",
       "      <td>1715.0</td>\n",
       "      <td>27.7</td>\n",
       "      <td>41500.0</td>\n",
       "      <td>29812.0</td>\n",
       "      <td>655.0</td>\n",
       "      <td>38.192420</td>\n",
       "    </tr>\n",
       "    <tr>\n",
       "      <th>2</th>\n",
       "      <td>Chipotle Mexican Grill</td>\n",
       "      <td>3220 Morrow Rd</td>\n",
       "      <td>Birmingham</td>\n",
       "      <td>Alabama</td>\n",
       "      <td>35235</td>\n",
       "      <td>US</td>\n",
       "      <td>33.595581</td>\n",
       "      <td>-86.647437</td>\n",
       "      <td>NaN</td>\n",
       "      <td>20926.0</td>\n",
       "      <td>38.0</td>\n",
       "      <td>55609.0</td>\n",
       "      <td>25477.0</td>\n",
       "      <td>2829.0</td>\n",
       "      <td>13.519067</td>\n",
       "    </tr>\n",
       "    <tr>\n",
       "      <th>3</th>\n",
       "      <td>Chipotle Mexican Grill</td>\n",
       "      <td>4719 Highway 280</td>\n",
       "      <td>Birmingham</td>\n",
       "      <td>Alabama</td>\n",
       "      <td>35242</td>\n",
       "      <td>US</td>\n",
       "      <td>33.422582</td>\n",
       "      <td>-86.698279</td>\n",
       "      <td>NaN</td>\n",
       "      <td>55122.0</td>\n",
       "      <td>40.9</td>\n",
       "      <td>91966.0</td>\n",
       "      <td>51709.0</td>\n",
       "      <td>3641.0</td>\n",
       "      <td>6.605348</td>\n",
       "    </tr>\n",
       "    <tr>\n",
       "      <th>4</th>\n",
       "      <td>Chipotle Mexican Grill</td>\n",
       "      <td>1821 Cherokee Ave SW</td>\n",
       "      <td>Cullman</td>\n",
       "      <td>Alabama</td>\n",
       "      <td>35055</td>\n",
       "      <td>US</td>\n",
       "      <td>34.154134</td>\n",
       "      <td>-86.841220</td>\n",
       "      <td>NaN</td>\n",
       "      <td>20884.0</td>\n",
       "      <td>38.4</td>\n",
       "      <td>42252.0</td>\n",
       "      <td>23465.0</td>\n",
       "      <td>3202.0</td>\n",
       "      <td>15.332312</td>\n",
       "    </tr>\n",
       "  </tbody>\n",
       "</table>\n",
       "</div>"
      ],
      "text/plain": [
       "                     Name                  Address        City    State  \\\n",
       "0  Chipotle Mexican Grill    346 W Magnolia Ave         Auburn  Alabama   \n",
       "1  Chipotle Mexican Grill         300 20th St S     Birmingham  Alabama   \n",
       "2  Chipotle Mexican Grill       3220 Morrow Rd      Birmingham  Alabama   \n",
       "3  Chipotle Mexican Grill     4719 Highway 280      Birmingham  Alabama   \n",
       "4  Chipotle Mexican Grill  1821 Cherokee Ave SW        Cullman  Alabama   \n",
       "\n",
       "  Zip Code Country   Latitude  Longitude Categories  Population  Median Age  \\\n",
       "0    36832      US  32.606813 -85.487328        NaN     24509.0        23.7   \n",
       "1    35233      US  33.509722 -86.802756        NaN      1715.0        27.7   \n",
       "2    35235      US  33.595581 -86.647437        NaN     20926.0        38.0   \n",
       "3    35242      US  33.422582 -86.698279        NaN     55122.0        40.9   \n",
       "4    35055      US  34.154134 -86.841220        NaN     20884.0        38.4   \n",
       "\n",
       "   Household Income  Per Capita Income  Poverty Count  Poverty Rate  \n",
       "0           27638.0            22390.0         9821.0     40.070994  \n",
       "1           41500.0            29812.0          655.0     38.192420  \n",
       "2           55609.0            25477.0         2829.0     13.519067  \n",
       "3           91966.0            51709.0         3641.0      6.605348  \n",
       "4           42252.0            23465.0         3202.0     15.332312  "
      ]
     },
     "execution_count": 6,
     "metadata": {},
     "output_type": "execute_result"
    }
   ],
   "source": [
    "# wound up combinging via excel, could not get to combine without duplicate columns for address, city, etc. need to talk about at class\n",
    "\n",
    "all_rest_df = \"../Resources/All_rest_2018.csv\"\n",
    "all_rest_df = pd.read_csv(all_rest_df)\n",
    "all_rest_df.head()"
   ]
  },
  {
   "cell_type": "code",
   "execution_count": 7,
   "metadata": {},
   "outputs": [
    {
     "data": {
      "text/plain": [
       "count     11123.000000\n",
       "mean      33185.782253\n",
       "std       18376.080765\n",
       "min          66.000000\n",
       "25%       19706.000000\n",
       "50%       30695.000000\n",
       "75%       43647.500000\n",
       "max      114989.000000\n",
       "Name: Population, dtype: float64"
      ]
     },
     "execution_count": 7,
     "metadata": {},
     "output_type": "execute_result"
    }
   ],
   "source": [
    "all_rest_df['Population'].describe()\n"
   ]
  },
  {
   "cell_type": "code",
   "execution_count": 8,
   "metadata": {},
   "outputs": [
    {
     "name": "stdout",
     "output_type": "stream",
     "text": [
      "11155\n"
     ]
    },
    {
     "data": {
      "text/html": [
       "<div>\n",
       "<style scoped>\n",
       "    .dataframe tbody tr th:only-of-type {\n",
       "        vertical-align: middle;\n",
       "    }\n",
       "\n",
       "    .dataframe tbody tr th {\n",
       "        vertical-align: top;\n",
       "    }\n",
       "\n",
       "    .dataframe thead th {\n",
       "        text-align: right;\n",
       "    }\n",
       "</style>\n",
       "<table border=\"1\" class=\"dataframe\">\n",
       "  <thead>\n",
       "    <tr style=\"text-align: right;\">\n",
       "      <th></th>\n",
       "      <th>Name</th>\n",
       "      <th>Address</th>\n",
       "      <th>City</th>\n",
       "      <th>State</th>\n",
       "      <th>Zip Code</th>\n",
       "      <th>Country</th>\n",
       "      <th>Latitude</th>\n",
       "      <th>Longitude</th>\n",
       "      <th>Categories</th>\n",
       "      <th>Population</th>\n",
       "      <th>Median Age</th>\n",
       "      <th>Household Income</th>\n",
       "      <th>Per Capita Income</th>\n",
       "      <th>Poverty Count</th>\n",
       "      <th>Poverty Rate</th>\n",
       "    </tr>\n",
       "  </thead>\n",
       "  <tbody>\n",
       "    <tr>\n",
       "      <th>0</th>\n",
       "      <td>Chipotle Mexican Grill</td>\n",
       "      <td>346 W Magnolia Ave</td>\n",
       "      <td>Auburn</td>\n",
       "      <td>Alabama</td>\n",
       "      <td>36832</td>\n",
       "      <td>US</td>\n",
       "      <td>32.606813</td>\n",
       "      <td>-85.487328</td>\n",
       "      <td>NaN</td>\n",
       "      <td>24509.0</td>\n",
       "      <td>23.7</td>\n",
       "      <td>27638.0</td>\n",
       "      <td>22390.0</td>\n",
       "      <td>9821.0</td>\n",
       "      <td>40.070994</td>\n",
       "    </tr>\n",
       "    <tr>\n",
       "      <th>1</th>\n",
       "      <td>Chipotle Mexican Grill</td>\n",
       "      <td>300 20th St S</td>\n",
       "      <td>Birmingham</td>\n",
       "      <td>Alabama</td>\n",
       "      <td>35233</td>\n",
       "      <td>US</td>\n",
       "      <td>33.509722</td>\n",
       "      <td>-86.802756</td>\n",
       "      <td>NaN</td>\n",
       "      <td>1715.0</td>\n",
       "      <td>27.7</td>\n",
       "      <td>41500.0</td>\n",
       "      <td>29812.0</td>\n",
       "      <td>655.0</td>\n",
       "      <td>38.192420</td>\n",
       "    </tr>\n",
       "    <tr>\n",
       "      <th>2</th>\n",
       "      <td>Chipotle Mexican Grill</td>\n",
       "      <td>3220 Morrow Rd</td>\n",
       "      <td>Birmingham</td>\n",
       "      <td>Alabama</td>\n",
       "      <td>35235</td>\n",
       "      <td>US</td>\n",
       "      <td>33.595581</td>\n",
       "      <td>-86.647437</td>\n",
       "      <td>NaN</td>\n",
       "      <td>20926.0</td>\n",
       "      <td>38.0</td>\n",
       "      <td>55609.0</td>\n",
       "      <td>25477.0</td>\n",
       "      <td>2829.0</td>\n",
       "      <td>13.519067</td>\n",
       "    </tr>\n",
       "    <tr>\n",
       "      <th>3</th>\n",
       "      <td>Chipotle Mexican Grill</td>\n",
       "      <td>4719 Highway 280</td>\n",
       "      <td>Birmingham</td>\n",
       "      <td>Alabama</td>\n",
       "      <td>35242</td>\n",
       "      <td>US</td>\n",
       "      <td>33.422582</td>\n",
       "      <td>-86.698279</td>\n",
       "      <td>NaN</td>\n",
       "      <td>55122.0</td>\n",
       "      <td>40.9</td>\n",
       "      <td>91966.0</td>\n",
       "      <td>51709.0</td>\n",
       "      <td>3641.0</td>\n",
       "      <td>6.605348</td>\n",
       "    </tr>\n",
       "    <tr>\n",
       "      <th>4</th>\n",
       "      <td>Chipotle Mexican Grill</td>\n",
       "      <td>1821 Cherokee Ave SW</td>\n",
       "      <td>Cullman</td>\n",
       "      <td>Alabama</td>\n",
       "      <td>35055</td>\n",
       "      <td>US</td>\n",
       "      <td>34.154134</td>\n",
       "      <td>-86.841220</td>\n",
       "      <td>NaN</td>\n",
       "      <td>20884.0</td>\n",
       "      <td>38.4</td>\n",
       "      <td>42252.0</td>\n",
       "      <td>23465.0</td>\n",
       "      <td>3202.0</td>\n",
       "      <td>15.332312</td>\n",
       "    </tr>\n",
       "  </tbody>\n",
       "</table>\n",
       "</div>"
      ],
      "text/plain": [
       "                     Name                  Address        City    State  \\\n",
       "0  Chipotle Mexican Grill    346 W Magnolia Ave         Auburn  Alabama   \n",
       "1  Chipotle Mexican Grill         300 20th St S     Birmingham  Alabama   \n",
       "2  Chipotle Mexican Grill       3220 Morrow Rd      Birmingham  Alabama   \n",
       "3  Chipotle Mexican Grill     4719 Highway 280      Birmingham  Alabama   \n",
       "4  Chipotle Mexican Grill  1821 Cherokee Ave SW        Cullman  Alabama   \n",
       "\n",
       "  Zip Code Country   Latitude  Longitude Categories  Population  Median Age  \\\n",
       "0    36832      US  32.606813 -85.487328        NaN     24509.0        23.7   \n",
       "1    35233      US  33.509722 -86.802756        NaN      1715.0        27.7   \n",
       "2    35235      US  33.595581 -86.647437        NaN     20926.0        38.0   \n",
       "3    35242      US  33.422582 -86.698279        NaN     55122.0        40.9   \n",
       "4    35055      US  34.154134 -86.841220        NaN     20884.0        38.4   \n",
       "\n",
       "   Household Income  Per Capita Income  Poverty Count  Poverty Rate  \n",
       "0           27638.0            22390.0         9821.0     40.070994  \n",
       "1           41500.0            29812.0          655.0     38.192420  \n",
       "2           55609.0            25477.0         2829.0     13.519067  \n",
       "3           91966.0            51709.0         3641.0      6.605348  \n",
       "4           42252.0            23465.0         3202.0     15.332312  "
      ]
     },
     "execution_count": 8,
     "metadata": {},
     "output_type": "execute_result"
    }
   ],
   "source": [
    "print(len(all_rest_df))\n",
    "all_rest_df.head()"
   ]
  },
  {
   "cell_type": "code",
   "execution_count": 9,
   "metadata": {},
   "outputs": [
    {
     "ename": "NameError",
     "evalue": "name 'census_2018' is not defined",
     "output_type": "error",
     "traceback": [
      "\u001b[1;31m---------------------------------------------------------------------------\u001b[0m",
      "\u001b[1;31mNameError\u001b[0m                                 Traceback (most recent call last)",
      "\u001b[1;32m<ipython-input-9-b275099964ef>\u001b[0m in \u001b[0;36m<module>\u001b[1;34m\u001b[0m\n\u001b[1;32m----> 1\u001b[1;33m \u001b[0mprint\u001b[0m\u001b[1;33m(\u001b[0m\u001b[0mlen\u001b[0m\u001b[1;33m(\u001b[0m\u001b[0mcensus_2018\u001b[0m\u001b[1;33m)\u001b[0m\u001b[1;33m)\u001b[0m\u001b[1;33m\u001b[0m\u001b[1;33m\u001b[0m\u001b[0m\n\u001b[0m",
      "\u001b[1;31mNameError\u001b[0m: name 'census_2018' is not defined"
     ]
    }
   ],
   "source": [
    "print(len(census_2018))"
   ]
  },
  {
   "cell_type": "code",
   "execution_count": 10,
   "metadata": {},
   "outputs": [
    {
     "ename": "NameError",
     "evalue": "name 'census_2018' is not defined",
     "output_type": "error",
     "traceback": [
      "\u001b[1;31m---------------------------------------------------------------------------\u001b[0m",
      "\u001b[1;31mNameError\u001b[0m                                 Traceback (most recent call last)",
      "\u001b[1;32m<ipython-input-10-cbe120247b43>\u001b[0m in \u001b[0;36m<module>\u001b[1;34m\u001b[0m\n\u001b[1;32m----> 1\u001b[1;33m \u001b[0mcensus_2018\u001b[0m\u001b[1;33m=\u001b[0m\u001b[0mcensus_2018\u001b[0m\u001b[1;33m.\u001b[0m\u001b[0mdropna\u001b[0m\u001b[1;33m(\u001b[0m\u001b[0mhow\u001b[0m\u001b[1;33m=\u001b[0m\u001b[1;34m'any'\u001b[0m\u001b[1;33m)\u001b[0m\u001b[1;33m\u001b[0m\u001b[1;33m\u001b[0m\u001b[0m\n\u001b[0m\u001b[0;32m      2\u001b[0m \u001b[0mprint\u001b[0m\u001b[1;33m(\u001b[0m\u001b[0mlen\u001b[0m\u001b[1;33m(\u001b[0m\u001b[0mcensus_2018\u001b[0m\u001b[1;33m)\u001b[0m\u001b[1;33m)\u001b[0m\u001b[1;33m\u001b[0m\u001b[1;33m\u001b[0m\u001b[0m\n\u001b[0;32m      3\u001b[0m \u001b[0mcensus_2018\u001b[0m\u001b[1;33m.\u001b[0m\u001b[0mhead\u001b[0m\u001b[1;33m(\u001b[0m\u001b[1;36m2\u001b[0m\u001b[1;33m)\u001b[0m\u001b[1;33m\u001b[0m\u001b[1;33m\u001b[0m\u001b[0m\n",
      "\u001b[1;31mNameError\u001b[0m: name 'census_2018' is not defined"
     ]
    }
   ],
   "source": [
    "census_2018=census_2018.dropna(how='any')\n",
    "print(len(census_2018))\n",
    "census_2018.head(2)"
   ]
  },
  {
   "cell_type": "code",
   "execution_count": 11,
   "metadata": {},
   "outputs": [],
   "source": [
    "# api_key = g_key\n",
    "# single= requests.get(\"https://maps.googleapis.com/maps/api/geocode/json?key=\" + api_key +\"&components=postal_code:97403\")\n",
    "# single_response = single.json()\n",
    "\n",
    "# print(json.dumps(single_response, indent=4, sort_keys=True))"
   ]
  },
  {
   "cell_type": "code",
   "execution_count": 12,
   "metadata": {},
   "outputs": [],
   "source": [
    "# lat = single_response[\"results\"][0][\"geometry\"][\"location\"][\"lat\"]\n",
    "# lng = single_response[\"results\"][0][\"geometry\"][\"location\"][\"lng\"]\n",
    "# print(lat,lng)"
   ]
  },
  {
   "cell_type": "markdown",
   "metadata": {},
   "source": [
    "Commented out the below cell, while i was able to get the correct call for the API(as above) i was not able to return any zipcodes. all went straight to Zip not found. I then found a dataset with the information and plugged it into our clean census data. https://public.opendatasoft.com/explore/dataset/us-zip-code-latitude-and-longitude/"
   ]
  },
  {
   "cell_type": "code",
   "execution_count": 13,
   "metadata": {},
   "outputs": [],
   "source": [
    "# https://stackoverflow.com/questions/5585957/get-latlng-from-zip-code-google-maps-api\n",
    "# Turn census zip codes into lat/long combinations for heatmap of US\n",
    "# https://maps.googleapis.com/maps/api/geocode/json?key=YOUR_API_KEY&components=postal_code:97403\n",
    "# Lat=[]\n",
    "# Long=[]\n",
    "\n",
    "# url = 'https://maps.googleapis.com/maps/api/geocode/json?key='\n",
    "# api_key = g_key\n",
    "# zipcode = census_2018['Zipcode']\n",
    "\n",
    "# for zips in zipcode:\n",
    "#     print(f'{url}{api_key}&components=postal_code:{zips}')\n",
    "# #     try:\n",
    "#         pop_request = requests.get(f'{url}{api_key}&components=postal_code:{zips}')\n",
    "# # (url + api_key +'&components=postal_code:'+zips)\n",
    "#         pop_response=pop_request.json()\n",
    "#         Lat.append(pop_response[\"results\"][0][\"geometry\"][\"location\"][\"lat\"])\n",
    "#         Long.append(pop_response[\"results\"][0][\"geometry\"][\"location\"][\"lng\"])\n",
    "#         print(f'Success')\n",
    "#     except IndexError:\n",
    "#         print(f'Zip not found')\n",
    "\n",
    "    \n"
   ]
  },
  {
   "cell_type": "code",
   "execution_count": 14,
   "metadata": {},
   "outputs": [
    {
     "ename": "NameError",
     "evalue": "name 'g_key' is not defined",
     "output_type": "error",
     "traceback": [
      "\u001b[1;31m---------------------------------------------------------------------------\u001b[0m",
      "\u001b[1;31mNameError\u001b[0m                                 Traceback (most recent call last)",
      "\u001b[1;32m<ipython-input-14-35ed217212a5>\u001b[0m in \u001b[0;36m<module>\u001b[1;34m\u001b[0m\n\u001b[0;32m      1\u001b[0m \u001b[1;31m# configure gmaps with API key\u001b[0m\u001b[1;33m\u001b[0m\u001b[1;33m\u001b[0m\u001b[1;33m\u001b[0m\u001b[0m\n\u001b[1;32m----> 2\u001b[1;33m \u001b[0mgmaps\u001b[0m\u001b[1;33m.\u001b[0m\u001b[0mconfigure\u001b[0m\u001b[1;33m(\u001b[0m\u001b[0mapi_key\u001b[0m \u001b[1;33m=\u001b[0m\u001b[0mg_key\u001b[0m\u001b[1;33m)\u001b[0m\u001b[1;33m\u001b[0m\u001b[1;33m\u001b[0m\u001b[0m\n\u001b[0m",
      "\u001b[1;31mNameError\u001b[0m: name 'g_key' is not defined"
     ]
    }
   ],
   "source": [
    "# configure gmaps with API key\n",
    "gmaps.configure(api_key =g_key)"
   ]
  },
  {
   "cell_type": "code",
   "execution_count": 15,
   "metadata": {},
   "outputs": [
    {
     "ename": "NameError",
     "evalue": "name 'census_2018' is not defined",
     "output_type": "error",
     "traceback": [
      "\u001b[1;31m---------------------------------------------------------------------------\u001b[0m",
      "\u001b[1;31mNameError\u001b[0m                                 Traceback (most recent call last)",
      "\u001b[1;32m<ipython-input-15-51b79f30e3a5>\u001b[0m in \u001b[0;36m<module>\u001b[1;34m\u001b[0m\n\u001b[0;32m      1\u001b[0m \u001b[1;31m# Store lat/long into locations\u001b[0m\u001b[1;33m\u001b[0m\u001b[1;33m\u001b[0m\u001b[1;33m\u001b[0m\u001b[0m\n\u001b[1;32m----> 2\u001b[1;33m \u001b[0mlocations\u001b[0m \u001b[1;33m=\u001b[0m \u001b[0mcensus_2018\u001b[0m\u001b[1;33m[\u001b[0m\u001b[1;33m[\u001b[0m\u001b[1;34m'Latitude'\u001b[0m\u001b[1;33m,\u001b[0m \u001b[1;34m'Longitude'\u001b[0m\u001b[1;33m]\u001b[0m\u001b[1;33m]\u001b[0m\u001b[1;33m\u001b[0m\u001b[1;33m\u001b[0m\u001b[0m\n\u001b[0m\u001b[0;32m      3\u001b[0m \u001b[1;33m\u001b[0m\u001b[0m\n\u001b[0;32m      4\u001b[0m \u001b[1;31m# Store humidity as weight\u001b[0m\u001b[1;33m\u001b[0m\u001b[1;33m\u001b[0m\u001b[1;33m\u001b[0m\u001b[0m\n\u001b[0;32m      5\u001b[0m \u001b[0mweight\u001b[0m \u001b[1;33m=\u001b[0m \u001b[0mcensus_2018\u001b[0m\u001b[1;33m[\u001b[0m\u001b[1;34m'Population'\u001b[0m\u001b[1;33m]\u001b[0m\u001b[1;33m\u001b[0m\u001b[1;33m\u001b[0m\u001b[0m\n",
      "\u001b[1;31mNameError\u001b[0m: name 'census_2018' is not defined"
     ]
    }
   ],
   "source": [
    "# Store lat/long into locations\n",
    "locations = census_2018[['Latitude', 'Longitude']]\n",
    "\n",
    "# Store humidity as weight\n",
    "weight = census_2018['Population']\n",
    "\n",
    "# Set Chipotle markers\n",
    "chip_locations = chipotle[['Latitude', 'Longitude']]\n",
    "# Set McDonalds markers\n",
    "mcdon_locations = all_rest_df.loc[all_rest_df['Name']=='McDonald\\'s'] \n",
    "mcdonlatlong=mcdon_locations[['Latitude', 'Longitude']]\n",
    "# Set yum brand locations (Taco Bell, Pizza Hut and KFC)\n",
    "taco_locations = all_rest_df.loc[all_rest_df['Name']=='Taco Bell']\n",
    "tacolatlong=taco_locations[['Latitude', 'Longitude']]\n",
    "pizza_locations = all_rest_df.loc[all_rest_df['Name']=='Pizza Hut']\n",
    "pizzalatlong=pizza_locations[['Latitude', 'Longitude']]\n",
    "kfc_locations = all_rest_df.loc[all_rest_df['Name']=='KFC']\n",
    "kfclatlong=kfc_locations[['Latitude', 'Longitude']]"
   ]
  },
  {
   "cell_type": "code",
   "execution_count": 16,
   "metadata": {},
   "outputs": [
    {
     "ename": "NameError",
     "evalue": "name 'locations' is not defined",
     "output_type": "error",
     "traceback": [
      "\u001b[1;31m---------------------------------------------------------------------------\u001b[0m",
      "\u001b[1;31mNameError\u001b[0m                                 Traceback (most recent call last)",
      "\u001b[1;32m<ipython-input-16-ceeb9f13939a>\u001b[0m in \u001b[0;36m<module>\u001b[1;34m\u001b[0m\n\u001b[0;32m      1\u001b[0m \u001b[0mfig\u001b[0m \u001b[1;33m=\u001b[0m \u001b[0mgmaps\u001b[0m\u001b[1;33m.\u001b[0m\u001b[0mfigure\u001b[0m\u001b[1;33m(\u001b[0m\u001b[1;33m)\u001b[0m\u001b[1;33m\u001b[0m\u001b[1;33m\u001b[0m\u001b[0m\n\u001b[0;32m      2\u001b[0m \u001b[1;33m\u001b[0m\u001b[0m\n\u001b[1;32m----> 3\u001b[1;33m \u001b[0mheat_layer\u001b[0m\u001b[1;33m=\u001b[0m\u001b[0mgmaps\u001b[0m\u001b[1;33m.\u001b[0m\u001b[0mheatmap_layer\u001b[0m\u001b[1;33m(\u001b[0m\u001b[0mlocations\u001b[0m\u001b[1;33m,\u001b[0m \u001b[0mweight\u001b[0m\u001b[1;33m,\u001b[0m \u001b[0mdissipating\u001b[0m\u001b[1;33m=\u001b[0m\u001b[1;32mTrue\u001b[0m\u001b[1;33m,\u001b[0m \u001b[0mmax_intensity\u001b[0m\u001b[1;33m=\u001b[0m\u001b[1;36m25\u001b[0m\u001b[1;33m,\u001b[0m \u001b[0mpoint_radius\u001b[0m\u001b[1;33m=\u001b[0m\u001b[1;36m2\u001b[0m\u001b[1;33m)\u001b[0m\u001b[1;33m\u001b[0m\u001b[1;33m\u001b[0m\u001b[0m\n\u001b[0m\u001b[0;32m      4\u001b[0m \u001b[1;33m\u001b[0m\u001b[0m\n\u001b[0;32m      5\u001b[0m chip_layer = gmaps.symbol_layer(\n",
      "\u001b[1;31mNameError\u001b[0m: name 'locations' is not defined"
     ]
    }
   ],
   "source": [
    "fig = gmaps.figure()\n",
    "\n",
    "heat_layer=gmaps.heatmap_layer(locations, weight, dissipating=True, max_intensity=25, point_radius=2)\n",
    "\n",
    "chip_layer = gmaps.symbol_layer(\n",
    "    chip_locations, fill_color='black', stroke_color='black', scale=1)\n",
    "\n",
    "taco_layer = gmaps.symbol_layer(\n",
    "    tacolatlong, fill_color='green', stroke_color='green', scale=1)\n",
    "\n",
    "pizza_layer = gmaps.symbol_layer(\n",
    "    pizzalatlong, fill_color='green', stroke_color='green', scale=1)\n",
    "\n",
    "kfc_layer = gmaps.symbol_layer(\n",
    "    kfclatlong, fill_color='green', stroke_color='green', scale=1)\n",
    "\n",
    "fig.add_layer(heat_layer)\n",
    "fig.add_layer(chip_layer)\n",
    "fig.add_layer(taco_layer)\n",
    "fig.add_layer(pizza_layer)\n",
    "fig.add_layer(kfc_layer)\n",
    "\n",
    "fig"
   ]
  },
  {
   "cell_type": "code",
   "execution_count": 17,
   "metadata": {},
   "outputs": [
    {
     "data": {
      "text/plain": [
       "20k - 40k      4825\n",
       "0-20K          2822\n",
       "40k - 60k      2556\n",
       "60k - 80k       726\n",
       "80k - 100k      161\n",
       "100k - 120k      33\n",
       "Name: Zip Code Population Bins, dtype: int64"
      ]
     },
     "execution_count": 17,
     "metadata": {},
     "output_type": "execute_result"
    }
   ],
   "source": [
    "# Set up binns for population on all_rest_df\n",
    "bins = [0, 20000, 40000, 60000, 80000, 100000,120000]\n",
    "group_names=['0-20K', '20k - 40k', '40k - 60k', '60k - 80k', '80k - 100k', '100k - 120k']\n",
    "all_rest_df['Zip Code Population Bins'] = pd.cut(all_rest_df['Population'], bins, labels = group_names, include_lowest =True)\n",
    "all_rest_df['Zip Code Population Bins'].value_counts()\n"
   ]
  },
  {
   "cell_type": "code",
   "execution_count": 18,
   "metadata": {},
   "outputs": [
    {
     "name": "stdout",
     "output_type": "stream",
     "text": [
      "Name        Zip Code Population Bins\n",
      "Arby's      0-20K                       190\n",
      "            20k - 40k                   294\n",
      "            40k - 60k                   155\n",
      "            60k - 80k                    23\n",
      "            80k - 100k                    2\n",
      "                                       ... \n",
      "YUM Brands  20k - 40k                   637\n",
      "            40k - 60k                   328\n",
      "            60k - 80k                    96\n",
      "            80k - 100k                   18\n",
      "            100k - 120k                   1\n",
      "Name: Zip Code Population Bins, Length: 150, dtype: int64\n"
     ]
    }
   ],
   "source": [
    "all_rest_pop = all_rest_df.groupby(['Name','Zip Code Population Bins'])\n",
    "print(all_rest_pop['Zip Code Population Bins'].count())"
   ]
  },
  {
   "cell_type": "code",
   "execution_count": 19,
   "metadata": {},
   "outputs": [
    {
     "ename": "SyntaxError",
     "evalue": "invalid syntax (<ipython-input-19-f5ef744060cb>, line 2)",
     "output_type": "error",
     "traceback": [
      "\u001b[1;36m  File \u001b[1;32m\"<ipython-input-19-f5ef744060cb>\"\u001b[1;36m, line \u001b[1;32m2\u001b[0m\n\u001b[1;33m    chart_all_rest.head()\u001b[0m\n\u001b[1;37m    ^\u001b[0m\n\u001b[1;31mSyntaxError\u001b[0m\u001b[1;31m:\u001b[0m invalid syntax\n"
     ]
    }
   ],
   "source": [
    "chart_all_rest = all_rest_df.loc[(all_rest_df['Name']== 'Chipotle Mexican Grill')|(all_rest_df['Name']== 'YUM Brands')|(all_rest_df['Burger King'])\n",
    "chart_all_rest.head()"
   ]
  },
  {
   "cell_type": "code",
   "execution_count": 20,
   "metadata": {},
   "outputs": [
    {
     "ename": "NameError",
     "evalue": "name 'chart_all_rest' is not defined",
     "output_type": "error",
     "traceback": [
      "\u001b[1;31m---------------------------------------------------------------------------\u001b[0m",
      "\u001b[1;31mNameError\u001b[0m                                 Traceback (most recent call last)",
      "\u001b[1;32m<ipython-input-20-1ad7e2da8163>\u001b[0m in \u001b[0;36m<module>\u001b[1;34m\u001b[0m\n\u001b[0;32m      1\u001b[0m \u001b[1;31m# https://stackoverflow.com/questions/53997862/pandas-groupby-two-columns-and-plot\u001b[0m\u001b[1;33m\u001b[0m\u001b[1;33m\u001b[0m\u001b[1;33m\u001b[0m\u001b[0m\n\u001b[1;32m----> 2\u001b[1;33m \u001b[0msns_plot\u001b[0m \u001b[1;33m=\u001b[0m \u001b[0msns\u001b[0m\u001b[1;33m.\u001b[0m\u001b[0mcountplot\u001b[0m\u001b[1;33m(\u001b[0m\u001b[0mdata\u001b[0m\u001b[1;33m=\u001b[0m\u001b[0mchart_all_rest\u001b[0m\u001b[1;33m,\u001b[0m\u001b[0mx\u001b[0m\u001b[1;33m=\u001b[0m\u001b[1;34m'Zip Code Population Bins'\u001b[0m\u001b[1;33m,\u001b[0m\u001b[0mhue\u001b[0m\u001b[1;33m=\u001b[0m\u001b[1;34m'Name'\u001b[0m\u001b[1;33m)\u001b[0m\u001b[1;33m\u001b[0m\u001b[1;33m\u001b[0m\u001b[0m\n\u001b[0m\u001b[0;32m      3\u001b[0m \u001b[1;31m# sns_plot.savefig('Population_Bins_and_Locations.png')\u001b[0m\u001b[1;33m\u001b[0m\u001b[1;33m\u001b[0m\u001b[1;33m\u001b[0m\u001b[0m\n",
      "\u001b[1;31mNameError\u001b[0m: name 'chart_all_rest' is not defined"
     ]
    }
   ],
   "source": [
    "# https://stackoverflow.com/questions/53997862/pandas-groupby-two-columns-and-plot\n",
    "sns_plot = sns.countplot(data=chart_all_rest,x='Zip Code Population Bins',hue='Name')\n",
    "# sns_plot.savefig('Population_Bins_and_Locations.png')"
   ]
  },
  {
   "cell_type": "code",
   "execution_count": 1,
   "metadata": {},
   "outputs": [
    {
     "ename": "NameError",
     "evalue": "name 'census_2018' is not defined",
     "output_type": "error",
     "traceback": [
      "\u001b[1;31m---------------------------------------------------------------------------\u001b[0m",
      "\u001b[1;31mNameError\u001b[0m                                 Traceback (most recent call last)",
      "\u001b[1;32m<ipython-input-1-80b815f2f822>\u001b[0m in \u001b[0;36m<module>\u001b[1;34m\u001b[0m\n\u001b[1;32m----> 1\u001b[1;33m \u001b[0mcensus_2018\u001b[0m\u001b[1;33m[\u001b[0m\u001b[1;34m'Population'\u001b[0m\u001b[1;33m]\u001b[0m\u001b[1;33m.\u001b[0m\u001b[0mdescribe\u001b[0m\u001b[1;33m(\u001b[0m\u001b[1;33m)\u001b[0m\u001b[1;33m\u001b[0m\u001b[1;33m\u001b[0m\u001b[0m\n\u001b[0m",
      "\u001b[1;31mNameError\u001b[0m: name 'census_2018' is not defined"
     ]
    }
   ],
   "source": [
    "census_2018['Population'].describe()"
   ]
  },
  {
   "cell_type": "code",
   "execution_count": null,
   "metadata": {},
   "outputs": [],
   "source": [
    "bins = [0, 20000, 40000, 60000, 80000, 100000,120000]\n",
    "group_names=['0-20K', '20k - 40k', '40k - 60k', '60k - 80k', '80k - 100k', '100k - 120k']\n",
    "census_2018['Zip Code Population Bins'] = pd.cut(census_2018['Population'], bins, labels = group_names, include_lowest =True)\n",
    "census_2018['Zip Code Population Bins'].value_counts()"
   ]
  },
  {
   "cell_type": "code",
   "execution_count": null,
   "metadata": {},
   "outputs": [],
   "source": []
  }
 ],
 "metadata": {
  "kernelspec": {
   "display_name": "Python 3",
   "language": "python",
   "name": "python3"
  },
  "language_info": {
   "codemirror_mode": {
    "name": "ipython",
    "version": 3
   },
   "file_extension": ".py",
   "mimetype": "text/x-python",
   "name": "python",
   "nbconvert_exporter": "python",
   "pygments_lexer": "ipython3",
   "version": "3.8.3"
  }
 },
 "nbformat": 4,
 "nbformat_minor": 4
}
