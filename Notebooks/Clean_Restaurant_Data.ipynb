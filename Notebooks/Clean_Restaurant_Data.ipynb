{
 "cells": [
  {
   "cell_type": "code",
   "execution_count": 81,
   "metadata": {},
   "outputs": [],
   "source": [
    "# Dependencies and Setup\n",
    "import matplotlib.pyplot as plt\n",
    "import pandas as pd\n",
    "import numpy as np\n",
    "import requests\n",
    "import gmaps\n",
    "import os\n",
    "import json\n",
    "import seaborn as sns\n",
    "\n",
    "\n",
    "# Import API key\n",
    "from config import g_key"
   ]
  },
  {
   "cell_type": "code",
   "execution_count": 29,
   "metadata": {},
   "outputs": [],
   "source": [
    "# Files to Load (Remember to Change These)\n",
    "fast_food_restaurants_2018 = \"../Resources/Fast_Food_Restaurants_2018.csv\"\n",
    "census_2018 =\"../Resources/census_data_clean_2018.csv\"\n",
    "# Read files into Pandas DF\n",
    "Rest_2018 = pd.read_csv(fast_food_restaurants_2018)\n",
    "census_2018=pd.read_csv(census_2018)"
   ]
  },
  {
   "cell_type": "code",
   "execution_count": 30,
   "metadata": {},
   "outputs": [
    {
     "data": {
      "text/plain": [
       "Index(['dateAdded', 'dateUpdated', 'address', 'categories', 'city', 'country',\n",
       "       'keys', 'latitude', 'longitude', 'name', 'postalCode', 'province'],\n",
       "      dtype='object')"
      ]
     },
     "execution_count": 30,
     "metadata": {},
     "output_type": "execute_result"
    }
   ],
   "source": [
    "# remove columns we will not need\n",
    "Rest_2018=Rest_2018.drop(['id','sourceURLs','websites'], axis =1)\n",
    "Rest_2018.columns"
   ]
  },
  {
   "cell_type": "code",
   "execution_count": 31,
   "metadata": {},
   "outputs": [
    {
     "data": {
      "text/html": [
       "<div>\n",
       "<style scoped>\n",
       "    .dataframe tbody tr th:only-of-type {\n",
       "        vertical-align: middle;\n",
       "    }\n",
       "\n",
       "    .dataframe tbody tr th {\n",
       "        vertical-align: top;\n",
       "    }\n",
       "\n",
       "    .dataframe thead th {\n",
       "        text-align: right;\n",
       "    }\n",
       "</style>\n",
       "<table border=\"1\" class=\"dataframe\">\n",
       "  <thead>\n",
       "    <tr style=\"text-align: right;\">\n",
       "      <th></th>\n",
       "      <th>Name</th>\n",
       "      <th>Address</th>\n",
       "      <th>City</th>\n",
       "      <th>State</th>\n",
       "      <th>Zip Code</th>\n",
       "      <th>Country</th>\n",
       "      <th>Latitude</th>\n",
       "      <th>Longitude</th>\n",
       "      <th>categories</th>\n",
       "    </tr>\n",
       "  </thead>\n",
       "  <tbody>\n",
       "    <tr>\n",
       "      <th>0</th>\n",
       "      <td>SONIC Drive In</td>\n",
       "      <td>800 N Canal Blvd</td>\n",
       "      <td>Thibodaux</td>\n",
       "      <td>LA</td>\n",
       "      <td>70301</td>\n",
       "      <td>US</td>\n",
       "      <td>29.814697</td>\n",
       "      <td>-90.814742</td>\n",
       "      <td>American Restaurant and Fast Food Restaurant</td>\n",
       "    </tr>\n",
       "    <tr>\n",
       "      <th>1</th>\n",
       "      <td>SONIC Drive In</td>\n",
       "      <td>800 N Canal Blvd</td>\n",
       "      <td>Thibodaux</td>\n",
       "      <td>LA</td>\n",
       "      <td>70301</td>\n",
       "      <td>US</td>\n",
       "      <td>29.814697</td>\n",
       "      <td>-90.814742</td>\n",
       "      <td>Fast Food Restaurants</td>\n",
       "    </tr>\n",
       "    <tr>\n",
       "      <th>2</th>\n",
       "      <td>Taco Bell</td>\n",
       "      <td>206 Wears Valley Rd</td>\n",
       "      <td>Pigeon Forge</td>\n",
       "      <td>TN</td>\n",
       "      <td>37863</td>\n",
       "      <td>US</td>\n",
       "      <td>35.803788</td>\n",
       "      <td>-83.580553</td>\n",
       "      <td>Fast Food Restaurant</td>\n",
       "    </tr>\n",
       "    <tr>\n",
       "      <th>3</th>\n",
       "      <td>Arby's</td>\n",
       "      <td>3652 Parkway</td>\n",
       "      <td>Pigeon Forge</td>\n",
       "      <td>TN</td>\n",
       "      <td>37863</td>\n",
       "      <td>US</td>\n",
       "      <td>35.782339</td>\n",
       "      <td>-83.551408</td>\n",
       "      <td>Fast Food</td>\n",
       "    </tr>\n",
       "    <tr>\n",
       "      <th>4</th>\n",
       "      <td>Steak 'n Shake</td>\n",
       "      <td>2118 Mt Zion Parkway</td>\n",
       "      <td>Morrow</td>\n",
       "      <td>GA</td>\n",
       "      <td>30260</td>\n",
       "      <td>US</td>\n",
       "      <td>33.562738</td>\n",
       "      <td>-84.321143</td>\n",
       "      <td>Fast Food Restaurant</td>\n",
       "    </tr>\n",
       "  </tbody>\n",
       "</table>\n",
       "</div>"
      ],
      "text/plain": [
       "             Name               Address          City State Zip Code Country  \\\n",
       "0  SONIC Drive In      800 N Canal Blvd     Thibodaux    LA    70301      US   \n",
       "1  SONIC Drive In      800 N Canal Blvd     Thibodaux    LA    70301      US   \n",
       "2       Taco Bell   206 Wears Valley Rd  Pigeon Forge    TN    37863      US   \n",
       "3          Arby's          3652 Parkway  Pigeon Forge    TN    37863      US   \n",
       "4  Steak 'n Shake  2118 Mt Zion Parkway        Morrow    GA    30260      US   \n",
       "\n",
       "    Latitude  Longitude                                    categories  \n",
       "0  29.814697 -90.814742  American Restaurant and Fast Food Restaurant  \n",
       "1  29.814697 -90.814742                         Fast Food Restaurants  \n",
       "2  35.803788 -83.580553                          Fast Food Restaurant  \n",
       "3  35.782339 -83.551408                                     Fast Food  \n",
       "4  33.562738 -84.321143                          Fast Food Restaurant  "
      ]
     },
     "execution_count": 31,
     "metadata": {},
     "output_type": "execute_result"
    }
   ],
   "source": [
    "# reorganize/rename columns\n",
    "Rest_2018 = Rest_2018.rename(columns={'name':'Name', 'address': 'Address', 'city': 'City', 'country': 'Country', 'latitude': 'Latitude', 'longitude':'Longitude', 'postalCode': 'Zip Code',\\\n",
    "                                     'province': 'State'})\n",
    "Rest_2018 = Rest_2018[['Name', 'Address', 'City','State', 'Zip Code','Country', 'Latitude', 'Longitude','categories']]\n",
    "Rest_2018.head()"
   ]
  },
  {
   "cell_type": "code",
   "execution_count": 32,
   "metadata": {},
   "outputs": [
    {
     "name": "stdout",
     "output_type": "stream",
     "text": [
      "571\n",
      "['7-Eleven' '90 Miles Cuban Cafe' 'A&W/Long John Silvers'\n",
      " \"A's Ace Burgers\" 'Abruzzi Pizza' 'Acropolis Gyro Palace'\n",
      " 'Adobe Cantina Salsa' 'Ak Buffet' 'All About Burger'\n",
      " 'Ameci Pizza & Pasta' \"Andy's Frozen Custard\" \"Angelina's Pizza\"\n",
      " \"Ani's Chicken\" \"Arby's\" \"Arby's - Closed\" 'Arbys' 'Arctic Circle'\n",
      " \"Arni's Crawfordsville\" \"Arthur Treacher's Fish & Chips\" 'Au Bon Pain'\n",
      " \"Auntie Anne's\" \"Auntie Anne's Pretzels\" 'Ay Jalisco' 'B Good'\n",
      " 'B&D Burgers' \"B's Pizza\" 'B.GOOD' 'BURGERFI' 'Back Yard Burgers'\n",
      " 'Backyard Grill' \"Bad Daddy's Burger Bar\" 'Baja Fresh Mexican Grill'\n",
      " \"Baker's Drive Thru\" \"Baker's Drive-thru\" 'Band Box Diner' 'Barberitos'\n",
      " \"Barro's Pizza\" 'Baskin-Robbins' 'Batter Up' 'BeanThru' 'Beef Villa'\n",
      " \"Bell's Pizza\" 'Belleria Pizzeria' \"Ben & Jerry's\" \"Ben and Jerry's\"\n",
      " \"Bennidito's Pizza\" 'Best Gyros' 'Big House Burgers' 'Big Island Pizza'\n",
      " 'Bistro To Go' 'Blackies Hotdog Stand' 'Blackjack Pizza'\n",
      " \"Blake's Lotaburger\" 'Blimpie' 'Blue Coast Burrito' 'Boardwalk Grill'\n",
      " 'Bob Evans' 'Bob Evans Restaurant' \"Bobby's Burger Palace\"\n",
      " 'Boddie Noell Enterprises Inc' 'Bojangles'\n",
      " \"Bojangles' Famous Chicken 'n Biscuits\" 'Boloco' \"Boomer's Drive-In\"\n",
      " 'Boston Burger Company' 'Boston Market' 'Boston Road Pizza'\n",
      " 'Boys Burgers' \"Braum's\" 'Bristol 45 Diner' \"Bubba's Texas Burger Shack\"\n",
      " \"Bucky's Family Restaurant\" 'Buona Vita' 'Burger Basket' 'Burger House'\n",
      " 'Burger King' 'Burger King/Popeyes' 'Burger King¬Æ' 'Burrito Bros.'\n",
      " \"Bush's Chicken\" 'CASA Mexicana' \"CD's Wings\" 'Cafe Paris'\n",
      " 'Cafe Zona Rosa' 'California Chicken Cafe' 'California Tortilla'\n",
      " 'Capri Italian Restaurant' 'Capri Restaurant' \"Capriotti's Sandwich Shop\"\n",
      " \"Captain D's\" \"Captain D's Seafood\" \"Carl's Jr\"\n",
      " \"Carl's Jr / Green Burrito\" \"Carl's Jr.\" \"Carl's Jr. / Green Burrito\"\n",
      " \"Carl's Jr. / The Green Burrito\" 'Carvel' \"Casey's General Store\"\n",
      " 'Caseys Carry Out Pizza' \"Chanello's Pizza\" \"Charley's Grilled Subs\"\n",
      " 'Charleys Philly Steaks' \"Charlie's Pizzeria\" \"Charlie's Restaurant\"\n",
      " 'Charo Chicken' \"Checker's Pizza\" 'Checkers' 'Chicago Pizza With A Twist'\n",
      " 'Chick-Fil-A' 'Chick-fil-A' 'Chicken Express' 'Chicken Inn'\n",
      " 'Chicken Kitchen' \"Chicken Mary's\" 'China Bowl Take Out Restaurant'\n",
      " 'China Buffet' 'China City' 'China Garden' 'China Restaurant'\n",
      " 'Chinatown Express' 'Chinatown Inn' 'Chipotle' 'Chipotle Mexican Grill'\n",
      " \"Christo's Original\" 'Chronic Tacos' 'Chun Wah Kam Noodle Factory'\n",
      " \"Church's Chicken\" 'Citizen Burger Bar' 'Clambake Seafood Restaurant'\n",
      " 'Cluck-U Chicken' 'Cobani Gyro Kebab' 'Comet Burgers' 'Cook Out'\n",
      " 'Cook St. Helena' 'Copper Oven Artisan Pizza' 'Cottage Inn Pizza'\n",
      " 'Country Buffet' \"Cousin's Subs\" 'Cozumel' 'Cremo Drive-In' 'Creperie'\n",
      " 'Crown Fried Chicken' \"Culver's\" \"Cupie's Drive-In\" 'D & M Subs'\n",
      " \"D'Angelo Grilled Sandwiches\" 'Dairy Heaven' 'Dairy Queen'\n",
      " 'Dairy Queen (Treat Only)' 'Danielle Inc' 'De Afghanan Kabob House'\n",
      " 'Del Taco' \"Dick's Hamburgers\" \"Dominick's Italian Restaurant\"\n",
      " 'Dominion Pizza' \"Domino's Pizza\" \"Don & Millie's\" 'Dragon Dragon'\n",
      " 'Dunkin Donuts' \"Dunkin' Donuts\" 'Earth Fare' 'East of Edens' \"Eegee's\"\n",
      " 'Einstein Bros Bagels' 'El Burrito Loco' 'El Original' 'El Pollo Loco'\n",
      " 'El Pollo Regio' 'El Ranchito Taco Shop' 'El Sombrero' 'El Taquito'\n",
      " 'Errandbug Fast Restaurant Delivery' \"Eudici's Pizza\" 'Extreme Pita'\n",
      " 'Fajita Grill' \"Famous Dave's\" 'Farmer Boys' 'Fashion Cafe'\n",
      " \"Fast Eddie's MOAB\" 'Fat Boy Burgers' \"Fat Mo's Burgers\" \"Fat Patty's\"\n",
      " 'Fatburger' \"Fazoli's\" \"Fazzari's\" 'Festival Eatery'\n",
      " \"Filippi's Pizza Grotto\" 'Firehouse Subs' 'Five Guys'\n",
      " 'Five Guys Burgers And Fries' 'Five Guys Burgers Fries' 'Flame Broiler'\n",
      " 'Flaming Grill and Buffet' 'Flushing A' 'Flying J' \"Foster's Freeze\"\n",
      " 'Fosters Freeze' 'Four Burgers' \"Fox's Gourmet Delicatessen\"\n",
      " \"Fox's Pizza Den\" 'Frankies' 'Fratellos Hot Dogs' 'Frates Drive-In'\n",
      " 'Fuddruckers' 'Fuku' 'GD Bro Burger' \"Gambino's Pizza\"\n",
      " 'Gangnam Style Korean Kitchen' 'Garden Catering' 'Genghis Grill'\n",
      " \"George's Gyros Spot 2\" 'Git-It-N-Git'\n",
      " 'Glorious Foods Gourmet to go & Catering' 'Gold Star Chili'\n",
      " 'Golden Chick' 'Golden Dragon' 'Golden Harvest Chinese Restaurant'\n",
      " 'Good Guys Pizza' 'Gourmet Grill' 'Grand China Chinese Restaurant'\n",
      " 'Grande Italian Restaurant' \"Grandy's\" 'Great American Hamburger Pie Co'\n",
      " 'Great Bend Taco' 'Great Wall Restaurant' 'Great Wraps' \"Guerrazzi's\"\n",
      " \"Gus's Carryout\" 'Gyromania Grill' 'Gyros Express' 'Halo Burger'\n",
      " 'Happy Dragon' \"Hardee's\" \"Hardee's / Red Burrito\" \"Hardee's/red Burrito\"\n",
      " 'Hardees' \"Heff's Burgers\" 'Henny Penny Family Restaurant'\n",
      " 'Hernandez Mexican Restaurant' 'HiBoy Drive-in' 'High Tech Burrito'\n",
      " 'Hilton Boston Logan Airport' \"Hobo's Korner Kitchen\" 'Hometown Buffet'\n",
      " 'Hon Lin Restaurant' 'Hot Dog on a Stick' 'Hot Lips Pizza' 'Huddle House'\n",
      " 'Hunan Gardens' 'In-N-Out Burger' 'Islands Restaurant'\n",
      " 'Italian Pizzeria Restaurant' 'Italian Village Pizza' \"Italo's Pizza\"\n",
      " \"Ivan's Restaurant\" 'Jack In The Box' 'Jack in the Box'\n",
      " 'Jack in the Box -' \"Jack's Goal Line Stand\" 'Jacks N Joe'\n",
      " \"Jake's Wayback Burgers\" 'Jalsa Indian Fast Food' 'Jamba Juice'\n",
      " \"Jason's Deli\" \"Jerry's Subs & Pizza\" \"Jersey Mike's Subs\"\n",
      " \"Jim Bob's Chicken Fingers\" \"Jim's Steakout\" \"Jim's Steaks\"\n",
      " \"Jimmy John's\" 'Jimmy Johns' \"Jimmy's Grotto\" \"Joe's Crab Shack\"\n",
      " 'Johnny Rockets' \"Johnny's Wife's Place\" \"Johnson's Popcorn\" 'Jollibee'\n",
      " 'Jon Smith Subs' 'KFC' 'KFC - Kentucky Fried Chicken' 'KFC/AW'\n",
      " 'KFC/Long John Silvers' 'KFC/Taco Bell' \"Kasa's Pizza\"\n",
      " \"Kim's Oriental Kitchen\" 'King Gyros' 'King Wah' 'King of Wings' 'Kismet'\n",
      " \"Kosta's Gyros\" 'Kow Thai Take Out' 'Krispy Krunchy Chicken' 'Krystal'\n",
      " 'Kum & Go' 'Kumagoro Fine Japanese Restaurant and Sushi Bar'\n",
      " 'La Hacienda Mexican Restaurant' \"Lacey's On The Hill Restaurant\"\n",
      " 'Lake Trout 2' 'Lakewood Ranch Baptist Church' 'Legends Burgers'\n",
      " 'Legendz' \"Lilly's Restaurant\" \"Lin's Garden\" \"Lion's Choice\"\n",
      " \"Little Caesar's Pizza\" 'Little Caesars' 'Little Caesars Pizza'\n",
      " 'Little Italy' 'Little Q Hot Pot' 'Lobster Hut' 'Local Burger'\n",
      " \"Long John Silver's\" \"Long John Silver's / AW\" 'Long John Silvers'\n",
      " 'Long John Silvers / A&W' 'Los Cotijas Taco Shop' 'Loving Hut'\n",
      " 'Low Chinese American Restaurant' \"Luby's\" \"Lupo's Char-Pit\" \"Ly's Cafe\"\n",
      " \"Mah's Garden Restaurant\" 'Maid-rite' 'Maki Fresh' \"Mama's Fried Chicken\"\n",
      " 'Mandarin Garden' 'Mangia Pizza' 'Marathon'\n",
      " \"Mason's Famous Lobster Rolls\" 'Mc Donalds' \"McAlister's Deli\"\n",
      " \"McDonald's\" \"McDonald's of Rolesville\" 'McDonalds' \"McDonalds's\"\n",
      " \"Mcdonald's\" 'Mcdonalds' 'Mcdonalds Whitehouse' 'Megs Drive In'\n",
      " \"Mickey's Gyros & Ribs\" 'Mignano Bros' \"Miguel's Jr\" 'Milk Street Cafe'\n",
      " \"Miss Katie's Diner\" \"Moe's Burger Joint\" \"Moe's Cafe\"\n",
      " \"Moe's Southwest Grill\" \"Mooney's Ice Cream Store\" 'Mr Hero' 'Mr Taco'\n",
      " 'Mr. Chicken' 'Mr. Gyros Greek Food & Pastry' 'Mr. Hero' 'Mr. Hoagie'\n",
      " 'Mrs. Fields' 'Mustard Seed' \"My Daddy's Pizza & Grille\"\n",
      " \"Nathan's Famous\" \"Natraj's Tandoori\" 'New York Pizza Department'\n",
      " \"Nick's Gyros\" \"Nino's Pizzarama\" 'Ocean Empire Restaurant'\n",
      " 'Old Carolina Barbecue Company' 'Old Country Buffet'\n",
      " 'Old Mill Crab House' 'Orange Julius' \"Original Tommy's Hamburgers\"\n",
      " \"Oscar's Restaurant\" 'PDQ' \"Pal's Sudden Service\" \"Palio's Pizza Cafe\"\n",
      " 'Panda Express' 'Panda Express Innovation Kitchen' 'Panera Bread'\n",
      " \"Papa Gino's\" 'Papa Gyros' \"Papa J's\" \"Papa Joe's Pizza\"\n",
      " \"Papa John's Pizza\" 'Parkside Gyros' \"Patrick's on Third\" 'Peach Garden'\n",
      " 'Pei Wei' 'Penguin Point' 'Penn Station East Coast Subs'\n",
      " \"Penn's Thai Cafe\" 'PepperJax Grill' 'Pepperjax Grill'\n",
      " \"Petro's Chili & Chips\" \"Photo's Hot Dogs\" 'Pick Up Stix' 'Picnic Basket'\n",
      " 'Pilot Travel Center' \"Pita's Republic\" 'Pizza Barn' 'Pizza Guys'\n",
      " 'Pizza Hut' 'Pizza Inn' 'Pizza Pipeline' 'Pizza Pro' 'Pizza Pub'\n",
      " \"Plato's Closet\" 'Players Grill' 'Poki Roll' 'Pollo Campero'\n",
      " 'Pollo Tropical' 'Pony Express To Go' \"Popeye's Louisiana Kitchen\"\n",
      " 'Popeyes' 'Popeyes Chicken & Biscuits' 'Popeyes Chicken Biscuits'\n",
      " 'Popeyes Louisiana Kitchen' 'Port of Subs' \"Portillo's\" 'Pretzel Maker'\n",
      " 'Pretzel Time' \"Price's Chicken Coop\" 'Primo Hoagies' \"Primo's Pizza\"\n",
      " 'QDOBA Mexican Eats' 'Qdoba Mexican Eats' 'Qdoba Mexican Grill'\n",
      " \"Quizno's\" 'Quiznos' 'Quiznos Sub' \"Raising Cane's\"\n",
      " \"Raising Cane's Chicken Fingers\" 'Raising Canes' \"Rally's\"\n",
      " \"Rally's Hamburgers\" 'Rallys' \"Rascal's Teriyaki Grill\"\n",
      " \"Ray J's American Grill\" 'Red Baron Drive-In' 'Regions Bank'\n",
      " \"Richard's Pizza\" \"Rick's Drive In Out\" \"Rico's Pizza & Subs\"\n",
      " \"Riviera D'Italia\" 'Roche Bros.' 'Roma Pizza' 'Romas Pizza'\n",
      " 'Round Table Pizza' \"Rubio's\" 'Runza' \"Ryan's\" 'SONIC Drive In'\n",
      " 'SONIC Drive-In' 'SUBWAY' 'SUBWAY¬Æ' 'Sakana'\n",
      " 'Sakura Japanese Restaurant' 'Salad Creations' 'Saladworks' \"Sam's Gyros\"\n",
      " \"Sam's Pizza Restaurant\" 'Sarku Japan' 'Sbarro' \"Schlotzsky's\"\n",
      " 'Sesame Burgers & Beer' 'Shake Shack' \"Shamus's Sandwich Shoppe\"\n",
      " 'Shangri-la Chinese Restaurant' 'Shawarma Kebab' 'Sheetz' 'Shell'\n",
      " 'ShopHouse Southeast Asian Kitchen' 'Siam Fusion' \"Simple Simon's Pizza\"\n",
      " 'Skyline Chili' 'Smashburger' \"Smithfield's Chicken 'n Bar-b-q\"\n",
      " 'Smoothie King' 'Sonic' \"Sonic America's Drive-In\" 'Sonic Drive In'\n",
      " 'Sonic Drive in' 'Sonic Drive-In' 'Spangles' 'St. Clair Broiler'\n",
      " 'Starbucks Coffee' \"Steak 'n Shake\" 'Steak Escape' 'Steak N Shake'\n",
      " 'Steele Pier Hotdogs' \"Stoko's\" 'Sub Conscious' 'Subway' 'Sumo Steaks'\n",
      " 'Sunrise Gyros' 'Super Wings' 'Surfside Burger Shack'\n",
      " \"Sweet Magnolia's Cafe Bakery\" 'T-Mobile' \"Tacconelli's Pizza\"\n",
      " 'Taco Bell' 'Taco Bell / KFC' 'Taco Bell/KFC' 'Taco Bell/Pizza Hut'\n",
      " \"Taco Bob's\" 'Taco Bueno' 'Taco Cabana' 'Taco Casa' 'Taco Del Mar'\n",
      " \"Taco John's\" 'Taco Mama' 'Taco Mayo' 'Taco Time' \"Tam's Burgers\"\n",
      " 'Tanuki Sushi Bar and Garden' 'Taqueria' 'Tastee Freez' 'Thai Delight'\n",
      " \"The 50's Cafe\" \"The Arch at McDonald's Campus Office Building\"\n",
      " 'The Corner Cafe' 'The Dog Pit' 'The Extreme Pita' 'The Flame Broiler'\n",
      " 'The Grille' 'The Hat' 'The Hotdog Shoppe' 'The New Chalet'\n",
      " 'The Pizza Company' 'The Sandwich Place' 'The Swinging Door'\n",
      " 'TheMINT Gastropub' 'Tiffin' \"Togi's Sub Station\" \"Togo's\"\n",
      " \"Tom's Drive In\" \"Tony Wang's Chinese Restaurant\" 'Tonys Pizza'\n",
      " \"Topper's Pizza\" 'Toppers Pizza' 'Tropical Smoothie Cafe'\n",
      " 'Tropicana Pizza' \"Tumby's Pizza\" 'Umami Burger' 'VeganBurg'\n",
      " 'Villa Italian Kitchen' 'Vista Drive In' 'W.G. Grinders' 'Waffle House'\n",
      " 'Walmart Supercenter' 'Wawa' \"Wendy's\" \"Wendy's Valenti Management\"\n",
      " 'West Point Pizza' 'Westchester Burger Company' \"Wetzel's Pretzels\"\n",
      " 'Whataburger' 'Which Wich' \"Whipper's Pizza\" 'White Castle'\n",
      " 'Wienerschitzel' 'Wienerschnitzel' \"Wild Willy's\" 'Wingstop'\n",
      " 'Wingstop Restaurant' 'Wise Guys A Chicago Eatery' 'Wolf River Diner'\n",
      " \"Wolf's Dairy Queen\" 'Yoshinoya' 'Zankou Chicken' \"Zaxby's\"\n",
      " \"Zaxby's Chicken Fingers & Buffalo Wings\" \"Zio's Italian Kitchen\"\n",
      " 'b.good' 'iSushi']\n"
     ]
    }
   ],
   "source": [
    "# get unique names in list and sort alphabetically to assist with cleaning\n",
    "names = Rest_2018['Name'].unique()\n",
    "names.sort()\n",
    "print(len(names))\n",
    "print(names)"
   ]
  },
  {
   "cell_type": "code",
   "execution_count": 33,
   "metadata": {},
   "outputs": [],
   "source": [
    "Rest_2018['Name'] = Rest_2018['Name'].replace({\"Arby's - Closed\":\"Arby's\",'Arbys': \"Arby's\", \"Auntie Anne's\": \"Auntie Anne's Pretzels\",\"Baker's Drive Thru\":\"Baker's Drive-thru\",\"Ben and Jerry's\": \"Ben & Jerry's\",'Bob Evans Restaurant':'Bob Evans',\"Bojangles' Famous Chicken 'n Biscuits\": 'Bojangles', 'Burger King¬Æ': 'Burger King','Capri Italian Restaurant':'Capri Restaurant',\"Carl's Jr.\":\"Carl's Jr\",\"Carl's Jr. / Green Burrito\":\"Carl's Jr\",\"Carl's Jr / Green Burrito\":\"Carl's Jr\",'Caseys Carry Out Pizza':\"Casey's General Store\",\"Charley's Grilled Subs\":'Charleys Philly Steaks',\"Checker's Pizza\":'Checkers','Chick-fil-A':'Chick-Fil-A', 'Chipotle':'Chipotle Mexican Grill','Dairy Queen (Treat Only)':'Dairy Queen','Dunkin Donuts':\"Dunkin' Donuts\",'Five Guys Burgers Fries':'Five Guys', 'Five Guys Burgers And Fries':'Five Guys',\"Foster's Freeze\":'Fosters Freeze', \"Hardee's\":'Hardees',\"Hardee's / Red Burrito\":'Hardees', \"Hardee's/red Burrito\":'Hardees','Jack in the Box':'Jack In The Box', 'Jack in the Box -':'Jack In The Box'})\n",
    "Rest_2018['Name'] = Rest_2018['Name'].replace({\"Jimmy John's\":'Jimmy Johns','KFC - Kentucky Fried Chicken':'KFC','KFC/AW':'KFC','KFC/Long John Silvers':'KFC', 'KFC/Taco Bell':'KFC'})\n",
    "Rest_2018['Name'] = Rest_2018['Name'].replace({\"Little Caesar's Pizza\":'Little Caesars', 'Little Caesars Pizza':'Little Caesars',\"Long John Silver's / AW\" 'Long John Silvers':\"Long John Silver's\",'Long John Silvers / A&W':\"Long John Silver's\",'Mc Donalds':\"McDonald's\",\"McDonald's of Rolesville\":\"McDonald's\",'McDonalds':\"McDonald's\",\"McDonalds's\":\"McDonald's\",\"Mcdonald's\":\"McDonald's\",'Mcdonalds':\"McDonald's\",'Mcdonalds Whitehouse':\"McDonald's\"})\n",
    "Rest_2018['Name'] = Rest_2018['Name'].replace({'Panda Express Innovation Kitchen':'Panda Express' ,'PepperJax Grill':'Pepperjax Grill',\"Popeye's Louisiana Kitchen\":'Popeyes','Popeyes Chicken & Biscuits':'Popeyes','Popeyes Chicken Biscuits':'Popeyes','Popeyes Louisiana Kitchen':'Popeyes'})\n",
    "Rest_2018['Name'] = Rest_2018['Name'].replace({'QDOBA Mexican Eats':'Qdoba Mexican Grill', 'Qdoba Mexican Eats':'Qdoba Mexican Grill', \"Quizno's\": 'Quiznos', 'Quiznos Sub':'Quiznos',\"Raising Cane's\":'Raising Canes', \"Raising Cane's Chicken Fingers\":'Raising Canes'})\n",
    "Rest_2018['Name'] = Rest_2018['Name'].replace({\"Rally's Hamburgers\":\"Rally's\", 'Rallys':\"Rally's\",'Roma Pizza':'Romas Pizza','SONIC Drive In': 'SONIC Drive-In', 'SUBWAY¬Æ':'SUBWAY'})\n",
    "Rest_2018['Name'] = Rest_2018['Name'].replace({'Sonic':'SONIC Drive-In', \"Sonic America's Drive-In\":'SONIC Drive-In','Sonic Drive In':'SONIC Drive-In','Sonic Drive in':'SONIC Drive-In','Sonic Drive-In':'SONIC Drive-In',\"Steak 'n Shake\":'Steak N Shake','Taco Bell / KFC':'Taco Bell' ,'Taco Bell/KFC':'Taco Bell','Taco Bell/Pizza Hut':'Taco Bell'})\n",
    "Rest_2018['Name'] = Rest_2018['Name'].replace({ 'Wienerschitzel':'Wienerschnitzel','Wingstop Restaurant':'Wingstop',\"Wolf's Dairy Queen\" :'Dairy Queen',\"Zaxby's Chicken Fingers & Buffalo Wings\": \"Zaxby's\",'b.good':'B.GOOD', 'A&W/Long John Silvers':\"Long John Silver's\"})"
   ]
  },
  {
   "cell_type": "code",
   "execution_count": 34,
   "metadata": {},
   "outputs": [
    {
     "name": "stdout",
     "output_type": "stream",
     "text": [
      "10000\n"
     ]
    }
   ],
   "source": [
    "print(len(Rest_2018))"
   ]
  },
  {
   "cell_type": "code",
   "execution_count": 35,
   "metadata": {},
   "outputs": [],
   "source": [
    "# Remove locations that are not food related 'Walmart Supercenter''T-Mobile''Hilton Boston Logan Airport''7-Eleven'\n",
    "# https://thispointer.com/python-pandas-how-to-drop-rows-in-dataframe-by-conditions-on-column-values/\n",
    "indexNames= Rest_2018[(Rest_2018['Name']=='Walmart Supercenter')].index\n",
    "Rest_2018.drop(indexNames, inplace=True)"
   ]
  },
  {
   "cell_type": "code",
   "execution_count": 36,
   "metadata": {},
   "outputs": [],
   "source": [
    "indexNames= Rest_2018[(Rest_2018['Name']=='T-Mobile')].index\n",
    "Rest_2018.drop(indexNames, inplace=True)"
   ]
  },
  {
   "cell_type": "code",
   "execution_count": 37,
   "metadata": {},
   "outputs": [],
   "source": [
    "indexNames= Rest_2018[(Rest_2018['Name']=='Hilton Boston Logan Airport')].index\n",
    "Rest_2018.drop(indexNames, inplace=True)"
   ]
  },
  {
   "cell_type": "code",
   "execution_count": 38,
   "metadata": {},
   "outputs": [
    {
     "name": "stdout",
     "output_type": "stream",
     "text": [
      "9977\n"
     ]
    },
    {
     "data": {
      "text/plain": [
       "493"
      ]
     },
     "execution_count": 38,
     "metadata": {},
     "output_type": "execute_result"
    }
   ],
   "source": [
    "indexNames= Rest_2018[(Rest_2018['Name']=='7-Eleven')].index\n",
    "Rest_2018.drop(indexNames, inplace=True)\n",
    "print(len(Rest_2018))\n",
    "Rest_2018['Name'].nunique()"
   ]
  },
  {
   "cell_type": "code",
   "execution_count": 39,
   "metadata": {},
   "outputs": [
    {
     "data": {
      "text/plain": [
       "McDonald's            1953\n",
       "Taco Bell             1036\n",
       "Burger King            834\n",
       "Subway                 776\n",
       "Arby's                 669\n",
       "                      ... \n",
       "Cremo Drive-In           1\n",
       "Charlie's Pizzeria       1\n",
       "Tom's Drive In           1\n",
       "Kum & Go                 1\n",
       "iSushi                   1\n",
       "Name: Name, Length: 493, dtype: int64"
      ]
     },
     "execution_count": 39,
     "metadata": {},
     "output_type": "execute_result"
    }
   ],
   "source": [
    "# find number of entries for each location\n",
    "Rest_2018['Name'].value_counts()"
   ]
  },
  {
   "cell_type": "code",
   "execution_count": 40,
   "metadata": {},
   "outputs": [
    {
     "name": "stdout",
     "output_type": "stream",
     "text": [
      "8526\n"
     ]
    },
    {
     "data": {
      "text/plain": [
       "McDonald's         1953\n",
       "Taco Bell          1036\n",
       "Burger King         834\n",
       "Subway              776\n",
       "Arby's              669\n",
       "Wendy's             628\n",
       "Jack In The Box     332\n",
       "Pizza Hut           230\n",
       "Chick-Fil-A         228\n",
       "Dairy Queen         220\n",
       "Domino's Pizza      215\n",
       "SONIC Drive-In      205\n",
       "KFC                 176\n",
       "Carl's Jr           130\n",
       "Jimmy Johns         121\n",
       "Hardees             104\n",
       "Krystal              82\n",
       "Panera Bread         76\n",
       "Dunkin' Donuts       76\n",
       "SUBWAY               73\n",
       "Culver's             71\n",
       "Del Taco             66\n",
       "Panda Express        62\n",
       "Steak N Shake        56\n",
       "In-N-Out Burger      54\n",
       "Taco John's          53\n",
       "Name: Name, dtype: int64"
      ]
     },
     "execution_count": 40,
     "metadata": {},
     "output_type": "execute_result"
    }
   ],
   "source": [
    "# Remove all locations that have less than 50 entries\n",
    "# https://www.thetopsites.net/article/58467286.shtml\n",
    "threshold = 50\n",
    "clean_rest_2018 = Rest_2018[Rest_2018.groupby('Name')['Name'].transform('count')>threshold].copy()\n",
    "print(len(clean_rest_2018))\n",
    "clean_rest_2018['Name'].value_counts()"
   ]
  },
  {
   "cell_type": "code",
   "execution_count": 41,
   "metadata": {},
   "outputs": [],
   "source": [
    "clean_rest_2018.to_csv('../Resources/clean_rest_2018.csv', encoding='utf-8', index = False)"
   ]
  },
  {
   "cell_type": "code",
   "execution_count": 42,
   "metadata": {},
   "outputs": [
    {
     "data": {
      "text/html": [
       "<div>\n",
       "<style scoped>\n",
       "    .dataframe tbody tr th:only-of-type {\n",
       "        vertical-align: middle;\n",
       "    }\n",
       "\n",
       "    .dataframe tbody tr th {\n",
       "        vertical-align: top;\n",
       "    }\n",
       "\n",
       "    .dataframe thead th {\n",
       "        text-align: right;\n",
       "    }\n",
       "</style>\n",
       "<table border=\"1\" class=\"dataframe\">\n",
       "  <thead>\n",
       "    <tr style=\"text-align: right;\">\n",
       "      <th></th>\n",
       "      <th>Name</th>\n",
       "      <th>Address</th>\n",
       "      <th>City</th>\n",
       "      <th>State</th>\n",
       "      <th>Zip Code</th>\n",
       "      <th>Country</th>\n",
       "      <th>Latitude</th>\n",
       "      <th>Longitude</th>\n",
       "    </tr>\n",
       "  </thead>\n",
       "  <tbody>\n",
       "    <tr>\n",
       "      <th>0</th>\n",
       "      <td>Chipotle Mexican Grill</td>\n",
       "      <td>346 W Magnolia Ave</td>\n",
       "      <td>Auburn</td>\n",
       "      <td>Alabama</td>\n",
       "      <td>36832</td>\n",
       "      <td>US</td>\n",
       "      <td>32.606813</td>\n",
       "      <td>-85.487328</td>\n",
       "    </tr>\n",
       "    <tr>\n",
       "      <th>1</th>\n",
       "      <td>Chipotle Mexican Grill</td>\n",
       "      <td>300 20th St S</td>\n",
       "      <td>Birmingham</td>\n",
       "      <td>Alabama</td>\n",
       "      <td>35233</td>\n",
       "      <td>US</td>\n",
       "      <td>33.509722</td>\n",
       "      <td>-86.802756</td>\n",
       "    </tr>\n",
       "  </tbody>\n",
       "</table>\n",
       "</div>"
      ],
      "text/plain": [
       "                     Name                Address        City    State  \\\n",
       "0  Chipotle Mexican Grill  346 W Magnolia Ave         Auburn  Alabama   \n",
       "1  Chipotle Mexican Grill       300 20th St S     Birmingham  Alabama   \n",
       "\n",
       "  Zip Code Country   Latitude  Longitude  \n",
       "0    36832      US  32.606813 -85.487328  \n",
       "1    35233      US  33.509722 -86.802756  "
      ]
     },
     "execution_count": 42,
     "metadata": {},
     "output_type": "execute_result"
    }
   ],
   "source": [
    "# combine with chipotle csv\n",
    "# first read get file then read into pandas DF\n",
    "Chipotle_stores = \"../Resources/chipotle_stores.csv\"\n",
    "chipotle = pd.read_csv(Chipotle_stores)\n",
    "chipotle.head(2)"
   ]
  },
  {
   "cell_type": "code",
   "execution_count": 43,
   "metadata": {},
   "outputs": [
    {
     "data": {
      "text/html": [
       "<div>\n",
       "<style scoped>\n",
       "    .dataframe tbody tr th:only-of-type {\n",
       "        vertical-align: middle;\n",
       "    }\n",
       "\n",
       "    .dataframe tbody tr th {\n",
       "        vertical-align: top;\n",
       "    }\n",
       "\n",
       "    .dataframe thead th {\n",
       "        text-align: right;\n",
       "    }\n",
       "</style>\n",
       "<table border=\"1\" class=\"dataframe\">\n",
       "  <thead>\n",
       "    <tr style=\"text-align: right;\">\n",
       "      <th></th>\n",
       "      <th>Name</th>\n",
       "      <th>Address</th>\n",
       "      <th>City</th>\n",
       "      <th>State</th>\n",
       "      <th>Zip Code</th>\n",
       "      <th>Country</th>\n",
       "      <th>Latitude</th>\n",
       "      <th>Longitude</th>\n",
       "      <th>categories</th>\n",
       "    </tr>\n",
       "  </thead>\n",
       "  <tbody>\n",
       "    <tr>\n",
       "      <th>0</th>\n",
       "      <td>SONIC Drive-In</td>\n",
       "      <td>800 N Canal Blvd</td>\n",
       "      <td>Thibodaux</td>\n",
       "      <td>LA</td>\n",
       "      <td>70301</td>\n",
       "      <td>US</td>\n",
       "      <td>29.814697</td>\n",
       "      <td>-90.814742</td>\n",
       "      <td>American Restaurant and Fast Food Restaurant</td>\n",
       "    </tr>\n",
       "    <tr>\n",
       "      <th>1</th>\n",
       "      <td>SONIC Drive-In</td>\n",
       "      <td>800 N Canal Blvd</td>\n",
       "      <td>Thibodaux</td>\n",
       "      <td>LA</td>\n",
       "      <td>70301</td>\n",
       "      <td>US</td>\n",
       "      <td>29.814697</td>\n",
       "      <td>-90.814742</td>\n",
       "      <td>Fast Food Restaurants</td>\n",
       "    </tr>\n",
       "  </tbody>\n",
       "</table>\n",
       "</div>"
      ],
      "text/plain": [
       "             Name           Address       City State Zip Code Country  \\\n",
       "0  SONIC Drive-In  800 N Canal Blvd  Thibodaux    LA    70301      US   \n",
       "1  SONIC Drive-In  800 N Canal Blvd  Thibodaux    LA    70301      US   \n",
       "\n",
       "    Latitude  Longitude                                    categories  \n",
       "0  29.814697 -90.814742  American Restaurant and Fast Food Restaurant  \n",
       "1  29.814697 -90.814742                         Fast Food Restaurants  "
      ]
     },
     "execution_count": 43,
     "metadata": {},
     "output_type": "execute_result"
    }
   ],
   "source": [
    "clean_rest_2018.head(2)"
   ]
  },
  {
   "cell_type": "code",
   "execution_count": 44,
   "metadata": {},
   "outputs": [
    {
     "data": {
      "text/html": [
       "<div>\n",
       "<style scoped>\n",
       "    .dataframe tbody tr th:only-of-type {\n",
       "        vertical-align: middle;\n",
       "    }\n",
       "\n",
       "    .dataframe tbody tr th {\n",
       "        vertical-align: top;\n",
       "    }\n",
       "\n",
       "    .dataframe thead th {\n",
       "        text-align: right;\n",
       "    }\n",
       "</style>\n",
       "<table border=\"1\" class=\"dataframe\">\n",
       "  <thead>\n",
       "    <tr style=\"text-align: right;\">\n",
       "      <th></th>\n",
       "      <th>Name</th>\n",
       "      <th>Address</th>\n",
       "      <th>City</th>\n",
       "      <th>State</th>\n",
       "      <th>Zip Code</th>\n",
       "      <th>Country</th>\n",
       "      <th>Latitude</th>\n",
       "      <th>Longitude</th>\n",
       "      <th>Categories</th>\n",
       "      <th>Population</th>\n",
       "      <th>Median Age</th>\n",
       "      <th>Household Income</th>\n",
       "      <th>Per Capita Income</th>\n",
       "      <th>Poverty Count</th>\n",
       "      <th>Poverty Rate</th>\n",
       "    </tr>\n",
       "  </thead>\n",
       "  <tbody>\n",
       "    <tr>\n",
       "      <th>0</th>\n",
       "      <td>Chipotle Mexican Grill</td>\n",
       "      <td>346 W Magnolia Ave</td>\n",
       "      <td>Auburn</td>\n",
       "      <td>Alabama</td>\n",
       "      <td>36832</td>\n",
       "      <td>US</td>\n",
       "      <td>32.606813</td>\n",
       "      <td>-85.487328</td>\n",
       "      <td>NaN</td>\n",
       "      <td>24509.0</td>\n",
       "      <td>23.7</td>\n",
       "      <td>27638.0</td>\n",
       "      <td>22390.0</td>\n",
       "      <td>9821.0</td>\n",
       "      <td>40.070994</td>\n",
       "    </tr>\n",
       "    <tr>\n",
       "      <th>1</th>\n",
       "      <td>Chipotle Mexican Grill</td>\n",
       "      <td>300 20th St S</td>\n",
       "      <td>Birmingham</td>\n",
       "      <td>Alabama</td>\n",
       "      <td>35233</td>\n",
       "      <td>US</td>\n",
       "      <td>33.509722</td>\n",
       "      <td>-86.802756</td>\n",
       "      <td>NaN</td>\n",
       "      <td>1715.0</td>\n",
       "      <td>27.7</td>\n",
       "      <td>41500.0</td>\n",
       "      <td>29812.0</td>\n",
       "      <td>655.0</td>\n",
       "      <td>38.192420</td>\n",
       "    </tr>\n",
       "    <tr>\n",
       "      <th>2</th>\n",
       "      <td>Chipotle Mexican Grill</td>\n",
       "      <td>3220 Morrow Rd</td>\n",
       "      <td>Birmingham</td>\n",
       "      <td>Alabama</td>\n",
       "      <td>35235</td>\n",
       "      <td>US</td>\n",
       "      <td>33.595581</td>\n",
       "      <td>-86.647437</td>\n",
       "      <td>NaN</td>\n",
       "      <td>20926.0</td>\n",
       "      <td>38.0</td>\n",
       "      <td>55609.0</td>\n",
       "      <td>25477.0</td>\n",
       "      <td>2829.0</td>\n",
       "      <td>13.519067</td>\n",
       "    </tr>\n",
       "    <tr>\n",
       "      <th>3</th>\n",
       "      <td>Chipotle Mexican Grill</td>\n",
       "      <td>4719 Highway 280</td>\n",
       "      <td>Birmingham</td>\n",
       "      <td>Alabama</td>\n",
       "      <td>35242</td>\n",
       "      <td>US</td>\n",
       "      <td>33.422582</td>\n",
       "      <td>-86.698279</td>\n",
       "      <td>NaN</td>\n",
       "      <td>55122.0</td>\n",
       "      <td>40.9</td>\n",
       "      <td>91966.0</td>\n",
       "      <td>51709.0</td>\n",
       "      <td>3641.0</td>\n",
       "      <td>6.605348</td>\n",
       "    </tr>\n",
       "    <tr>\n",
       "      <th>4</th>\n",
       "      <td>Chipotle Mexican Grill</td>\n",
       "      <td>1821 Cherokee Ave SW</td>\n",
       "      <td>Cullman</td>\n",
       "      <td>Alabama</td>\n",
       "      <td>35055</td>\n",
       "      <td>US</td>\n",
       "      <td>34.154134</td>\n",
       "      <td>-86.841220</td>\n",
       "      <td>NaN</td>\n",
       "      <td>20884.0</td>\n",
       "      <td>38.4</td>\n",
       "      <td>42252.0</td>\n",
       "      <td>23465.0</td>\n",
       "      <td>3202.0</td>\n",
       "      <td>15.332312</td>\n",
       "    </tr>\n",
       "  </tbody>\n",
       "</table>\n",
       "</div>"
      ],
      "text/plain": [
       "                     Name                  Address        City    State  \\\n",
       "0  Chipotle Mexican Grill    346 W Magnolia Ave         Auburn  Alabama   \n",
       "1  Chipotle Mexican Grill         300 20th St S     Birmingham  Alabama   \n",
       "2  Chipotle Mexican Grill       3220 Morrow Rd      Birmingham  Alabama   \n",
       "3  Chipotle Mexican Grill     4719 Highway 280      Birmingham  Alabama   \n",
       "4  Chipotle Mexican Grill  1821 Cherokee Ave SW        Cullman  Alabama   \n",
       "\n",
       "  Zip Code Country   Latitude  Longitude Categories  Population  Median Age  \\\n",
       "0    36832      US  32.606813 -85.487328        NaN     24509.0        23.7   \n",
       "1    35233      US  33.509722 -86.802756        NaN      1715.0        27.7   \n",
       "2    35235      US  33.595581 -86.647437        NaN     20926.0        38.0   \n",
       "3    35242      US  33.422582 -86.698279        NaN     55122.0        40.9   \n",
       "4    35055      US  34.154134 -86.841220        NaN     20884.0        38.4   \n",
       "\n",
       "   Household Income  Per Capita Income  Poverty Count  Poverty Rate  \n",
       "0           27638.0            22390.0         9821.0     40.070994  \n",
       "1           41500.0            29812.0          655.0     38.192420  \n",
       "2           55609.0            25477.0         2829.0     13.519067  \n",
       "3           91966.0            51709.0         3641.0      6.605348  \n",
       "4           42252.0            23465.0         3202.0     15.332312  "
      ]
     },
     "execution_count": 44,
     "metadata": {},
     "output_type": "execute_result"
    }
   ],
   "source": [
    "# wound up combinging via excel, could not get to combine without duplicate columns for address, city, etc. need to talk about at class\n",
    "\n",
    "all_rest_df = \"../Resources/All_rest_2018.csv\"\n",
    "all_rest_df = pd.read_csv(all_rest_df)\n",
    "all_rest_df.head()"
   ]
  },
  {
   "cell_type": "code",
   "execution_count": 85,
   "metadata": {},
   "outputs": [
    {
     "data": {
      "text/plain": [
       "count     11123.000000\n",
       "mean      33185.782253\n",
       "std       18376.080765\n",
       "min          66.000000\n",
       "25%       19706.000000\n",
       "50%       30695.000000\n",
       "75%       43647.500000\n",
       "max      114989.000000\n",
       "Name: Population, dtype: float64"
      ]
     },
     "execution_count": 85,
     "metadata": {},
     "output_type": "execute_result"
    }
   ],
   "source": [
    "all_rest_df['Population'].describe()\n"
   ]
  },
  {
   "cell_type": "code",
   "execution_count": 46,
   "metadata": {},
   "outputs": [
    {
     "name": "stdout",
     "output_type": "stream",
     "text": [
      "11155\n"
     ]
    },
    {
     "data": {
      "text/html": [
       "<div>\n",
       "<style scoped>\n",
       "    .dataframe tbody tr th:only-of-type {\n",
       "        vertical-align: middle;\n",
       "    }\n",
       "\n",
       "    .dataframe tbody tr th {\n",
       "        vertical-align: top;\n",
       "    }\n",
       "\n",
       "    .dataframe thead th {\n",
       "        text-align: right;\n",
       "    }\n",
       "</style>\n",
       "<table border=\"1\" class=\"dataframe\">\n",
       "  <thead>\n",
       "    <tr style=\"text-align: right;\">\n",
       "      <th></th>\n",
       "      <th>Name</th>\n",
       "      <th>Address</th>\n",
       "      <th>City</th>\n",
       "      <th>State</th>\n",
       "      <th>Zip Code</th>\n",
       "      <th>Country</th>\n",
       "      <th>Latitude</th>\n",
       "      <th>Longitude</th>\n",
       "      <th>Categories</th>\n",
       "      <th>Population</th>\n",
       "      <th>Median Age</th>\n",
       "      <th>Household Income</th>\n",
       "      <th>Per Capita Income</th>\n",
       "      <th>Poverty Count</th>\n",
       "      <th>Poverty Rate</th>\n",
       "    </tr>\n",
       "  </thead>\n",
       "  <tbody>\n",
       "    <tr>\n",
       "      <th>0</th>\n",
       "      <td>Chipotle Mexican Grill</td>\n",
       "      <td>346 W Magnolia Ave</td>\n",
       "      <td>Auburn</td>\n",
       "      <td>Alabama</td>\n",
       "      <td>36832</td>\n",
       "      <td>US</td>\n",
       "      <td>32.606813</td>\n",
       "      <td>-85.487328</td>\n",
       "      <td>NaN</td>\n",
       "      <td>24509.0</td>\n",
       "      <td>23.7</td>\n",
       "      <td>27638.0</td>\n",
       "      <td>22390.0</td>\n",
       "      <td>9821.0</td>\n",
       "      <td>40.070994</td>\n",
       "    </tr>\n",
       "    <tr>\n",
       "      <th>1</th>\n",
       "      <td>Chipotle Mexican Grill</td>\n",
       "      <td>300 20th St S</td>\n",
       "      <td>Birmingham</td>\n",
       "      <td>Alabama</td>\n",
       "      <td>35233</td>\n",
       "      <td>US</td>\n",
       "      <td>33.509722</td>\n",
       "      <td>-86.802756</td>\n",
       "      <td>NaN</td>\n",
       "      <td>1715.0</td>\n",
       "      <td>27.7</td>\n",
       "      <td>41500.0</td>\n",
       "      <td>29812.0</td>\n",
       "      <td>655.0</td>\n",
       "      <td>38.192420</td>\n",
       "    </tr>\n",
       "    <tr>\n",
       "      <th>2</th>\n",
       "      <td>Chipotle Mexican Grill</td>\n",
       "      <td>3220 Morrow Rd</td>\n",
       "      <td>Birmingham</td>\n",
       "      <td>Alabama</td>\n",
       "      <td>35235</td>\n",
       "      <td>US</td>\n",
       "      <td>33.595581</td>\n",
       "      <td>-86.647437</td>\n",
       "      <td>NaN</td>\n",
       "      <td>20926.0</td>\n",
       "      <td>38.0</td>\n",
       "      <td>55609.0</td>\n",
       "      <td>25477.0</td>\n",
       "      <td>2829.0</td>\n",
       "      <td>13.519067</td>\n",
       "    </tr>\n",
       "    <tr>\n",
       "      <th>3</th>\n",
       "      <td>Chipotle Mexican Grill</td>\n",
       "      <td>4719 Highway 280</td>\n",
       "      <td>Birmingham</td>\n",
       "      <td>Alabama</td>\n",
       "      <td>35242</td>\n",
       "      <td>US</td>\n",
       "      <td>33.422582</td>\n",
       "      <td>-86.698279</td>\n",
       "      <td>NaN</td>\n",
       "      <td>55122.0</td>\n",
       "      <td>40.9</td>\n",
       "      <td>91966.0</td>\n",
       "      <td>51709.0</td>\n",
       "      <td>3641.0</td>\n",
       "      <td>6.605348</td>\n",
       "    </tr>\n",
       "    <tr>\n",
       "      <th>4</th>\n",
       "      <td>Chipotle Mexican Grill</td>\n",
       "      <td>1821 Cherokee Ave SW</td>\n",
       "      <td>Cullman</td>\n",
       "      <td>Alabama</td>\n",
       "      <td>35055</td>\n",
       "      <td>US</td>\n",
       "      <td>34.154134</td>\n",
       "      <td>-86.841220</td>\n",
       "      <td>NaN</td>\n",
       "      <td>20884.0</td>\n",
       "      <td>38.4</td>\n",
       "      <td>42252.0</td>\n",
       "      <td>23465.0</td>\n",
       "      <td>3202.0</td>\n",
       "      <td>15.332312</td>\n",
       "    </tr>\n",
       "  </tbody>\n",
       "</table>\n",
       "</div>"
      ],
      "text/plain": [
       "                     Name                  Address        City    State  \\\n",
       "0  Chipotle Mexican Grill    346 W Magnolia Ave         Auburn  Alabama   \n",
       "1  Chipotle Mexican Grill         300 20th St S     Birmingham  Alabama   \n",
       "2  Chipotle Mexican Grill       3220 Morrow Rd      Birmingham  Alabama   \n",
       "3  Chipotle Mexican Grill     4719 Highway 280      Birmingham  Alabama   \n",
       "4  Chipotle Mexican Grill  1821 Cherokee Ave SW        Cullman  Alabama   \n",
       "\n",
       "  Zip Code Country   Latitude  Longitude Categories  Population  Median Age  \\\n",
       "0    36832      US  32.606813 -85.487328        NaN     24509.0        23.7   \n",
       "1    35233      US  33.509722 -86.802756        NaN      1715.0        27.7   \n",
       "2    35235      US  33.595581 -86.647437        NaN     20926.0        38.0   \n",
       "3    35242      US  33.422582 -86.698279        NaN     55122.0        40.9   \n",
       "4    35055      US  34.154134 -86.841220        NaN     20884.0        38.4   \n",
       "\n",
       "   Household Income  Per Capita Income  Poverty Count  Poverty Rate  \n",
       "0           27638.0            22390.0         9821.0     40.070994  \n",
       "1           41500.0            29812.0          655.0     38.192420  \n",
       "2           55609.0            25477.0         2829.0     13.519067  \n",
       "3           91966.0            51709.0         3641.0      6.605348  \n",
       "4           42252.0            23465.0         3202.0     15.332312  "
      ]
     },
     "execution_count": 46,
     "metadata": {},
     "output_type": "execute_result"
    }
   ],
   "source": [
    "print(len(all_rest_df))\n",
    "all_rest_df.head()"
   ]
  },
  {
   "cell_type": "code",
   "execution_count": 48,
   "metadata": {},
   "outputs": [
    {
     "name": "stdout",
     "output_type": "stream",
     "text": [
      "32455\n"
     ]
    }
   ],
   "source": [
    "print(len(census_2018))"
   ]
  },
  {
   "cell_type": "code",
   "execution_count": 50,
   "metadata": {},
   "outputs": [
    {
     "name": "stdout",
     "output_type": "stream",
     "text": [
      "32242\n"
     ]
    },
    {
     "data": {
      "text/html": [
       "<div>\n",
       "<style scoped>\n",
       "    .dataframe tbody tr th:only-of-type {\n",
       "        vertical-align: middle;\n",
       "    }\n",
       "\n",
       "    .dataframe tbody tr th {\n",
       "        vertical-align: top;\n",
       "    }\n",
       "\n",
       "    .dataframe thead th {\n",
       "        text-align: right;\n",
       "    }\n",
       "</style>\n",
       "<table border=\"1\" class=\"dataframe\">\n",
       "  <thead>\n",
       "    <tr style=\"text-align: right;\">\n",
       "      <th></th>\n",
       "      <th>Zipcode</th>\n",
       "      <th>Latitude</th>\n",
       "      <th>Longitude</th>\n",
       "      <th>Population</th>\n",
       "      <th>Median Age</th>\n",
       "      <th>Household Income</th>\n",
       "      <th>Per Capita Income</th>\n",
       "      <th>Poverty Count</th>\n",
       "      <th>Poverty Rate</th>\n",
       "    </tr>\n",
       "  </thead>\n",
       "  <tbody>\n",
       "    <tr>\n",
       "      <th>0</th>\n",
       "      <td>601</td>\n",
       "      <td>18.180103</td>\n",
       "      <td>-66.74947</td>\n",
       "      <td>17242</td>\n",
       "      <td>40.5</td>\n",
       "      <td>13092</td>\n",
       "      <td>6999</td>\n",
       "      <td>10772</td>\n",
       "      <td>62.475351</td>\n",
       "    </tr>\n",
       "    <tr>\n",
       "      <th>1</th>\n",
       "      <td>602</td>\n",
       "      <td>18.363285</td>\n",
       "      <td>-67.18024</td>\n",
       "      <td>38442</td>\n",
       "      <td>42.3</td>\n",
       "      <td>16358</td>\n",
       "      <td>9277</td>\n",
       "      <td>19611</td>\n",
       "      <td>51.014515</td>\n",
       "    </tr>\n",
       "  </tbody>\n",
       "</table>\n",
       "</div>"
      ],
      "text/plain": [
       "   Zipcode   Latitude  Longitude  Population  Median Age  Household Income  \\\n",
       "0      601  18.180103  -66.74947       17242        40.5             13092   \n",
       "1      602  18.363285  -67.18024       38442        42.3             16358   \n",
       "\n",
       "   Per Capita Income  Poverty Count  Poverty Rate  \n",
       "0               6999          10772     62.475351  \n",
       "1               9277          19611     51.014515  "
      ]
     },
     "execution_count": 50,
     "metadata": {},
     "output_type": "execute_result"
    }
   ],
   "source": [
    "census_2018=census_2018.dropna(how='any')\n",
    "print(len(census_2018))\n",
    "census_2018.head(2)"
   ]
  },
  {
   "cell_type": "code",
   "execution_count": 51,
   "metadata": {},
   "outputs": [],
   "source": [
    "# api_key = g_key\n",
    "# single= requests.get(\"https://maps.googleapis.com/maps/api/geocode/json?key=\" + api_key +\"&components=postal_code:97403\")\n",
    "# single_response = single.json()\n",
    "\n",
    "# print(json.dumps(single_response, indent=4, sort_keys=True))"
   ]
  },
  {
   "cell_type": "code",
   "execution_count": 52,
   "metadata": {},
   "outputs": [],
   "source": [
    "# lat = single_response[\"results\"][0][\"geometry\"][\"location\"][\"lat\"]\n",
    "# lng = single_response[\"results\"][0][\"geometry\"][\"location\"][\"lng\"]\n",
    "# print(lat,lng)"
   ]
  },
  {
   "cell_type": "markdown",
   "metadata": {},
   "source": [
    "Commented out the below cell, while i was able to get the correct call for the API(as above) i was not able to return any zipcodes. all went straight to Zip not found. I then found a dataset with the information and plugged it into our clean census data. https://public.opendatasoft.com/explore/dataset/us-zip-code-latitude-and-longitude/"
   ]
  },
  {
   "cell_type": "code",
   "execution_count": 53,
   "metadata": {},
   "outputs": [],
   "source": [
    "# https://stackoverflow.com/questions/5585957/get-latlng-from-zip-code-google-maps-api\n",
    "# Turn census zip codes into lat/long combinations for heatmap of US\n",
    "# https://maps.googleapis.com/maps/api/geocode/json?key=YOUR_API_KEY&components=postal_code:97403\n",
    "# Lat=[]\n",
    "# Long=[]\n",
    "\n",
    "# url = 'https://maps.googleapis.com/maps/api/geocode/json?key='\n",
    "# api_key = g_key\n",
    "# zipcode = census_2018['Zipcode']\n",
    "\n",
    "# for zips in zipcode:\n",
    "#     print(f'{url}{api_key}&components=postal_code:{zips}')\n",
    "# #     try:\n",
    "#         pop_request = requests.get(f'{url}{api_key}&components=postal_code:{zips}')\n",
    "# # (url + api_key +'&components=postal_code:'+zips)\n",
    "#         pop_response=pop_request.json()\n",
    "#         Lat.append(pop_response[\"results\"][0][\"geometry\"][\"location\"][\"lat\"])\n",
    "#         Long.append(pop_response[\"results\"][0][\"geometry\"][\"location\"][\"lng\"])\n",
    "#         print(f'Success')\n",
    "#     except IndexError:\n",
    "#         print(f'Zip not found')\n",
    "\n",
    "    \n"
   ]
  },
  {
   "cell_type": "code",
   "execution_count": 54,
   "metadata": {},
   "outputs": [],
   "source": [
    "# configure gmaps with API key\n",
    "gmaps.configure(api_key =g_key)"
   ]
  },
  {
   "cell_type": "code",
   "execution_count": 77,
   "metadata": {},
   "outputs": [],
   "source": [
    "# Store lat/long into locations\n",
    "locations = census_2018[['Latitude', 'Longitude']]\n",
    "\n",
    "# Store humidity as weight\n",
    "weight = census_2018['Population']\n",
    "\n",
    "# Set Chipotle markers\n",
    "chip_locations = chipotle[['Latitude', 'Longitude']]\n",
    "# Set McDonalds markers\n",
    "mcdon_locations = all_rest_df.loc[all_rest_df['Name']=='McDonald\\'s'] \n",
    "mcdonlatlong=mcdon_locations[['Latitude', 'Longitude']]\n",
    "# Set yum brand locations (Taco Bell, Pizza Hut and KFC)\n",
    "taco_locations = all_rest_df.loc[all_rest_df['Name']=='Taco Bell']\n",
    "tacolatlong=taco_locations[['Latitude', 'Longitude']]\n",
    "pizza_locations = all_rest_df.loc[all_rest_df['Name']=='Pizza Hut']\n",
    "pizzalatlong=pizza_locations[['Latitude', 'Longitude']]\n",
    "kfc_locations = all_rest_df.loc[all_rest_df['Name']=='KFC']\n",
    "kfclatlong=kfc_locations[['Latitude', 'Longitude']]"
   ]
  },
  {
   "cell_type": "code",
   "execution_count": 80,
   "metadata": {},
   "outputs": [
    {
     "data": {
      "application/vnd.jupyter.widget-view+json": {
       "model_id": "929991d1e2714fa385cb5e24eed93ef4",
       "version_major": 2,
       "version_minor": 0
      },
      "text/plain": [
       "Figure(layout=FigureLayout(height='420px'))"
      ]
     },
     "metadata": {},
     "output_type": "display_data"
    }
   ],
   "source": [
    "fig = gmaps.figure()\n",
    "\n",
    "heat_layer=gmaps.heatmap_layer(locations, weight, dissipating=True, max_intensity=25, point_radius=2)\n",
    "\n",
    "chip_layer = gmaps.symbol_layer(\n",
    "    chip_locations, fill_color='black', stroke_color='black', scale=1)\n",
    "\n",
    "taco_layer = gmaps.symbol_layer(\n",
    "    tacolatlong, fill_color='green', stroke_color='green', scale=1)\n",
    "\n",
    "pizza_layer = gmaps.symbol_layer(\n",
    "    pizzalatlong, fill_color='green', stroke_color='green', scale=1)\n",
    "\n",
    "kfc_layer = gmaps.symbol_layer(\n",
    "    kfclatlong, fill_color='green', stroke_color='green', scale=1)\n",
    "\n",
    "fig.add_layer(heat_layer)\n",
    "fig.add_layer(chip_layer)\n",
    "fig.add_layer(taco_layer)\n",
    "fig.add_layer(pizza_layer)\n",
    "fig.add_layer(kfc_layer)\n",
    "\n",
    "fig"
   ]
  },
  {
   "cell_type": "code",
   "execution_count": 98,
   "metadata": {},
   "outputs": [
    {
     "data": {
      "text/plain": [
       "20k - 40k      4825\n",
       "0-20K          2822\n",
       "40k - 60k      2556\n",
       "60k - 80k       726\n",
       "80k - 100k      161\n",
       "100k - 120k      33\n",
       "Name: Zip Code Population Bins, dtype: int64"
      ]
     },
     "execution_count": 98,
     "metadata": {},
     "output_type": "execute_result"
    }
   ],
   "source": [
    "# Set up binns for population on all_rest_df\n",
    "bins = [0, 20000, 40000, 60000, 80000, 100000,120000]\n",
    "group_names=['0-20K', '20k - 40k', '40k - 60k', '60k - 80k', '80k - 100k', '100k - 120k']\n",
    "all_rest_df['Zip Code Population Bins'] = pd.cut(all_rest_df['Population'], bins, labels = group_names, include_lowest =True)\n",
    "all_rest_df['Zip Code Population Bins'].value_counts()\n"
   ]
  },
  {
   "cell_type": "code",
   "execution_count": 104,
   "metadata": {},
   "outputs": [
    {
     "name": "stdout",
     "output_type": "stream",
     "text": [
      "Name     Zip Code Population Bins\n",
      "Arby's   0-20K                       190\n",
      "         20k - 40k                   294\n",
      "         40k - 60k                   155\n",
      "         60k - 80k                    23\n",
      "         80k - 100k                    2\n",
      "                                    ... \n",
      "Wendy's  20k - 40k                   264\n",
      "         40k - 60k                   144\n",
      "         60k - 80k                    33\n",
      "         80k - 100k                    9\n",
      "         100k - 120k                   3\n",
      "Name: Zip Code Population Bins, Length: 162, dtype: int64\n"
     ]
    }
   ],
   "source": [
    "all_rest_pop = all_rest_df.groupby(['Name','Zip Code Population Bins'])\n",
    "print(all_rest_pop['Zip Code Population Bins'].count())"
   ]
  },
  {
   "cell_type": "code",
   "execution_count": 110,
   "metadata": {},
   "outputs": [
    {
     "data": {
      "text/html": [
       "<div>\n",
       "<style scoped>\n",
       "    .dataframe tbody tr th:only-of-type {\n",
       "        vertical-align: middle;\n",
       "    }\n",
       "\n",
       "    .dataframe tbody tr th {\n",
       "        vertical-align: top;\n",
       "    }\n",
       "\n",
       "    .dataframe thead th {\n",
       "        text-align: right;\n",
       "    }\n",
       "</style>\n",
       "<table border=\"1\" class=\"dataframe\">\n",
       "  <thead>\n",
       "    <tr style=\"text-align: right;\">\n",
       "      <th></th>\n",
       "      <th>Name</th>\n",
       "      <th>Address</th>\n",
       "      <th>City</th>\n",
       "      <th>State</th>\n",
       "      <th>Zip Code</th>\n",
       "      <th>Country</th>\n",
       "      <th>Latitude</th>\n",
       "      <th>Longitude</th>\n",
       "      <th>Categories</th>\n",
       "      <th>Population</th>\n",
       "      <th>Median Age</th>\n",
       "      <th>Household Income</th>\n",
       "      <th>Per Capita Income</th>\n",
       "      <th>Poverty Count</th>\n",
       "      <th>Poverty Rate</th>\n",
       "      <th>Zip Code Population Bins</th>\n",
       "    </tr>\n",
       "  </thead>\n",
       "  <tbody>\n",
       "    <tr>\n",
       "      <th>0</th>\n",
       "      <td>Chipotle Mexican Grill</td>\n",
       "      <td>346 W Magnolia Ave</td>\n",
       "      <td>Auburn</td>\n",
       "      <td>Alabama</td>\n",
       "      <td>36832</td>\n",
       "      <td>US</td>\n",
       "      <td>32.606813</td>\n",
       "      <td>-85.487328</td>\n",
       "      <td>NaN</td>\n",
       "      <td>24509.0</td>\n",
       "      <td>23.7</td>\n",
       "      <td>27638.0</td>\n",
       "      <td>22390.0</td>\n",
       "      <td>9821.0</td>\n",
       "      <td>40.070994</td>\n",
       "      <td>20k - 40k</td>\n",
       "    </tr>\n",
       "    <tr>\n",
       "      <th>1</th>\n",
       "      <td>Chipotle Mexican Grill</td>\n",
       "      <td>300 20th St S</td>\n",
       "      <td>Birmingham</td>\n",
       "      <td>Alabama</td>\n",
       "      <td>35233</td>\n",
       "      <td>US</td>\n",
       "      <td>33.509722</td>\n",
       "      <td>-86.802756</td>\n",
       "      <td>NaN</td>\n",
       "      <td>1715.0</td>\n",
       "      <td>27.7</td>\n",
       "      <td>41500.0</td>\n",
       "      <td>29812.0</td>\n",
       "      <td>655.0</td>\n",
       "      <td>38.192420</td>\n",
       "      <td>0-20K</td>\n",
       "    </tr>\n",
       "  </tbody>\n",
       "</table>\n",
       "</div>"
      ],
      "text/plain": [
       "                     Name                Address        City    State  \\\n",
       "0  Chipotle Mexican Grill  346 W Magnolia Ave         Auburn  Alabama   \n",
       "1  Chipotle Mexican Grill       300 20th St S     Birmingham  Alabama   \n",
       "\n",
       "  Zip Code Country   Latitude  Longitude Categories  Population  Median Age  \\\n",
       "0    36832      US  32.606813 -85.487328        NaN     24509.0        23.7   \n",
       "1    35233      US  33.509722 -86.802756        NaN      1715.0        27.7   \n",
       "\n",
       "   Household Income  Per Capita Income  Poverty Count  Poverty Rate  \\\n",
       "0           27638.0            22390.0         9821.0     40.070994   \n",
       "1           41500.0            29812.0          655.0     38.192420   \n",
       "\n",
       "  Zip Code Population Bins  \n",
       "0                20k - 40k  \n",
       "1                    0-20K  "
      ]
     },
     "execution_count": 110,
     "metadata": {},
     "output_type": "execute_result"
    }
   ],
   "source": [
    "chart_all_rest = all_rest_df.loc[(all_rest_df['Name']== 'Chipotle Mexican Grill')|(all_rest_df['Name']== 'McDonald\\'s')|(all_rest_df['Name']== 'Taco Bell')|(all_rest_df['Name']== 'KFC')\n",
    "                                |(all_rest_df['Name']== 'TaPizza Hut')]\n",
    "chart_all_rest.head(2)"
   ]
  },
  {
   "cell_type": "code",
   "execution_count": 112,
   "metadata": {},
   "outputs": [
    {
     "ename": "AttributeError",
     "evalue": "'AxesSubplot' object has no attribute 'savefig'",
     "output_type": "error",
     "traceback": [
      "\u001b[1;31m---------------------------------------------------------------------------\u001b[0m",
      "\u001b[1;31mAttributeError\u001b[0m                            Traceback (most recent call last)",
      "\u001b[1;32m<ipython-input-112-6382de605c05>\u001b[0m in \u001b[0;36m<module>\u001b[1;34m()\u001b[0m\n\u001b[0;32m      1\u001b[0m \u001b[1;31m# https://stackoverflow.com/questions/53997862/pandas-groupby-two-columns-and-plot\u001b[0m\u001b[1;33m\u001b[0m\u001b[1;33m\u001b[0m\u001b[1;33m\u001b[0m\u001b[0m\n\u001b[0;32m      2\u001b[0m \u001b[0msns_plot\u001b[0m \u001b[1;33m=\u001b[0m \u001b[0msns\u001b[0m\u001b[1;33m.\u001b[0m\u001b[0mcountplot\u001b[0m\u001b[1;33m(\u001b[0m\u001b[0mdata\u001b[0m\u001b[1;33m=\u001b[0m\u001b[0mchart_all_rest\u001b[0m\u001b[1;33m,\u001b[0m\u001b[0mx\u001b[0m\u001b[1;33m=\u001b[0m\u001b[1;34m'Zip Code Population Bins'\u001b[0m\u001b[1;33m,\u001b[0m\u001b[0mhue\u001b[0m\u001b[1;33m=\u001b[0m\u001b[1;34m'Name'\u001b[0m\u001b[1;33m)\u001b[0m\u001b[1;33m\u001b[0m\u001b[1;33m\u001b[0m\u001b[0m\n\u001b[1;32m----> 3\u001b[1;33m \u001b[0msns_plot\u001b[0m\u001b[1;33m.\u001b[0m\u001b[0msavefig\u001b[0m\u001b[1;33m(\u001b[0m\u001b[1;34m'Population_Bins_and_Locations.png'\u001b[0m\u001b[1;33m)\u001b[0m\u001b[1;33m\u001b[0m\u001b[1;33m\u001b[0m\u001b[0m\n\u001b[0m",
      "\u001b[1;31mAttributeError\u001b[0m: 'AxesSubplot' object has no attribute 'savefig'"
     ]
    },
    {
     "data": {
      "image/png": "[encoded data removed]",
      "text/plain": [
       "<Figure size 432x288 with 1 Axes>"
      ]
     },
     "metadata": {
      "needs_background": "light"
     },
     "output_type": "display_data"
    }
   ],
   "source": [
    "# https://stackoverflow.com/questions/53997862/pandas-groupby-two-columns-and-plot\n",
    "sns_plot = sns.countplot(data=chart_all_rest,x='Zip Code Population Bins',hue='Name')\n",
    "# sns_plot.savefig('Population_Bins_and_Locations.png')"
   ]
  },
  {
   "cell_type": "code",
   "execution_count": 88,
   "metadata": {},
   "outputs": [
    {
     "data": {
      "text/plain": [
       "count     32242.000000\n",
       "mean       9996.540506\n",
       "std       14679.550998\n",
       "min           5.000000\n",
       "25%         770.000000\n",
       "50%        2925.500000\n",
       "75%       13597.500000\n",
       "max      122814.000000\n",
       "Name: Population, dtype: float64"
      ]
     },
     "execution_count": 88,
     "metadata": {},
     "output_type": "execute_result"
    }
   ],
   "source": [
    "census_2018['Population'].describe()"
   ]
  },
  {
   "cell_type": "code",
   "execution_count": 89,
   "metadata": {},
   "outputs": [
    {
     "data": {
      "text/plain": [
       "0-20K          26281\n",
       "20k - 40k       4151\n",
       "40k - 60k       1382\n",
       "60k - 80k        337\n",
       "80k - 100k        74\n",
       "100k - 120k       16\n",
       "Name: Zip Code Population Bins, dtype: int64"
      ]
     },
     "execution_count": 89,
     "metadata": {},
     "output_type": "execute_result"
    }
   ],
   "source": [
    "bins = [0, 20000, 40000, 60000, 80000, 100000,120000]\n",
    "group_names=['0-20K', '20k - 40k', '40k - 60k', '60k - 80k', '80k - 100k', '100k - 120k']\n",
    "census_2018['Zip Code Population Bins'] = pd.cut(census_2018['Population'], bins, labels = group_names, include_lowest =True)\n",
    "census_2018['Zip Code Population Bins'].value_counts()"
   ]
  },
  {
   "cell_type": "code",
   "execution_count": null,
   "metadata": {},
   "outputs": [],
   "source": []
  }
 ],
 "metadata": {
  "kernelspec": {
   "display_name": "Python 3",
   "language": "python",
   "name": "python3"
  },
  "language_info": {
   "codemirror_mode": {
    "name": "ipython",
    "version": 3
   },
   "file_extension": ".py",
   "mimetype": "text/x-python",
   "name": "python",
   "nbconvert_exporter": "python",
   "pygments_lexer": "ipython3",
   "version": "3.6.10"
  }
 },
 "nbformat": 4,
 "nbformat_minor": 4
}
