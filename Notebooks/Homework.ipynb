{
 "cells": [
  {
   "cell_type": "code",
   "execution_count": 1,
   "metadata": {},
   "outputs": [],
   "source": [
    "# Dependencies and Setup\n",
    "import matplotlib.pyplot as plt\n",
    "import pandas as pd\n",
    "import numpy as np\n",
    "import requests\n",
    "import gmaps\n",
    "import os\n",
    "import json\n",
    "import seaborn as sns\n",
    "\n",
    "\n",
    "# Import API key\n",
    "from config import g_key"
   ]
  },
  {
   "cell_type": "code",
   "execution_count": 2,
   "metadata": {},
   "outputs": [],
   "source": [
    "# Files to Load (Remember to Change These)\n",
    "fast_food_restaurants_2018 = \"../Resources/Fast_Food_Restaurants_2018.csv\"\n",
    "census_2018 =\"../Resources/census_data_clean_2018.csv\"\n",
    "# Read files into Pandas DF\n",
    "Rest_2018 = pd.read_csv(fast_food_restaurants_2018)\n",
    "census_2018=pd.read_csv(census_2018)"
   ]
  },
  {
   "cell_type": "code",
   "execution_count": 3,
   "metadata": {},
   "outputs": [
    {
     "data": {
      "text/plain": [
       "Index(['dateAdded', 'dateUpdated', 'address', 'categories', 'city', 'country',\n",
       "       'keys', 'latitude', 'longitude', 'name', 'postalCode', 'province'],\n",
       "      dtype='object')"
      ]
     },
     "execution_count": 3,
     "metadata": {},
     "output_type": "execute_result"
    }
   ],
   "source": [
    "# remove columns we will not need\n",
    "Rest_2018=Rest_2018.drop(['id','sourceURLs','websites'], axis =1)\n",
    "Rest_2018.columns"
   ]
  },
  {
   "cell_type": "code",
   "execution_count": 4,
   "metadata": {},
   "outputs": [
    {
     "data": {
      "text/html": [
       "<div>\n",
       "<style scoped>\n",
       "    .dataframe tbody tr th:only-of-type {\n",
       "        vertical-align: middle;\n",
       "    }\n",
       "\n",
       "    .dataframe tbody tr th {\n",
       "        vertical-align: top;\n",
       "    }\n",
       "\n",
       "    .dataframe thead th {\n",
       "        text-align: right;\n",
       "    }\n",
       "</style>\n",
       "<table border=\"1\" class=\"dataframe\">\n",
       "  <thead>\n",
       "    <tr style=\"text-align: right;\">\n",
       "      <th></th>\n",
       "      <th>Name</th>\n",
       "      <th>Address</th>\n",
       "      <th>City</th>\n",
       "      <th>State</th>\n",
       "      <th>Zip Code</th>\n",
       "      <th>Country</th>\n",
       "      <th>Latitude</th>\n",
       "      <th>Longitude</th>\n",
       "    </tr>\n",
       "  </thead>\n",
       "  <tbody>\n",
       "    <tr>\n",
       "      <th>0</th>\n",
       "      <td>SONIC Drive In</td>\n",
       "      <td>800 N Canal Blvd</td>\n",
       "      <td>Thibodaux</td>\n",
       "      <td>LA</td>\n",
       "      <td>70301</td>\n",
       "      <td>US</td>\n",
       "      <td>29.814697</td>\n",
       "      <td>-90.814742</td>\n",
       "    </tr>\n",
       "    <tr>\n",
       "      <th>1</th>\n",
       "      <td>SONIC Drive In</td>\n",
       "      <td>800 N Canal Blvd</td>\n",
       "      <td>Thibodaux</td>\n",
       "      <td>LA</td>\n",
       "      <td>70301</td>\n",
       "      <td>US</td>\n",
       "      <td>29.814697</td>\n",
       "      <td>-90.814742</td>\n",
       "    </tr>\n",
       "    <tr>\n",
       "      <th>2</th>\n",
       "      <td>Taco Bell</td>\n",
       "      <td>206 Wears Valley Rd</td>\n",
       "      <td>Pigeon Forge</td>\n",
       "      <td>TN</td>\n",
       "      <td>37863</td>\n",
       "      <td>US</td>\n",
       "      <td>35.803788</td>\n",
       "      <td>-83.580553</td>\n",
       "    </tr>\n",
       "    <tr>\n",
       "      <th>3</th>\n",
       "      <td>Arby's</td>\n",
       "      <td>3652 Parkway</td>\n",
       "      <td>Pigeon Forge</td>\n",
       "      <td>TN</td>\n",
       "      <td>37863</td>\n",
       "      <td>US</td>\n",
       "      <td>35.782339</td>\n",
       "      <td>-83.551408</td>\n",
       "    </tr>\n",
       "    <tr>\n",
       "      <th>4</th>\n",
       "      <td>Steak 'n Shake</td>\n",
       "      <td>2118 Mt Zion Parkway</td>\n",
       "      <td>Morrow</td>\n",
       "      <td>GA</td>\n",
       "      <td>30260</td>\n",
       "      <td>US</td>\n",
       "      <td>33.562738</td>\n",
       "      <td>-84.321143</td>\n",
       "    </tr>\n",
       "  </tbody>\n",
       "</table>\n",
       "</div>"
      ],
      "text/plain": [
       "             Name               Address          City State Zip Code Country  \\\n",
       "0  SONIC Drive In      800 N Canal Blvd     Thibodaux    LA    70301      US   \n",
       "1  SONIC Drive In      800 N Canal Blvd     Thibodaux    LA    70301      US   \n",
       "2       Taco Bell   206 Wears Valley Rd  Pigeon Forge    TN    37863      US   \n",
       "3          Arby's          3652 Parkway  Pigeon Forge    TN    37863      US   \n",
       "4  Steak 'n Shake  2118 Mt Zion Parkway        Morrow    GA    30260      US   \n",
       "\n",
       "    Latitude  Longitude  \n",
       "0  29.814697 -90.814742  \n",
       "1  29.814697 -90.814742  \n",
       "2  35.803788 -83.580553  \n",
       "3  35.782339 -83.551408  \n",
       "4  33.562738 -84.321143  "
      ]
     },
     "execution_count": 4,
     "metadata": {},
     "output_type": "execute_result"
    }
   ],
   "source": [
    "# reorganize/rename columns and drop other columns we will not need as well\n",
    "Rest_2018 = Rest_2018.rename(columns={'name':'Name', 'address': 'Address', 'city': 'City', 'country': 'Country', 'latitude': 'Latitude', 'longitude':'Longitude', 'postalCode': 'Zip Code',\\\n",
    "                                     'province': 'State'})\n",
    "Rest_2018 = Rest_2018[['Name', 'Address', 'City','State', 'Zip Code','Country', 'Latitude', 'Longitude']]\n",
    "Rest_2018.head()"
   ]
  },
  {
   "cell_type": "code",
   "execution_count": 5,
   "metadata": {},
   "outputs": [
    {
     "name": "stdout",
     "output_type": "stream",
     "text": [
      "571\n",
      "['7-Eleven' '90 Miles Cuban Cafe' 'A&W/Long John Silvers'\n",
      " \"A's Ace Burgers\" 'Abruzzi Pizza' 'Acropolis Gyro Palace'\n",
      " 'Adobe Cantina Salsa' 'Ak Buffet' 'All About Burger'\n",
      " 'Ameci Pizza & Pasta' \"Andy's Frozen Custard\" \"Angelina's Pizza\"\n",
      " \"Ani's Chicken\" \"Arby's\" \"Arby's - Closed\" 'Arbys' 'Arctic Circle'\n",
      " \"Arni's Crawfordsville\" \"Arthur Treacher's Fish & Chips\" 'Au Bon Pain'\n",
      " \"Auntie Anne's\" \"Auntie Anne's Pretzels\" 'Ay Jalisco' 'B Good'\n",
      " 'B&D Burgers' \"B's Pizza\" 'B.GOOD' 'BURGERFI' 'Back Yard Burgers'\n",
      " 'Backyard Grill' \"Bad Daddy's Burger Bar\" 'Baja Fresh Mexican Grill'\n",
      " \"Baker's Drive Thru\" \"Baker's Drive-thru\" 'Band Box Diner' 'Barberitos'\n",
      " \"Barro's Pizza\" 'Baskin-Robbins' 'Batter Up' 'BeanThru' 'Beef Villa'\n",
      " \"Bell's Pizza\" 'Belleria Pizzeria' \"Ben & Jerry's\" \"Ben and Jerry's\"\n",
      " \"Bennidito's Pizza\" 'Best Gyros' 'Big House Burgers' 'Big Island Pizza'\n",
      " 'Bistro To Go' 'Blackies Hotdog Stand' 'Blackjack Pizza'\n",
      " \"Blake's Lotaburger\" 'Blimpie' 'Blue Coast Burrito' 'Boardwalk Grill'\n",
      " 'Bob Evans' 'Bob Evans Restaurant' \"Bobby's Burger Palace\"\n",
      " 'Boddie Noell Enterprises Inc' 'Bojangles'\n",
      " \"Bojangles' Famous Chicken 'n Biscuits\" 'Boloco' \"Boomer's Drive-In\"\n",
      " 'Boston Burger Company' 'Boston Market' 'Boston Road Pizza'\n",
      " 'Boys Burgers' \"Braum's\" 'Bristol 45 Diner' \"Bubba's Texas Burger Shack\"\n",
      " \"Bucky's Family Restaurant\" 'Buona Vita' 'Burger Basket' 'Burger House'\n",
      " 'Burger King' 'Burger King/Popeyes' 'Burger King¬Æ' 'Burrito Bros.'\n",
      " \"Bush's Chicken\" 'CASA Mexicana' \"CD's Wings\" 'Cafe Paris'\n",
      " 'Cafe Zona Rosa' 'California Chicken Cafe' 'California Tortilla'\n",
      " 'Capri Italian Restaurant' 'Capri Restaurant' \"Capriotti's Sandwich Shop\"\n",
      " \"Captain D's\" \"Captain D's Seafood\" \"Carl's Jr\"\n",
      " \"Carl's Jr / Green Burrito\" \"Carl's Jr.\" \"Carl's Jr. / Green Burrito\"\n",
      " \"Carl's Jr. / The Green Burrito\" 'Carvel' \"Casey's General Store\"\n",
      " 'Caseys Carry Out Pizza' \"Chanello's Pizza\" \"Charley's Grilled Subs\"\n",
      " 'Charleys Philly Steaks' \"Charlie's Pizzeria\" \"Charlie's Restaurant\"\n",
      " 'Charo Chicken' \"Checker's Pizza\" 'Checkers' 'Chicago Pizza With A Twist'\n",
      " 'Chick-Fil-A' 'Chick-fil-A' 'Chicken Express' 'Chicken Inn'\n",
      " 'Chicken Kitchen' \"Chicken Mary's\" 'China Bowl Take Out Restaurant'\n",
      " 'China Buffet' 'China City' 'China Garden' 'China Restaurant'\n",
      " 'Chinatown Express' 'Chinatown Inn' 'Chipotle' 'Chipotle Mexican Grill'\n",
      " \"Christo's Original\" 'Chronic Tacos' 'Chun Wah Kam Noodle Factory'\n",
      " \"Church's Chicken\" 'Citizen Burger Bar' 'Clambake Seafood Restaurant'\n",
      " 'Cluck-U Chicken' 'Cobani Gyro Kebab' 'Comet Burgers' 'Cook Out'\n",
      " 'Cook St. Helena' 'Copper Oven Artisan Pizza' 'Cottage Inn Pizza'\n",
      " 'Country Buffet' \"Cousin's Subs\" 'Cozumel' 'Cremo Drive-In' 'Creperie'\n",
      " 'Crown Fried Chicken' \"Culver's\" \"Cupie's Drive-In\" 'D & M Subs'\n",
      " \"D'Angelo Grilled Sandwiches\" 'Dairy Heaven' 'Dairy Queen'\n",
      " 'Dairy Queen (Treat Only)' 'Danielle Inc' 'De Afghanan Kabob House'\n",
      " 'Del Taco' \"Dick's Hamburgers\" \"Dominick's Italian Restaurant\"\n",
      " 'Dominion Pizza' \"Domino's Pizza\" \"Don & Millie's\" 'Dragon Dragon'\n",
      " 'Dunkin Donuts' \"Dunkin' Donuts\" 'Earth Fare' 'East of Edens' \"Eegee's\"\n",
      " 'Einstein Bros Bagels' 'El Burrito Loco' 'El Original' 'El Pollo Loco'\n",
      " 'El Pollo Regio' 'El Ranchito Taco Shop' 'El Sombrero' 'El Taquito'\n",
      " 'Errandbug Fast Restaurant Delivery' \"Eudici's Pizza\" 'Extreme Pita'\n",
      " 'Fajita Grill' \"Famous Dave's\" 'Farmer Boys' 'Fashion Cafe'\n",
      " \"Fast Eddie's MOAB\" 'Fat Boy Burgers' \"Fat Mo's Burgers\" \"Fat Patty's\"\n",
      " 'Fatburger' \"Fazoli's\" \"Fazzari's\" 'Festival Eatery'\n",
      " \"Filippi's Pizza Grotto\" 'Firehouse Subs' 'Five Guys'\n",
      " 'Five Guys Burgers And Fries' 'Five Guys Burgers Fries' 'Flame Broiler'\n",
      " 'Flaming Grill and Buffet' 'Flushing A' 'Flying J' \"Foster's Freeze\"\n",
      " 'Fosters Freeze' 'Four Burgers' \"Fox's Gourmet Delicatessen\"\n",
      " \"Fox's Pizza Den\" 'Frankies' 'Fratellos Hot Dogs' 'Frates Drive-In'\n",
      " 'Fuddruckers' 'Fuku' 'GD Bro Burger' \"Gambino's Pizza\"\n",
      " 'Gangnam Style Korean Kitchen' 'Garden Catering' 'Genghis Grill'\n",
      " \"George's Gyros Spot 2\" 'Git-It-N-Git'\n",
      " 'Glorious Foods Gourmet to go & Catering' 'Gold Star Chili'\n",
      " 'Golden Chick' 'Golden Dragon' 'Golden Harvest Chinese Restaurant'\n",
      " 'Good Guys Pizza' 'Gourmet Grill' 'Grand China Chinese Restaurant'\n",
      " 'Grande Italian Restaurant' \"Grandy's\" 'Great American Hamburger Pie Co'\n",
      " 'Great Bend Taco' 'Great Wall Restaurant' 'Great Wraps' \"Guerrazzi's\"\n",
      " \"Gus's Carryout\" 'Gyromania Grill' 'Gyros Express' 'Halo Burger'\n",
      " 'Happy Dragon' \"Hardee's\" \"Hardee's / Red Burrito\" \"Hardee's/red Burrito\"\n",
      " 'Hardees' \"Heff's Burgers\" 'Henny Penny Family Restaurant'\n",
      " 'Hernandez Mexican Restaurant' 'HiBoy Drive-in' 'High Tech Burrito'\n",
      " 'Hilton Boston Logan Airport' \"Hobo's Korner Kitchen\" 'Hometown Buffet'\n",
      " 'Hon Lin Restaurant' 'Hot Dog on a Stick' 'Hot Lips Pizza' 'Huddle House'\n",
      " 'Hunan Gardens' 'In-N-Out Burger' 'Islands Restaurant'\n",
      " 'Italian Pizzeria Restaurant' 'Italian Village Pizza' \"Italo's Pizza\"\n",
      " \"Ivan's Restaurant\" 'Jack In The Box' 'Jack in the Box'\n",
      " 'Jack in the Box -' \"Jack's Goal Line Stand\" 'Jacks N Joe'\n",
      " \"Jake's Wayback Burgers\" 'Jalsa Indian Fast Food' 'Jamba Juice'\n",
      " \"Jason's Deli\" \"Jerry's Subs & Pizza\" \"Jersey Mike's Subs\"\n",
      " \"Jim Bob's Chicken Fingers\" \"Jim's Steakout\" \"Jim's Steaks\"\n",
      " \"Jimmy John's\" 'Jimmy Johns' \"Jimmy's Grotto\" \"Joe's Crab Shack\"\n",
      " 'Johnny Rockets' \"Johnny's Wife's Place\" \"Johnson's Popcorn\" 'Jollibee'\n",
      " 'Jon Smith Subs' 'KFC' 'KFC - Kentucky Fried Chicken' 'KFC/AW'\n",
      " 'KFC/Long John Silvers' 'KFC/Taco Bell' \"Kasa's Pizza\"\n",
      " \"Kim's Oriental Kitchen\" 'King Gyros' 'King Wah' 'King of Wings' 'Kismet'\n",
      " \"Kosta's Gyros\" 'Kow Thai Take Out' 'Krispy Krunchy Chicken' 'Krystal'\n",
      " 'Kum & Go' 'Kumagoro Fine Japanese Restaurant and Sushi Bar'\n",
      " 'La Hacienda Mexican Restaurant' \"Lacey's On The Hill Restaurant\"\n",
      " 'Lake Trout 2' 'Lakewood Ranch Baptist Church' 'Legends Burgers'\n",
      " 'Legendz' \"Lilly's Restaurant\" \"Lin's Garden\" \"Lion's Choice\"\n",
      " \"Little Caesar's Pizza\" 'Little Caesars' 'Little Caesars Pizza'\n",
      " 'Little Italy' 'Little Q Hot Pot' 'Lobster Hut' 'Local Burger'\n",
      " \"Long John Silver's\" \"Long John Silver's / AW\" 'Long John Silvers'\n",
      " 'Long John Silvers / A&W' 'Los Cotijas Taco Shop' 'Loving Hut'\n",
      " 'Low Chinese American Restaurant' \"Luby's\" \"Lupo's Char-Pit\" \"Ly's Cafe\"\n",
      " \"Mah's Garden Restaurant\" 'Maid-rite' 'Maki Fresh' \"Mama's Fried Chicken\"\n",
      " 'Mandarin Garden' 'Mangia Pizza' 'Marathon'\n",
      " \"Mason's Famous Lobster Rolls\" 'Mc Donalds' \"McAlister's Deli\"\n",
      " \"McDonald's\" \"McDonald's of Rolesville\" 'McDonalds' \"McDonalds's\"\n",
      " \"Mcdonald's\" 'Mcdonalds' 'Mcdonalds Whitehouse' 'Megs Drive In'\n",
      " \"Mickey's Gyros & Ribs\" 'Mignano Bros' \"Miguel's Jr\" 'Milk Street Cafe'\n",
      " \"Miss Katie's Diner\" \"Moe's Burger Joint\" \"Moe's Cafe\"\n",
      " \"Moe's Southwest Grill\" \"Mooney's Ice Cream Store\" 'Mr Hero' 'Mr Taco'\n",
      " 'Mr. Chicken' 'Mr. Gyros Greek Food & Pastry' 'Mr. Hero' 'Mr. Hoagie'\n",
      " 'Mrs. Fields' 'Mustard Seed' \"My Daddy's Pizza & Grille\"\n",
      " \"Nathan's Famous\" \"Natraj's Tandoori\" 'New York Pizza Department'\n",
      " \"Nick's Gyros\" \"Nino's Pizzarama\" 'Ocean Empire Restaurant'\n",
      " 'Old Carolina Barbecue Company' 'Old Country Buffet'\n",
      " 'Old Mill Crab House' 'Orange Julius' \"Original Tommy's Hamburgers\"\n",
      " \"Oscar's Restaurant\" 'PDQ' \"Pal's Sudden Service\" \"Palio's Pizza Cafe\"\n",
      " 'Panda Express' 'Panda Express Innovation Kitchen' 'Panera Bread'\n",
      " \"Papa Gino's\" 'Papa Gyros' \"Papa J's\" \"Papa Joe's Pizza\"\n",
      " \"Papa John's Pizza\" 'Parkside Gyros' \"Patrick's on Third\" 'Peach Garden'\n",
      " 'Pei Wei' 'Penguin Point' 'Penn Station East Coast Subs'\n",
      " \"Penn's Thai Cafe\" 'PepperJax Grill' 'Pepperjax Grill'\n",
      " \"Petro's Chili & Chips\" \"Photo's Hot Dogs\" 'Pick Up Stix' 'Picnic Basket'\n",
      " 'Pilot Travel Center' \"Pita's Republic\" 'Pizza Barn' 'Pizza Guys'\n",
      " 'Pizza Hut' 'Pizza Inn' 'Pizza Pipeline' 'Pizza Pro' 'Pizza Pub'\n",
      " \"Plato's Closet\" 'Players Grill' 'Poki Roll' 'Pollo Campero'\n",
      " 'Pollo Tropical' 'Pony Express To Go' \"Popeye's Louisiana Kitchen\"\n",
      " 'Popeyes' 'Popeyes Chicken & Biscuits' 'Popeyes Chicken Biscuits'\n",
      " 'Popeyes Louisiana Kitchen' 'Port of Subs' \"Portillo's\" 'Pretzel Maker'\n",
      " 'Pretzel Time' \"Price's Chicken Coop\" 'Primo Hoagies' \"Primo's Pizza\"\n",
      " 'QDOBA Mexican Eats' 'Qdoba Mexican Eats' 'Qdoba Mexican Grill'\n",
      " \"Quizno's\" 'Quiznos' 'Quiznos Sub' \"Raising Cane's\"\n",
      " \"Raising Cane's Chicken Fingers\" 'Raising Canes' \"Rally's\"\n",
      " \"Rally's Hamburgers\" 'Rallys' \"Rascal's Teriyaki Grill\"\n",
      " \"Ray J's American Grill\" 'Red Baron Drive-In' 'Regions Bank'\n",
      " \"Richard's Pizza\" \"Rick's Drive In Out\" \"Rico's Pizza & Subs\"\n",
      " \"Riviera D'Italia\" 'Roche Bros.' 'Roma Pizza' 'Romas Pizza'\n",
      " 'Round Table Pizza' \"Rubio's\" 'Runza' \"Ryan's\" 'SONIC Drive In'\n",
      " 'SONIC Drive-In' 'SUBWAY' 'SUBWAY¬Æ' 'Sakana'\n",
      " 'Sakura Japanese Restaurant' 'Salad Creations' 'Saladworks' \"Sam's Gyros\"\n",
      " \"Sam's Pizza Restaurant\" 'Sarku Japan' 'Sbarro' \"Schlotzsky's\"\n",
      " 'Sesame Burgers & Beer' 'Shake Shack' \"Shamus's Sandwich Shoppe\"\n",
      " 'Shangri-la Chinese Restaurant' 'Shawarma Kebab' 'Sheetz' 'Shell'\n",
      " 'ShopHouse Southeast Asian Kitchen' 'Siam Fusion' \"Simple Simon's Pizza\"\n",
      " 'Skyline Chili' 'Smashburger' \"Smithfield's Chicken 'n Bar-b-q\"\n",
      " 'Smoothie King' 'Sonic' \"Sonic America's Drive-In\" 'Sonic Drive In'\n",
      " 'Sonic Drive in' 'Sonic Drive-In' 'Spangles' 'St. Clair Broiler'\n",
      " 'Starbucks Coffee' \"Steak 'n Shake\" 'Steak Escape' 'Steak N Shake'\n",
      " 'Steele Pier Hotdogs' \"Stoko's\" 'Sub Conscious' 'Subway' 'Sumo Steaks'\n",
      " 'Sunrise Gyros' 'Super Wings' 'Surfside Burger Shack'\n",
      " \"Sweet Magnolia's Cafe Bakery\" 'T-Mobile' \"Tacconelli's Pizza\"\n",
      " 'Taco Bell' 'Taco Bell / KFC' 'Taco Bell/KFC' 'Taco Bell/Pizza Hut'\n",
      " \"Taco Bob's\" 'Taco Bueno' 'Taco Cabana' 'Taco Casa' 'Taco Del Mar'\n",
      " \"Taco John's\" 'Taco Mama' 'Taco Mayo' 'Taco Time' \"Tam's Burgers\"\n",
      " 'Tanuki Sushi Bar and Garden' 'Taqueria' 'Tastee Freez' 'Thai Delight'\n",
      " \"The 50's Cafe\" \"The Arch at McDonald's Campus Office Building\"\n",
      " 'The Corner Cafe' 'The Dog Pit' 'The Extreme Pita' 'The Flame Broiler'\n",
      " 'The Grille' 'The Hat' 'The Hotdog Shoppe' 'The New Chalet'\n",
      " 'The Pizza Company' 'The Sandwich Place' 'The Swinging Door'\n",
      " 'TheMINT Gastropub' 'Tiffin' \"Togi's Sub Station\" \"Togo's\"\n",
      " \"Tom's Drive In\" \"Tony Wang's Chinese Restaurant\" 'Tonys Pizza'\n",
      " \"Topper's Pizza\" 'Toppers Pizza' 'Tropical Smoothie Cafe'\n",
      " 'Tropicana Pizza' \"Tumby's Pizza\" 'Umami Burger' 'VeganBurg'\n",
      " 'Villa Italian Kitchen' 'Vista Drive In' 'W.G. Grinders' 'Waffle House'\n",
      " 'Walmart Supercenter' 'Wawa' \"Wendy's\" \"Wendy's Valenti Management\"\n",
      " 'West Point Pizza' 'Westchester Burger Company' \"Wetzel's Pretzels\"\n",
      " 'Whataburger' 'Which Wich' \"Whipper's Pizza\" 'White Castle'\n",
      " 'Wienerschitzel' 'Wienerschnitzel' \"Wild Willy's\" 'Wingstop'\n",
      " 'Wingstop Restaurant' 'Wise Guys A Chicago Eatery' 'Wolf River Diner'\n",
      " \"Wolf's Dairy Queen\" 'Yoshinoya' 'Zankou Chicken' \"Zaxby's\"\n",
      " \"Zaxby's Chicken Fingers & Buffalo Wings\" \"Zio's Italian Kitchen\"\n",
      " 'b.good' 'iSushi']\n"
     ]
    }
   ],
   "source": [
    "# get unique names in list and sort alphabetically to assist with cleaning\n",
    "names = Rest_2018['Name'].unique()\n",
    "names.sort()\n",
    "print(len(names))\n",
    "print(names)"
   ]
  },
  {
   "cell_type": "code",
   "execution_count": 6,
   "metadata": {},
   "outputs": [],
   "source": [
    "# Rename all locations that have different spelling, punctuation etc\n",
    "Rest_2018['Name'] = Rest_2018['Name'].replace({\"Arby's - Closed\":\"Arby's\",'Arbys': \"Arby's\", \"Auntie Anne's\": \"Auntie Anne's Pretzels\",\"Baker's Drive Thru\":\"Baker's Drive-thru\",\"Ben and Jerry's\": \"Ben & Jerry's\",'Bob Evans Restaurant':'Bob Evans',\"Bojangles' Famous Chicken 'n Biscuits\": 'Bojangles', 'Burger King¬Æ': 'Burger King','Capri Italian Restaurant':'Capri Restaurant',\"Carl's Jr.\":\"Carl's Jr\",\"Carl's Jr. / Green Burrito\":\"Carl's Jr\",\"Carl's Jr / Green Burrito\":\"Carl's Jr\",'Caseys Carry Out Pizza':\"Casey's General Store\",\"Charley's Grilled Subs\":'Charleys Philly Steaks',\"Checker's Pizza\":'Checkers','Chick-fil-A':'Chick-Fil-A', 'Chipotle':'Chipotle Mexican Grill','Dairy Queen (Treat Only)':'Dairy Queen','Dunkin Donuts':\"Dunkin' Donuts\",'Five Guys Burgers Fries':'Five Guys', 'Five Guys Burgers And Fries':'Five Guys',\"Foster's Freeze\":'Fosters Freeze', \"Hardee's\":'Hardees',\"Hardee's / Red Burrito\":'Hardees', \"Hardee's/red Burrito\":'Hardees','Jack in the Box':'Jack In The Box', 'Jack in the Box -':'Jack In The Box'})\n",
    "Rest_2018['Name'] = Rest_2018['Name'].replace({\"Jimmy John's\":'Jimmy Johns','KFC - Kentucky Fried Chicken':'KFC','KFC/AW':'KFC','KFC/Long John Silvers':'KFC', 'KFC/Taco Bell':'KFC'})\n",
    "Rest_2018['Name'] = Rest_2018['Name'].replace({\"Little Caesar's Pizza\":'Little Caesars', 'Little Caesars Pizza':'Little Caesars',\"Long John Silver's / AW\" 'Long John Silvers':\"Long John Silver's\",'Long John Silvers / A&W':\"Long John Silver's\",'Mc Donalds':\"McDonald's\",\"McDonald's of Rolesville\":\"McDonald's\",'McDonalds':\"McDonald's\",\"McDonalds's\":\"McDonald's\",\"Mcdonald's\":\"McDonald's\",'Mcdonalds':\"McDonald's\",'Mcdonalds Whitehouse':\"McDonald's\"})\n",
    "Rest_2018['Name'] = Rest_2018['Name'].replace({'Panda Express Innovation Kitchen':'Panda Express' ,'PepperJax Grill':'Pepperjax Grill',\"Popeye's Louisiana Kitchen\":'Popeyes','Popeyes Chicken & Biscuits':'Popeyes','Popeyes Chicken Biscuits':'Popeyes','Popeyes Louisiana Kitchen':'Popeyes'})\n",
    "Rest_2018['Name'] = Rest_2018['Name'].replace({'QDOBA Mexican Eats':'Qdoba Mexican Grill', 'Qdoba Mexican Eats':'Qdoba Mexican Grill', \"Quizno's\": 'Quiznos', 'Quiznos Sub':'Quiznos',\"Raising Cane's\":'Raising Canes', \"Raising Cane's Chicken Fingers\":'Raising Canes'})\n",
    "Rest_2018['Name'] = Rest_2018['Name'].replace({\"Rally's Hamburgers\":\"Rally's\", 'Rallys':\"Rally's\",'Roma Pizza':'Romas Pizza','SONIC Drive In': 'SONIC Drive-In', 'SUBWAY¬Æ':'SUBWAY'})\n",
    "Rest_2018['Name'] = Rest_2018['Name'].replace({'Sonic':'SONIC Drive-In', \"Sonic America's Drive-In\":'SONIC Drive-In','Sonic Drive In':'SONIC Drive-In','Sonic Drive in':'SONIC Drive-In','Sonic Drive-In':'SONIC Drive-In',\"Steak 'n Shake\":'Steak N Shake','Taco Bell / KFC':'Taco Bell' ,'Taco Bell/KFC':'Taco Bell','Taco Bell/Pizza Hut':'Taco Bell'})\n",
    "Rest_2018['Name'] = Rest_2018['Name'].replace({ 'Wienerschitzel':'Wienerschnitzel','Wingstop Restaurant':'Wingstop',\"Wolf's Dairy Queen\" :'Dairy Queen',\"Zaxby's Chicken Fingers & Buffalo Wings\": \"Zaxby's\",'b.good':'B.GOOD', 'A&W/Long John Silvers':\"Long John Silver's\"})\n",
    "# After going through team decided to rename Pizza Hut, Taco Bell and KFC to YUM Brands\n",
    "Rest_2018['Name'] = Rest_2018['Name'].replace({'Pizza Hut': 'YUM Brands', 'KFC': 'YUM Brands','Taco Bell': 'YUM Brands'})"
   ]
  },
  {
   "cell_type": "code",
   "execution_count": 7,
   "metadata": {},
   "outputs": [],
   "source": [
    "# Remove locations that are not food related 'Walmart Supercenter''T-Mobile''Hilton Boston Logan Airport''7-Eleven'\n",
    "# https://thispointer.com/python-pandas-how-to-drop-rows-in-dataframe-by-conditions-on-column-values/\n",
    "indexNames= Rest_2018[(Rest_2018['Name']=='Walmart Supercenter')].index\n",
    "Rest_2018.drop(indexNames, inplace=True)"
   ]
  },
  {
   "cell_type": "code",
   "execution_count": 8,
   "metadata": {},
   "outputs": [],
   "source": [
    "indexNames= Rest_2018[(Rest_2018['Name']=='T-Mobile')].index\n",
    "Rest_2018.drop(indexNames, inplace=True)"
   ]
  },
  {
   "cell_type": "code",
   "execution_count": 9,
   "metadata": {},
   "outputs": [],
   "source": [
    "indexNames= Rest_2018[(Rest_2018['Name']=='Hilton Boston Logan Airport')].index\n",
    "Rest_2018.drop(indexNames, inplace=True)"
   ]
  },
  {
   "cell_type": "code",
   "execution_count": 10,
   "metadata": {},
   "outputs": [
    {
     "name": "stdout",
     "output_type": "stream",
     "text": [
      "9977\n"
     ]
    },
    {
     "data": {
      "text/plain": [
       "491"
      ]
     },
     "execution_count": 10,
     "metadata": {},
     "output_type": "execute_result"
    }
   ],
   "source": [
    "indexNames= Rest_2018[(Rest_2018['Name']=='7-Eleven')].index\n",
    "Rest_2018.drop(indexNames, inplace=True)\n",
    "print(len(Rest_2018))\n",
    "Rest_2018['Name'].nunique()"
   ]
  },
  {
   "cell_type": "code",
   "execution_count": 11,
   "metadata": {},
   "outputs": [
    {
     "data": {
      "text/plain": [
       "McDonald's           1953\n",
       "YUM Brands           1442\n",
       "Burger King           834\n",
       "Subway                776\n",
       "Arby's                669\n",
       "                     ... \n",
       "China Restaurant        1\n",
       "The Hotdog Shoppe       1\n",
       "Mr. Chicken             1\n",
       "Charo Chicken           1\n",
       "Cobani Gyro Kebab       1\n",
       "Name: Name, Length: 491, dtype: int64"
      ]
     },
     "execution_count": 11,
     "metadata": {},
     "output_type": "execute_result"
    }
   ],
   "source": [
    "# find number of entries for each location\n",
    "Rest_2018['Name'].value_counts()"
   ]
  },
  {
   "cell_type": "code",
   "execution_count": 12,
   "metadata": {},
   "outputs": [
    {
     "name": "stdout",
     "output_type": "stream",
     "text": [
      "8526\n"
     ]
    },
    {
     "data": {
      "text/plain": [
       "McDonald's         1953\n",
       "YUM Brands         1442\n",
       "Burger King         834\n",
       "Subway              776\n",
       "Arby's              669\n",
       "Wendy's             628\n",
       "Jack In The Box     332\n",
       "Chick-Fil-A         228\n",
       "Dairy Queen         220\n",
       "Domino's Pizza      215\n",
       "SONIC Drive-In      205\n",
       "Carl's Jr           130\n",
       "Jimmy Johns         121\n",
       "Hardees             104\n",
       "Krystal              82\n",
       "Dunkin' Donuts       76\n",
       "Panera Bread         76\n",
       "SUBWAY               73\n",
       "Culver's             71\n",
       "Del Taco             66\n",
       "Panda Express        62\n",
       "Steak N Shake        56\n",
       "In-N-Out Burger      54\n",
       "Taco John's          53\n",
       "Name: Name, dtype: int64"
      ]
     },
     "execution_count": 12,
     "metadata": {},
     "output_type": "execute_result"
    }
   ],
   "source": [
    "# Remove all locations that have less than 50 entries\n",
    "# https://www.thetopsites.net/article/58467286.shtml\n",
    "threshold = 50\n",
    "clean_rest_2018 = Rest_2018[Rest_2018.groupby('Name')['Name'].transform('count')>threshold].copy()\n",
    "print(len(clean_rest_2018))\n",
    "clean_rest_2018['Name'].value_counts()"
   ]
  },
  {
   "cell_type": "code",
   "execution_count": 13,
   "metadata": {},
   "outputs": [],
   "source": [
    "clean_rest_2018.to_csv('../Resources/clean_rest_2018.csv', encoding='utf-8', index = False)"
   ]
  },
  {
   "cell_type": "code",
   "execution_count": 14,
   "metadata": {},
   "outputs": [
    {
     "name": "stdout",
     "output_type": "stream",
     "text": [
      "2629\n"
     ]
    }
   ],
   "source": [
    "# combine with chipotle csv\n",
    "# first read get file then read into pandas DF\n",
    "Chipotle_stores = \"../Resources/chipotle_stores.csv\"\n",
    "chipotle = pd.read_csv(Chipotle_stores)\n",
    "chipotle.head(2)\n",
    "print(len(chipotle))"
   ]
  },
  {
   "cell_type": "code",
   "execution_count": 15,
   "metadata": {},
   "outputs": [
    {
     "name": "stdout",
     "output_type": "stream",
     "text": [
      "8526\n"
     ]
    }
   ],
   "source": [
    "clean_rest_2018= clean_rest_2018[['Name', 'Address', 'City','State', 'Zip Code','Country', 'Latitude', 'Longitude']]\n",
    "clean_rest_2018.head(2)\n",
    "print(len(clean_rest_2018))"
   ]
  },
  {
   "cell_type": "code",
   "execution_count": 16,
   "metadata": {},
   "outputs": [
    {
     "name": "stdout",
     "output_type": "stream",
     "text": [
      "11155\n"
     ]
    },
    {
     "data": {
      "text/html": [
       "<div>\n",
       "<style scoped>\n",
       "    .dataframe tbody tr th:only-of-type {\n",
       "        vertical-align: middle;\n",
       "    }\n",
       "\n",
       "    .dataframe tbody tr th {\n",
       "        vertical-align: top;\n",
       "    }\n",
       "\n",
       "    .dataframe thead th {\n",
       "        text-align: right;\n",
       "    }\n",
       "</style>\n",
       "<table border=\"1\" class=\"dataframe\">\n",
       "  <thead>\n",
       "    <tr style=\"text-align: right;\">\n",
       "      <th></th>\n",
       "      <th>Name</th>\n",
       "      <th>Address</th>\n",
       "      <th>City</th>\n",
       "      <th>State</th>\n",
       "      <th>Zip Code</th>\n",
       "      <th>Country</th>\n",
       "      <th>Latitude</th>\n",
       "      <th>Longitude</th>\n",
       "    </tr>\n",
       "  </thead>\n",
       "  <tbody>\n",
       "    <tr>\n",
       "      <th>9995</th>\n",
       "      <td>YUM Brands</td>\n",
       "      <td>3460 Robinhood Rd</td>\n",
       "      <td>Winston-Salem</td>\n",
       "      <td>NC</td>\n",
       "      <td>27106</td>\n",
       "      <td>US</td>\n",
       "      <td>36.117563</td>\n",
       "      <td>-80.316553</td>\n",
       "    </tr>\n",
       "    <tr>\n",
       "      <th>9996</th>\n",
       "      <td>YUM Brands</td>\n",
       "      <td>3069 Kernersville Rd</td>\n",
       "      <td>Winston-Salem</td>\n",
       "      <td>NC</td>\n",
       "      <td>27107</td>\n",
       "      <td>US</td>\n",
       "      <td>36.077718</td>\n",
       "      <td>-80.176748</td>\n",
       "    </tr>\n",
       "    <tr>\n",
       "      <th>9997</th>\n",
       "      <td>YUM Brands</td>\n",
       "      <td>838 S Main St</td>\n",
       "      <td>Kernersville</td>\n",
       "      <td>NC</td>\n",
       "      <td>27284</td>\n",
       "      <td>US</td>\n",
       "      <td>36.111015</td>\n",
       "      <td>-80.089165</td>\n",
       "    </tr>\n",
       "    <tr>\n",
       "      <th>9998</th>\n",
       "      <td>YUM Brands</td>\n",
       "      <td>1702 Glendale Dr SW</td>\n",
       "      <td>Wilson</td>\n",
       "      <td>NC</td>\n",
       "      <td>27893</td>\n",
       "      <td>US</td>\n",
       "      <td>35.719981</td>\n",
       "      <td>-77.945795</td>\n",
       "    </tr>\n",
       "    <tr>\n",
       "      <th>9999</th>\n",
       "      <td>YUM Brands</td>\n",
       "      <td>1405 W Broad St</td>\n",
       "      <td>Elizabethtown</td>\n",
       "      <td>NC</td>\n",
       "      <td>28337</td>\n",
       "      <td>US</td>\n",
       "      <td>34.632778</td>\n",
       "      <td>-78.624615</td>\n",
       "    </tr>\n",
       "  </tbody>\n",
       "</table>\n",
       "</div>"
      ],
      "text/plain": [
       "            Name               Address           City State Zip Code Country  \\\n",
       "9995  YUM Brands     3460 Robinhood Rd  Winston-Salem    NC    27106      US   \n",
       "9996  YUM Brands  3069 Kernersville Rd  Winston-Salem    NC    27107      US   \n",
       "9997  YUM Brands         838 S Main St   Kernersville    NC    27284      US   \n",
       "9998  YUM Brands   1702 Glendale Dr SW         Wilson    NC    27893      US   \n",
       "9999  YUM Brands       1405 W Broad St  Elizabethtown    NC    28337      US   \n",
       "\n",
       "       Latitude  Longitude  \n",
       "9995  36.117563 -80.316553  \n",
       "9996  36.077718 -80.176748  \n",
       "9997  36.111015 -80.089165  \n",
       "9998  35.719981 -77.945795  \n",
       "9999  34.632778 -78.624615  "
      ]
     },
     "execution_count": 16,
     "metadata": {},
     "output_type": "execute_result"
    }
   ],
   "source": [
    "combine= [chipotle,clean_rest_2018]\n",
    "all_rest_df = pd.concat(combine)\n",
    "print(len(all_rest_df))\n",
    "all_rest_df.tail()"
   ]
  },
  {
   "cell_type": "code",
   "execution_count": 20,
   "metadata": {},
   "outputs": [
    {
     "name": "stdout",
     "output_type": "stream",
     "text": [
      "<class 'pandas.core.frame.DataFrame'>\n",
      "Int64Index: 11155 entries, 0 to 9999\n",
      "Data columns (total 8 columns):\n",
      " #   Column     Non-Null Count  Dtype  \n",
      "---  ------     --------------  -----  \n",
      " 0   Name       11155 non-null  object \n",
      " 1   Address    11155 non-null  object \n",
      " 2   City       11155 non-null  object \n",
      " 3   State      11155 non-null  object \n",
      " 4   Zip Code   11155 non-null  object \n",
      " 5   Country    11155 non-null  object \n",
      " 6   Latitude   11155 non-null  float64\n",
      " 7   Longitude  11155 non-null  float64\n",
      "dtypes: float64(2), object(6)\n",
      "memory usage: 784.3+ KB\n"
     ]
    }
   ],
   "source": [
    "all_rest_df.info()"
   ]
  },
  {
   "cell_type": "code",
   "execution_count": 22,
   "metadata": {},
   "outputs": [
    {
     "ename": "ValueError",
     "evalue": "could not convert string to float: 'e 3001'",
     "output_type": "error",
     "traceback": [
      "\u001b[1;31m---------------------------------------------------------------------------\u001b[0m",
      "\u001b[1;31mValueError\u001b[0m                                Traceback (most recent call last)",
      "\u001b[1;32m<ipython-input-22-dd25079a7daa>\u001b[0m in \u001b[0;36m<module>\u001b[1;34m()\u001b[0m\n\u001b[0;32m      1\u001b[0m \u001b[0mall_rest_df\u001b[0m\u001b[1;33m=\u001b[0m \u001b[0mall_rest_df\u001b[0m\u001b[1;33m.\u001b[0m\u001b[0mrename\u001b[0m\u001b[1;33m(\u001b[0m\u001b[0mcolumns\u001b[0m\u001b[1;33m=\u001b[0m\u001b[1;33m{\u001b[0m\u001b[1;34m'Zip Code'\u001b[0m\u001b[1;33m:\u001b[0m \u001b[1;34m'Zipcode'\u001b[0m\u001b[1;33m}\u001b[0m\u001b[1;33m)\u001b[0m\u001b[1;33m\u001b[0m\u001b[1;33m\u001b[0m\u001b[0m\n\u001b[1;32m----> 2\u001b[1;33m \u001b[0mall_rest_df\u001b[0m\u001b[1;33m[\u001b[0m\u001b[1;34m'Zipcode'\u001b[0m\u001b[1;33m]\u001b[0m\u001b[1;33m=\u001b[0m\u001b[0mall_rest_df\u001b[0m\u001b[1;33m.\u001b[0m\u001b[0mZipcode\u001b[0m\u001b[1;33m.\u001b[0m\u001b[0mastype\u001b[0m\u001b[1;33m(\u001b[0m\u001b[0mfloat\u001b[0m\u001b[1;33m)\u001b[0m\u001b[1;33m\u001b[0m\u001b[1;33m\u001b[0m\u001b[0m\n\u001b[0m\u001b[0;32m      3\u001b[0m \u001b[0mall_rest_df\u001b[0m\u001b[1;33m.\u001b[0m\u001b[0minfo\u001b[0m\u001b[1;33m(\u001b[0m\u001b[1;33m)\u001b[0m\u001b[1;33m\u001b[0m\u001b[1;33m\u001b[0m\u001b[0m\n",
      "\u001b[1;32mC:\\Users\\jfors\\anaconda3\\envs\\pythondata\\lib\\site-packages\\pandas\\core\\generic.py\u001b[0m in \u001b[0;36mastype\u001b[1;34m(self, dtype, copy, errors)\u001b[0m\n\u001b[0;32m   5696\u001b[0m         \u001b[1;32melse\u001b[0m\u001b[1;33m:\u001b[0m\u001b[1;33m\u001b[0m\u001b[1;33m\u001b[0m\u001b[0m\n\u001b[0;32m   5697\u001b[0m             \u001b[1;31m# else, only a single dtype is given\u001b[0m\u001b[1;33m\u001b[0m\u001b[1;33m\u001b[0m\u001b[1;33m\u001b[0m\u001b[0m\n\u001b[1;32m-> 5698\u001b[1;33m             \u001b[0mnew_data\u001b[0m \u001b[1;33m=\u001b[0m \u001b[0mself\u001b[0m\u001b[1;33m.\u001b[0m\u001b[0m_data\u001b[0m\u001b[1;33m.\u001b[0m\u001b[0mastype\u001b[0m\u001b[1;33m(\u001b[0m\u001b[0mdtype\u001b[0m\u001b[1;33m=\u001b[0m\u001b[0mdtype\u001b[0m\u001b[1;33m,\u001b[0m \u001b[0mcopy\u001b[0m\u001b[1;33m=\u001b[0m\u001b[0mcopy\u001b[0m\u001b[1;33m,\u001b[0m \u001b[0merrors\u001b[0m\u001b[1;33m=\u001b[0m\u001b[0merrors\u001b[0m\u001b[1;33m)\u001b[0m\u001b[1;33m\u001b[0m\u001b[1;33m\u001b[0m\u001b[0m\n\u001b[0m\u001b[0;32m   5699\u001b[0m             \u001b[1;32mreturn\u001b[0m \u001b[0mself\u001b[0m\u001b[1;33m.\u001b[0m\u001b[0m_constructor\u001b[0m\u001b[1;33m(\u001b[0m\u001b[0mnew_data\u001b[0m\u001b[1;33m)\u001b[0m\u001b[1;33m.\u001b[0m\u001b[0m__finalize__\u001b[0m\u001b[1;33m(\u001b[0m\u001b[0mself\u001b[0m\u001b[1;33m)\u001b[0m\u001b[1;33m\u001b[0m\u001b[1;33m\u001b[0m\u001b[0m\n\u001b[0;32m   5700\u001b[0m \u001b[1;33m\u001b[0m\u001b[0m\n",
      "\u001b[1;32mC:\\Users\\jfors\\anaconda3\\envs\\pythondata\\lib\\site-packages\\pandas\\core\\internals\\managers.py\u001b[0m in \u001b[0;36mastype\u001b[1;34m(self, dtype, copy, errors)\u001b[0m\n\u001b[0;32m    580\u001b[0m \u001b[1;33m\u001b[0m\u001b[0m\n\u001b[0;32m    581\u001b[0m     \u001b[1;32mdef\u001b[0m \u001b[0mastype\u001b[0m\u001b[1;33m(\u001b[0m\u001b[0mself\u001b[0m\u001b[1;33m,\u001b[0m \u001b[0mdtype\u001b[0m\u001b[1;33m,\u001b[0m \u001b[0mcopy\u001b[0m\u001b[1;33m:\u001b[0m \u001b[0mbool\u001b[0m \u001b[1;33m=\u001b[0m \u001b[1;32mFalse\u001b[0m\u001b[1;33m,\u001b[0m \u001b[0merrors\u001b[0m\u001b[1;33m:\u001b[0m \u001b[0mstr\u001b[0m \u001b[1;33m=\u001b[0m \u001b[1;34m\"raise\"\u001b[0m\u001b[1;33m)\u001b[0m\u001b[1;33m:\u001b[0m\u001b[1;33m\u001b[0m\u001b[1;33m\u001b[0m\u001b[0m\n\u001b[1;32m--> 582\u001b[1;33m         \u001b[1;32mreturn\u001b[0m \u001b[0mself\u001b[0m\u001b[1;33m.\u001b[0m\u001b[0mapply\u001b[0m\u001b[1;33m(\u001b[0m\u001b[1;34m\"astype\"\u001b[0m\u001b[1;33m,\u001b[0m \u001b[0mdtype\u001b[0m\u001b[1;33m=\u001b[0m\u001b[0mdtype\u001b[0m\u001b[1;33m,\u001b[0m \u001b[0mcopy\u001b[0m\u001b[1;33m=\u001b[0m\u001b[0mcopy\u001b[0m\u001b[1;33m,\u001b[0m \u001b[0merrors\u001b[0m\u001b[1;33m=\u001b[0m\u001b[0merrors\u001b[0m\u001b[1;33m)\u001b[0m\u001b[1;33m\u001b[0m\u001b[1;33m\u001b[0m\u001b[0m\n\u001b[0m\u001b[0;32m    583\u001b[0m \u001b[1;33m\u001b[0m\u001b[0m\n\u001b[0;32m    584\u001b[0m     \u001b[1;32mdef\u001b[0m \u001b[0mconvert\u001b[0m\u001b[1;33m(\u001b[0m\u001b[0mself\u001b[0m\u001b[1;33m,\u001b[0m \u001b[1;33m**\u001b[0m\u001b[0mkwargs\u001b[0m\u001b[1;33m)\u001b[0m\u001b[1;33m:\u001b[0m\u001b[1;33m\u001b[0m\u001b[1;33m\u001b[0m\u001b[0m\n",
      "\u001b[1;32mC:\\Users\\jfors\\anaconda3\\envs\\pythondata\\lib\\site-packages\\pandas\\core\\internals\\managers.py\u001b[0m in \u001b[0;36mapply\u001b[1;34m(self, f, filter, **kwargs)\u001b[0m\n\u001b[0;32m    440\u001b[0m                 \u001b[0mapplied\u001b[0m \u001b[1;33m=\u001b[0m \u001b[0mb\u001b[0m\u001b[1;33m.\u001b[0m\u001b[0mapply\u001b[0m\u001b[1;33m(\u001b[0m\u001b[0mf\u001b[0m\u001b[1;33m,\u001b[0m \u001b[1;33m**\u001b[0m\u001b[0mkwargs\u001b[0m\u001b[1;33m)\u001b[0m\u001b[1;33m\u001b[0m\u001b[1;33m\u001b[0m\u001b[0m\n\u001b[0;32m    441\u001b[0m             \u001b[1;32melse\u001b[0m\u001b[1;33m:\u001b[0m\u001b[1;33m\u001b[0m\u001b[1;33m\u001b[0m\u001b[0m\n\u001b[1;32m--> 442\u001b[1;33m                 \u001b[0mapplied\u001b[0m \u001b[1;33m=\u001b[0m \u001b[0mgetattr\u001b[0m\u001b[1;33m(\u001b[0m\u001b[0mb\u001b[0m\u001b[1;33m,\u001b[0m \u001b[0mf\u001b[0m\u001b[1;33m)\u001b[0m\u001b[1;33m(\u001b[0m\u001b[1;33m**\u001b[0m\u001b[0mkwargs\u001b[0m\u001b[1;33m)\u001b[0m\u001b[1;33m\u001b[0m\u001b[1;33m\u001b[0m\u001b[0m\n\u001b[0m\u001b[0;32m    443\u001b[0m             \u001b[0mresult_blocks\u001b[0m \u001b[1;33m=\u001b[0m \u001b[0m_extend_blocks\u001b[0m\u001b[1;33m(\u001b[0m\u001b[0mapplied\u001b[0m\u001b[1;33m,\u001b[0m \u001b[0mresult_blocks\u001b[0m\u001b[1;33m)\u001b[0m\u001b[1;33m\u001b[0m\u001b[1;33m\u001b[0m\u001b[0m\n\u001b[0;32m    444\u001b[0m \u001b[1;33m\u001b[0m\u001b[0m\n",
      "\u001b[1;32mC:\\Users\\jfors\\anaconda3\\envs\\pythondata\\lib\\site-packages\\pandas\\core\\internals\\blocks.py\u001b[0m in \u001b[0;36mastype\u001b[1;34m(self, dtype, copy, errors)\u001b[0m\n\u001b[0;32m    623\u001b[0m             \u001b[0mvals1d\u001b[0m \u001b[1;33m=\u001b[0m \u001b[0mvalues\u001b[0m\u001b[1;33m.\u001b[0m\u001b[0mravel\u001b[0m\u001b[1;33m(\u001b[0m\u001b[1;33m)\u001b[0m\u001b[1;33m\u001b[0m\u001b[1;33m\u001b[0m\u001b[0m\n\u001b[0;32m    624\u001b[0m             \u001b[1;32mtry\u001b[0m\u001b[1;33m:\u001b[0m\u001b[1;33m\u001b[0m\u001b[1;33m\u001b[0m\u001b[0m\n\u001b[1;32m--> 625\u001b[1;33m                 \u001b[0mvalues\u001b[0m \u001b[1;33m=\u001b[0m \u001b[0mastype_nansafe\u001b[0m\u001b[1;33m(\u001b[0m\u001b[0mvals1d\u001b[0m\u001b[1;33m,\u001b[0m \u001b[0mdtype\u001b[0m\u001b[1;33m,\u001b[0m \u001b[0mcopy\u001b[0m\u001b[1;33m=\u001b[0m\u001b[1;32mTrue\u001b[0m\u001b[1;33m)\u001b[0m\u001b[1;33m\u001b[0m\u001b[1;33m\u001b[0m\u001b[0m\n\u001b[0m\u001b[0;32m    626\u001b[0m             \u001b[1;32mexcept\u001b[0m \u001b[1;33m(\u001b[0m\u001b[0mValueError\u001b[0m\u001b[1;33m,\u001b[0m \u001b[0mTypeError\u001b[0m\u001b[1;33m)\u001b[0m\u001b[1;33m:\u001b[0m\u001b[1;33m\u001b[0m\u001b[1;33m\u001b[0m\u001b[0m\n\u001b[0;32m    627\u001b[0m                 \u001b[1;31m# e.g. astype_nansafe can fail on object-dtype of strings\u001b[0m\u001b[1;33m\u001b[0m\u001b[1;33m\u001b[0m\u001b[1;33m\u001b[0m\u001b[0m\n",
      "\u001b[1;32mC:\\Users\\jfors\\anaconda3\\envs\\pythondata\\lib\\site-packages\\pandas\\core\\dtypes\\cast.py\u001b[0m in \u001b[0;36mastype_nansafe\u001b[1;34m(arr, dtype, copy, skipna)\u001b[0m\n\u001b[0;32m    895\u001b[0m     \u001b[1;32mif\u001b[0m \u001b[0mcopy\u001b[0m \u001b[1;32mor\u001b[0m \u001b[0mis_object_dtype\u001b[0m\u001b[1;33m(\u001b[0m\u001b[0marr\u001b[0m\u001b[1;33m)\u001b[0m \u001b[1;32mor\u001b[0m \u001b[0mis_object_dtype\u001b[0m\u001b[1;33m(\u001b[0m\u001b[0mdtype\u001b[0m\u001b[1;33m)\u001b[0m\u001b[1;33m:\u001b[0m\u001b[1;33m\u001b[0m\u001b[1;33m\u001b[0m\u001b[0m\n\u001b[0;32m    896\u001b[0m         \u001b[1;31m# Explicit copy, or required since NumPy can't view from / to object.\u001b[0m\u001b[1;33m\u001b[0m\u001b[1;33m\u001b[0m\u001b[1;33m\u001b[0m\u001b[0m\n\u001b[1;32m--> 897\u001b[1;33m         \u001b[1;32mreturn\u001b[0m \u001b[0marr\u001b[0m\u001b[1;33m.\u001b[0m\u001b[0mastype\u001b[0m\u001b[1;33m(\u001b[0m\u001b[0mdtype\u001b[0m\u001b[1;33m,\u001b[0m \u001b[0mcopy\u001b[0m\u001b[1;33m=\u001b[0m\u001b[1;32mTrue\u001b[0m\u001b[1;33m)\u001b[0m\u001b[1;33m\u001b[0m\u001b[1;33m\u001b[0m\u001b[0m\n\u001b[0m\u001b[0;32m    898\u001b[0m \u001b[1;33m\u001b[0m\u001b[0m\n\u001b[0;32m    899\u001b[0m     \u001b[1;32mreturn\u001b[0m \u001b[0marr\u001b[0m\u001b[1;33m.\u001b[0m\u001b[0mview\u001b[0m\u001b[1;33m(\u001b[0m\u001b[0mdtype\u001b[0m\u001b[1;33m)\u001b[0m\u001b[1;33m\u001b[0m\u001b[1;33m\u001b[0m\u001b[0m\n",
      "\u001b[1;31mValueError\u001b[0m: could not convert string to float: 'e 3001'"
     ]
    }
   ],
   "source": [
    "all_rest_df= all_rest_df.rename(columns={'Zip Code': 'Zipcode'})\n",
    "all_rest_df['Zipcode']=all_rest_df.Zipcode.astype(float)\n",
    "all_rest_df.info()"
   ]
  },
  {
   "cell_type": "code",
   "execution_count": 18,
   "metadata": {},
   "outputs": [
    {
     "data": {
      "text/html": [
       "<div>\n",
       "<style scoped>\n",
       "    .dataframe tbody tr th:only-of-type {\n",
       "        vertical-align: middle;\n",
       "    }\n",
       "\n",
       "    .dataframe tbody tr th {\n",
       "        vertical-align: top;\n",
       "    }\n",
       "\n",
       "    .dataframe thead th {\n",
       "        text-align: right;\n",
       "    }\n",
       "</style>\n",
       "<table border=\"1\" class=\"dataframe\">\n",
       "  <thead>\n",
       "    <tr style=\"text-align: right;\">\n",
       "      <th></th>\n",
       "      <th>Zip Code</th>\n",
       "      <th>Population</th>\n",
       "      <th>Median Age</th>\n",
       "      <th>Household Income</th>\n",
       "      <th>Per Capita Income</th>\n",
       "      <th>Poverty Count</th>\n",
       "      <th>Poverty Rate</th>\n",
       "    </tr>\n",
       "  </thead>\n",
       "  <tbody>\n",
       "    <tr>\n",
       "      <th>0</th>\n",
       "      <td>601.0</td>\n",
       "      <td>17242.0</td>\n",
       "      <td>40.5</td>\n",
       "      <td>13092.0</td>\n",
       "      <td>6999.0</td>\n",
       "      <td>10772.0</td>\n",
       "      <td>62.475351</td>\n",
       "    </tr>\n",
       "    <tr>\n",
       "      <th>1</th>\n",
       "      <td>602.0</td>\n",
       "      <td>38442.0</td>\n",
       "      <td>42.3</td>\n",
       "      <td>16358.0</td>\n",
       "      <td>9277.0</td>\n",
       "      <td>19611.0</td>\n",
       "      <td>51.014515</td>\n",
       "    </tr>\n",
       "    <tr>\n",
       "      <th>2</th>\n",
       "      <td>603.0</td>\n",
       "      <td>48814.0</td>\n",
       "      <td>41.1</td>\n",
       "      <td>16603.0</td>\n",
       "      <td>11307.0</td>\n",
       "      <td>24337.0</td>\n",
       "      <td>49.856599</td>\n",
       "    </tr>\n",
       "    <tr>\n",
       "      <th>3</th>\n",
       "      <td>606.0</td>\n",
       "      <td>6437.0</td>\n",
       "      <td>43.3</td>\n",
       "      <td>12832.0</td>\n",
       "      <td>5943.0</td>\n",
       "      <td>4163.0</td>\n",
       "      <td>64.672984</td>\n",
       "    </tr>\n",
       "    <tr>\n",
       "      <th>4</th>\n",
       "      <td>610.0</td>\n",
       "      <td>27073.0</td>\n",
       "      <td>42.1</td>\n",
       "      <td>19309.0</td>\n",
       "      <td>10220.0</td>\n",
       "      <td>11724.0</td>\n",
       "      <td>43.305138</td>\n",
       "    </tr>\n",
       "  </tbody>\n",
       "</table>\n",
       "</div>"
      ],
      "text/plain": [
       "   Zip Code  Population  Median Age  Household Income  Per Capita Income  \\\n",
       "0     601.0     17242.0        40.5           13092.0             6999.0   \n",
       "1     602.0     38442.0        42.3           16358.0             9277.0   \n",
       "2     603.0     48814.0        41.1           16603.0            11307.0   \n",
       "3     606.0      6437.0        43.3           12832.0             5943.0   \n",
       "4     610.0     27073.0        42.1           19309.0            10220.0   \n",
       "\n",
       "   Poverty Count  Poverty Rate  \n",
       "0        10772.0     62.475351  \n",
       "1        19611.0     51.014515  \n",
       "2        24337.0     49.856599  \n",
       "3         4163.0     64.672984  \n",
       "4        11724.0     43.305138  "
      ]
     },
     "execution_count": 18,
     "metadata": {},
     "output_type": "execute_result"
    }
   ],
   "source": [
    "census_2018=census_2018.rename(columns={'Zipcode': 'Zip Code'})\n",
    "census_2018.head()"
   ]
  },
  {
   "cell_type": "code",
   "execution_count": 19,
   "metadata": {},
   "outputs": [
    {
     "ename": "ValueError",
     "evalue": "You are trying to merge on object and float64 columns. If you wish to proceed you should use pd.concat",
     "output_type": "error",
     "traceback": [
      "\u001b[1;31m---------------------------------------------------------------------------\u001b[0m",
      "\u001b[1;31mValueError\u001b[0m                                Traceback (most recent call last)",
      "\u001b[1;32m<ipython-input-19-4302bb094f60>\u001b[0m in \u001b[0;36m<module>\u001b[1;34m()\u001b[0m\n\u001b[0;32m      1\u001b[0m \u001b[1;31m# Add census data to right of all rest data\u001b[0m\u001b[1;33m\u001b[0m\u001b[1;33m\u001b[0m\u001b[1;33m\u001b[0m\u001b[0m\n\u001b[0;32m      2\u001b[0m \u001b[1;31m# https://stackoverflow.com/questions/17978133/python-pandas-merge-only-certain-columns\u001b[0m\u001b[1;33m\u001b[0m\u001b[1;33m\u001b[0m\u001b[1;33m\u001b[0m\u001b[0m\n\u001b[1;32m----> 3\u001b[1;33m \u001b[0mall_rest_df\u001b[0m \u001b[1;33m=\u001b[0m \u001b[0mpd\u001b[0m\u001b[1;33m.\u001b[0m\u001b[0mmerge\u001b[0m\u001b[1;33m(\u001b[0m\u001b[0mall_rest_df\u001b[0m\u001b[1;33m,\u001b[0m\u001b[0mcensus_2018\u001b[0m\u001b[1;33m,\u001b[0m \u001b[0mon\u001b[0m\u001b[1;33m=\u001b[0m\u001b[1;34m\"Zip Code\"\u001b[0m\u001b[1;33m,\u001b[0m \u001b[0mhow\u001b[0m\u001b[1;33m=\u001b[0m\u001b[1;34m'right'\u001b[0m\u001b[1;33m)\u001b[0m\u001b[1;33m\u001b[0m\u001b[1;33m\u001b[0m\u001b[0m\n\u001b[0m\u001b[0;32m      4\u001b[0m \u001b[0mprint\u001b[0m\u001b[1;33m(\u001b[0m\u001b[0mlen\u001b[0m\u001b[1;33m(\u001b[0m\u001b[0mall_rest_df\u001b[0m\u001b[1;33m)\u001b[0m\u001b[1;33m)\u001b[0m\u001b[1;33m\u001b[0m\u001b[1;33m\u001b[0m\u001b[0m\n\u001b[0;32m      5\u001b[0m \u001b[0mall_rest_df\u001b[0m\u001b[1;33m.\u001b[0m\u001b[0mhead\u001b[0m\u001b[1;33m(\u001b[0m\u001b[1;36m150\u001b[0m\u001b[1;33m)\u001b[0m\u001b[1;33m\u001b[0m\u001b[1;33m\u001b[0m\u001b[0m\n",
      "\u001b[1;32mC:\\Users\\jfors\\anaconda3\\envs\\pythondata\\lib\\site-packages\\pandas\\core\\reshape\\merge.py\u001b[0m in \u001b[0;36mmerge\u001b[1;34m(left, right, how, on, left_on, right_on, left_index, right_index, sort, suffixes, copy, indicator, validate)\u001b[0m\n\u001b[0;32m     84\u001b[0m         \u001b[0mcopy\u001b[0m\u001b[1;33m=\u001b[0m\u001b[0mcopy\u001b[0m\u001b[1;33m,\u001b[0m\u001b[1;33m\u001b[0m\u001b[1;33m\u001b[0m\u001b[0m\n\u001b[0;32m     85\u001b[0m         \u001b[0mindicator\u001b[0m\u001b[1;33m=\u001b[0m\u001b[0mindicator\u001b[0m\u001b[1;33m,\u001b[0m\u001b[1;33m\u001b[0m\u001b[1;33m\u001b[0m\u001b[0m\n\u001b[1;32m---> 86\u001b[1;33m         \u001b[0mvalidate\u001b[0m\u001b[1;33m=\u001b[0m\u001b[0mvalidate\u001b[0m\u001b[1;33m,\u001b[0m\u001b[1;33m\u001b[0m\u001b[1;33m\u001b[0m\u001b[0m\n\u001b[0m\u001b[0;32m     87\u001b[0m     )\n\u001b[0;32m     88\u001b[0m     \u001b[1;32mreturn\u001b[0m \u001b[0mop\u001b[0m\u001b[1;33m.\u001b[0m\u001b[0mget_result\u001b[0m\u001b[1;33m(\u001b[0m\u001b[1;33m)\u001b[0m\u001b[1;33m\u001b[0m\u001b[1;33m\u001b[0m\u001b[0m\n",
      "\u001b[1;32mC:\\Users\\jfors\\anaconda3\\envs\\pythondata\\lib\\site-packages\\pandas\\core\\reshape\\merge.py\u001b[0m in \u001b[0;36m__init__\u001b[1;34m(self, left, right, how, on, left_on, right_on, axis, left_index, right_index, sort, suffixes, copy, indicator, validate)\u001b[0m\n\u001b[0;32m    629\u001b[0m         \u001b[1;31m# validate the merge keys dtypes. We may need to coerce\u001b[0m\u001b[1;33m\u001b[0m\u001b[1;33m\u001b[0m\u001b[1;33m\u001b[0m\u001b[0m\n\u001b[0;32m    630\u001b[0m         \u001b[1;31m# to avoid incompat dtypes\u001b[0m\u001b[1;33m\u001b[0m\u001b[1;33m\u001b[0m\u001b[1;33m\u001b[0m\u001b[0m\n\u001b[1;32m--> 631\u001b[1;33m         \u001b[0mself\u001b[0m\u001b[1;33m.\u001b[0m\u001b[0m_maybe_coerce_merge_keys\u001b[0m\u001b[1;33m(\u001b[0m\u001b[1;33m)\u001b[0m\u001b[1;33m\u001b[0m\u001b[1;33m\u001b[0m\u001b[0m\n\u001b[0m\u001b[0;32m    632\u001b[0m \u001b[1;33m\u001b[0m\u001b[0m\n\u001b[0;32m    633\u001b[0m         \u001b[1;31m# If argument passed to validate,\u001b[0m\u001b[1;33m\u001b[0m\u001b[1;33m\u001b[0m\u001b[1;33m\u001b[0m\u001b[0m\n",
      "\u001b[1;32mC:\\Users\\jfors\\anaconda3\\envs\\pythondata\\lib\\site-packages\\pandas\\core\\reshape\\merge.py\u001b[0m in \u001b[0;36m_maybe_coerce_merge_keys\u001b[1;34m(self)\u001b[0m\n\u001b[0;32m   1144\u001b[0m                     \u001b[0minferred_right\u001b[0m \u001b[1;32min\u001b[0m \u001b[0mstring_types\u001b[0m \u001b[1;32mand\u001b[0m \u001b[0minferred_left\u001b[0m \u001b[1;32mnot\u001b[0m \u001b[1;32min\u001b[0m \u001b[0mstring_types\u001b[0m\u001b[1;33m\u001b[0m\u001b[1;33m\u001b[0m\u001b[0m\n\u001b[0;32m   1145\u001b[0m                 ):\n\u001b[1;32m-> 1146\u001b[1;33m                     \u001b[1;32mraise\u001b[0m \u001b[0mValueError\u001b[0m\u001b[1;33m(\u001b[0m\u001b[0mmsg\u001b[0m\u001b[1;33m)\u001b[0m\u001b[1;33m\u001b[0m\u001b[1;33m\u001b[0m\u001b[0m\n\u001b[0m\u001b[0;32m   1147\u001b[0m \u001b[1;33m\u001b[0m\u001b[0m\n\u001b[0;32m   1148\u001b[0m             \u001b[1;31m# datetimelikes must match exactly\u001b[0m\u001b[1;33m\u001b[0m\u001b[1;33m\u001b[0m\u001b[1;33m\u001b[0m\u001b[0m\n",
      "\u001b[1;31mValueError\u001b[0m: You are trying to merge on object and float64 columns. If you wish to proceed you should use pd.concat"
     ]
    }
   ],
   "source": [
    "# Add census data to right of all rest data\n",
    "# https://stackoverflow.com/questions/17978133/python-pandas-merge-only-certain-columns\n",
    "all_rest_df = pd.merge(all_rest_df,census_2018, on=\"Zip Code\", how='right')\n",
    "print(len(all_rest_df))\n",
    "all_rest_df.head(150)"
   ]
  },
  {
   "cell_type": "code",
   "execution_count": null,
   "metadata": {},
   "outputs": [],
   "source": [
    "# drop all Nan values in address Column\n",
    "all_rest_df.dropna(subset=['Latitude'], inplace=True)\n",
    "all_rest_df"
   ]
  },
  {
   "cell_type": "code",
   "execution_count": null,
   "metadata": {},
   "outputs": [],
   "source": [
    "# wound up combinging via excel, could not get to combine without duplicate columns for address, city, etc. need to talk about at class\n",
    "\n",
    "all_rest_df = \"../Resources/All_rest_2018.csv\"\n",
    "all_rest_df = pd.read_csv(all_rest_df)\n",
    "all_rest_df.head()"
   ]
  },
  {
   "cell_type": "code",
   "execution_count": null,
   "metadata": {},
   "outputs": [],
   "source": [
    "all_rest_df['Population'].describe()\n"
   ]
  },
  {
   "cell_type": "code",
   "execution_count": null,
   "metadata": {},
   "outputs": [],
   "source": [
    "print(len(all_rest_df))\n",
    "all_rest_df.head()"
   ]
  },
  {
   "cell_type": "code",
   "execution_count": null,
   "metadata": {},
   "outputs": [],
   "source": [
    "print(len(census_2018))"
   ]
  },
  {
   "cell_type": "code",
   "execution_count": null,
   "metadata": {},
   "outputs": [],
   "source": [
    "census_2018=census_2018.dropna(how='any')\n",
    "print(len(census_2018))\n",
    "census_2018.head(2)"
   ]
  },
  {
   "cell_type": "code",
   "execution_count": null,
   "metadata": {},
   "outputs": [],
   "source": [
    "# api_key = g_key\n",
    "# single= requests.get(\"https://maps.googleapis.com/maps/api/geocode/json?key=\" + api_key +\"&components=postal_code:97403\")\n",
    "# single_response = single.json()\n",
    "\n",
    "# print(json.dumps(single_response, indent=4, sort_keys=True))"
   ]
  },
  {
   "cell_type": "code",
   "execution_count": null,
   "metadata": {},
   "outputs": [],
   "source": [
    "# lat = single_response[\"results\"][0][\"geometry\"][\"location\"][\"lat\"]\n",
    "# lng = single_response[\"results\"][0][\"geometry\"][\"location\"][\"lng\"]\n",
    "# print(lat,lng)"
   ]
  },
  {
   "cell_type": "markdown",
   "metadata": {},
   "source": [
    "Commented out the below cell, while i was able to get the correct call for the API(as above) i was not able to return any zipcodes. all went straight to Zip not found. I then found a dataset with the information and plugged it into our clean census data. https://public.opendatasoft.com/explore/dataset/us-zip-code-latitude-and-longitude/"
   ]
  },
  {
   "cell_type": "code",
   "execution_count": null,
   "metadata": {},
   "outputs": [],
   "source": [
    "# https://stackoverflow.com/questions/5585957/get-latlng-from-zip-code-google-maps-api\n",
    "# Turn census zip codes into lat/long combinations for heatmap of US\n",
    "# https://maps.googleapis.com/maps/api/geocode/json?key=YOUR_API_KEY&components=postal_code:97403\n",
    "# Lat=[]\n",
    "# Long=[]\n",
    "\n",
    "# url = 'https://maps.googleapis.com/maps/api/geocode/json?key='\n",
    "# api_key = g_key\n",
    "# zipcode = census_2018['Zipcode']\n",
    "\n",
    "# for zips in zipcode:\n",
    "#     print(f'{url}{api_key}&components=postal_code:{zips}')\n",
    "# #     try:\n",
    "#         pop_request = requests.get(f'{url}{api_key}&components=postal_code:{zips}')\n",
    "# # (url + api_key +'&components=postal_code:'+zips)\n",
    "#         pop_response=pop_request.json()\n",
    "#         Lat.append(pop_response[\"results\"][0][\"geometry\"][\"location\"][\"lat\"])\n",
    "#         Long.append(pop_response[\"results\"][0][\"geometry\"][\"location\"][\"lng\"])\n",
    "#         print(f'Success')\n",
    "#     except IndexError:\n",
    "#         print(f'Zip not found')\n",
    "\n",
    "    \n"
   ]
  },
  {
   "cell_type": "code",
   "execution_count": null,
   "metadata": {},
   "outputs": [],
   "source": [
    "# configure gmaps with API key\n",
    "gmaps.configure(api_key =g_key)"
   ]
  },
  {
   "cell_type": "code",
   "execution_count": null,
   "metadata": {},
   "outputs": [],
   "source": [
    "# Store lat/long into locations\n",
    "locations = census_2018[['Latitude', 'Longitude']]\n",
    "\n",
    "# Store humidity as weight\n",
    "weight = census_2018['Population']\n",
    "\n",
    "# Set Chipotle markers\n",
    "chip_locations = chipotle[['Latitude', 'Longitude']]\n",
    "# Set McDonalds markers\n",
    "mcdon_locations = all_rest_df.loc[all_rest_df['Name']=='McDonald\\'s'] \n",
    "mcdonlatlong=mcdon_locations[['Latitude', 'Longitude']]\n",
    "# Set yum brand locations (Taco Bell, Pizza Hut and KFC)\n",
    "taco_locations = all_rest_df.loc[all_rest_df['Name']=='Taco Bell']\n",
    "tacolatlong=taco_locations[['Latitude', 'Longitude']]\n",
    "pizza_locations = all_rest_df.loc[all_rest_df['Name']=='Pizza Hut']\n",
    "pizzalatlong=pizza_locations[['Latitude', 'Longitude']]\n",
    "kfc_locations = all_rest_df.loc[all_rest_df['Name']=='KFC']\n",
    "kfclatlong=kfc_locations[['Latitude', 'Longitude']]"
   ]
  },
  {
   "cell_type": "code",
   "execution_count": null,
   "metadata": {},
   "outputs": [],
   "source": [
    "fig = gmaps.figure()\n",
    "\n",
    "heat_layer=gmaps.heatmap_layer(locations, weight, dissipating=True, max_intensity=25, point_radius=2)\n",
    "\n",
    "chip_layer = gmaps.symbol_layer(\n",
    "    chip_locations, fill_color='black', stroke_color='black', scale=1)\n",
    "\n",
    "taco_layer = gmaps.symbol_layer(\n",
    "    tacolatlong, fill_color='green', stroke_color='green', scale=1)\n",
    "\n",
    "pizza_layer = gmaps.symbol_layer(\n",
    "    pizzalatlong, fill_color='green', stroke_color='green', scale=1)\n",
    "\n",
    "kfc_layer = gmaps.symbol_layer(\n",
    "    kfclatlong, fill_color='green', stroke_color='green', scale=1)\n",
    "\n",
    "fig.add_layer(heat_layer)\n",
    "fig.add_layer(chip_layer)\n",
    "fig.add_layer(taco_layer)\n",
    "fig.add_layer(pizza_layer)\n",
    "fig.add_layer(kfc_layer)\n",
    "\n",
    "fig"
   ]
  },
  {
   "cell_type": "code",
   "execution_count": null,
   "metadata": {},
   "outputs": [],
   "source": [
    "# Set up binns for population on all_rest_df\n",
    "bins = [0, 20000, 40000, 60000, 80000, 100000,120000]\n",
    "group_names=['0-20K', '20k - 40k', '40k - 60k', '60k - 80k', '80k - 100k', '100k - 120k']\n",
    "all_rest_df['Zip Code Population Bins'] = pd.cut(all_rest_df['Population'], bins, labels = group_names, include_lowest =True)\n",
    "all_rest_df['Zip Code Population Bins'].value_counts()\n"
   ]
  },
  {
   "cell_type": "code",
   "execution_count": null,
   "metadata": {},
   "outputs": [],
   "source": [
    "all_rest_pop = all_rest_df.groupby(['Name','Zip Code Population Bins'])\n",
    "print(all_rest_pop['Zip Code Population Bins'].count())"
   ]
  },
  {
   "cell_type": "code",
   "execution_count": null,
   "metadata": {},
   "outputs": [],
   "source": [
    "chart_all_rest = all_rest_df.loc[(all_rest_df['Name']== 'Chipotle Mexican Grill')|(all_rest_df['Name']== 'YUM Brands')|(all_rest_df['Name']=='Burger King')|(all_rest_df['Name']=='McDonald\\'s')]\n",
    "chart_all_rest.head(2)"
   ]
  },
  {
   "cell_type": "code",
   "execution_count": null,
   "metadata": {},
   "outputs": [],
   "source": [
    "# https://stackoverflow.com/questions/53997862/pandas-groupby-two-columns-and-plot\n",
    "sns_plot = sns.countplot(data=chart_all_rest,x='Zip Code Population Bins',hue='Name')\n",
    "figure = sns_plot.get_figure()\n",
    "figure.savefig('Population_Bins_and_Locations.png')\n",
    "# sns_plot.savefig('Population_Bins_and_Locations.png')"
   ]
  },
  {
   "cell_type": "code",
   "execution_count": null,
   "metadata": {},
   "outputs": [],
   "source": [
    "census_2018['Population'].describe()"
   ]
  },
  {
   "cell_type": "code",
   "execution_count": null,
   "metadata": {},
   "outputs": [],
   "source": [
    "bins = [0, 20000, 40000, 60000, 80000, 100000,120000]\n",
    "group_names=['0-20K', '20k - 40k', '40k - 60k', '60k - 80k', '80k - 100k', '100k - 120k']\n",
    "census_2018['Zip Code Population Bins'] = pd.cut(census_2018['Population'], bins, labels = group_names, include_lowest =True)\n",
    "census_2018['Zip Code Population Bins'].value_counts()"
   ]
  },
  {
   "cell_type": "code",
   "execution_count": null,
   "metadata": {},
   "outputs": [],
   "source": [
    "sns_plot = sns.countplot(data=census_2018,x='Zip Code Population Bins',hue='Zip Code Population Bins')\n",
    "figure = sns_plot.get_figure()\n",
    "figure.savefig('Census_Population_Bins_and_Locations.png')"
   ]
  },
  {
   "cell_type": "code",
   "execution_count": null,
   "metadata": {},
   "outputs": [],
   "source": []
  }
 ],
 "metadata": {
  "kernelspec": {
   "display_name": "Python 3",
   "language": "python",
   "name": "python3"
  },
  "language_info": {
   "codemirror_mode": {
    "name": "ipython",
    "version": 3
   },
   "file_extension": ".py",
   "mimetype": "text/x-python",
   "name": "python",
   "nbconvert_exporter": "python",
   "pygments_lexer": "ipython3",
   "version": "3.6.10"
  }
 },
 "nbformat": 4,
 "nbformat_minor": 4
}
