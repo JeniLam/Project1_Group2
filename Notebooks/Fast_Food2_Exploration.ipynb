{
 "cells": [
  {
   "cell_type": "markdown",
   "metadata": {},
   "source": [
    "After our team realized the first project outline (Healthy Happy) is not viable to make given the scope of the research, scrape of data and prove, we decided to drop the project and explore more for a good project. We chose and decided to do the \"Restaurant Wars\" featuring Chipotle Mexican Grill as the main topic against all other popular restaurants in the U.S.\n",
    "\n",
    "This is an interesting topic considering there are so many eating places people love like Chipotle. The team researched data using Kaggle. Jeni collected and pulled data from Census Bureau (2017 & 2018) for population, fast food restaurant data; Max made a U.S-data json and Daniel pulled raw data for stock performances for five years of leading restaurants and choose 3 major stocks (CMG, MCD and YUM). All of these data were cleaned and posted to main hub so the team can work on their new project.\n",
    "\n",
    "Research questions to answer: 1) How does median age in zip code affect the number of Chipotle locations? 2) Does a higher income level equate to more Chipotle locations? 3) Which region of the US has the most Chipotle locations? 4) What population level is an indicator of having a Chipotle location near it.  \n"
   ]
  }
 ],
 "metadata": {
  "kernelspec": {
   "display_name": "Python 3",
   "language": "python",
   "name": "python3"
  },
  "language_info": {
   "codemirror_mode": {
    "name": "ipython",
    "version": 3
   },
   "file_extension": ".py",
   "mimetype": "text/x-python",
   "name": "python",
   "nbconvert_exporter": "python",
   "pygments_lexer": "ipython3",
   "version": "3.7.6"
  }
 },
 "nbformat": 4,
 "nbformat_minor": 4
}
