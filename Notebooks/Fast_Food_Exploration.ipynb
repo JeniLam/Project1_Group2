{
 "cells": [
  {
   "cell_type": "markdown",
   "metadata": {},
   "source": [
    "Our first presentation was going to answer the question, does healthy equate to happy?  We had great ideas in regards to the data we wanted to collect, as the first go around on the optional data sets and API's appeared to have the data we were looking to measure. Upon further investigatioin,  the step counts, physical stats and gender information was a bit harder to pull from an API than we thought."
   ]
  }
 ],
 "metadata": {
  "kernelspec": {
   "display_name": "Python 3",
   "language": "python",
   "name": "python3"
  },
  "language_info": {
   "codemirror_mode": {
    "name": "ipython",
    "version": 3
   },
   "file_extension": ".py",
   "mimetype": "text/x-python",
   "name": "python",
   "nbconvert_exporter": "python",
   "pygments_lexer": "ipython3",
   "version": "3.6.10"
  }
 },
 "nbformat": 4,
 "nbformat_minor": 4
}
