{
 "cells": [
  {
   "cell_type": "code",
   "execution_count": null,
   "metadata": {},
   "outputs": [],
   "source": [
    "# Dependencies and Setup\n",
    "import matplotlib.pyplot as plt\n",
    "import pandas as pd\n",
    "import numpy as np\n",
    "import requests\n",
    "import gmaps\n",
    "import os\n",
    "import json\n",
    "import seaborn as sns\n",
    "import scipy.stats as st\n",
    "\n",
    "from scipy.stats import linregress\n",
    "\n",
    "# Import API key\n",
    "# from config import g_key"
   ]
  },
  {
   "cell_type": "code",
   "execution_count": null,
   "metadata": {},
   "outputs": [],
   "source": [
    "# Files to Load (Remember to Change These)\n",
    "fast_food_restaurants_2018 = \"../Resources/Fast_Food_Restaurants_2018.csv\"\n",
    "census1_2018 =\"../Resources/census_data_clean_2018.csv\"\n",
    "# Read files into Pandas DF\n",
    "Rest_2018 = pd.read_csv(fast_food_restaurants_2018)\n",
    "census2_2018=pd.read_csv(census1_2018)"
   ]
  },
  {
   "cell_type": "code",
   "execution_count": null,
   "metadata": {},
   "outputs": [],
   "source": [
    "# remove columns we will not need\n",
    "Rest_2018=Rest_2018.drop(['id','sourceURLs','websites'], axis =1)\n",
    "Rest_2018.columns"
   ]
  },
  {
   "cell_type": "code",
   "execution_count": null,
   "metadata": {},
   "outputs": [],
   "source": [
    "# reorganize/rename columns\n",
    "Rest_2018 = Rest_2018.rename(columns={'name':'Name', 'address': 'Address', 'city': 'City', 'country': 'Country', 'latitude': 'Latitude', 'longitude':'Longitude', 'postalCode': 'Zip Code',\\\n",
    "                                     'province': 'State'})\n",
    "Rest_2018 = Rest_2018[['Name', 'Address', 'City','State', 'Zip Code','Country', 'Latitude', 'Longitude']]\n",
    "Rest_2018.head()"
   ]
  },
  {
   "cell_type": "code",
   "execution_count": null,
   "metadata": {},
   "outputs": [],
   "source": [
    "# get unique names in list and sort alphabetically to assist with cleaning\n",
    "names = Rest_2018['Name'].unique()\n",
    "names.sort()\n",
    "print(len(names))\n",
    "print(names)"
   ]
  },
  {
   "cell_type": "code",
   "execution_count": null,
   "metadata": {},
   "outputs": [],
   "source": [
    "Rest_2018['Name'] = Rest_2018['Name'].replace({\"Arby's - Closed\":\"Arby's\",'Arbys': \"Arby's\", \"Auntie Anne's\": \"Auntie Anne's Pretzels\",\"Baker's Drive Thru\":\"Baker's Drive-thru\",\"Ben and Jerry's\": \"Ben & Jerry's\",'Bob Evans Restaurant':'Bob Evans',\"Bojangles' Famous Chicken 'n Biscuits\": 'Bojangles', 'Burger King¬Æ': 'Burger King','Capri Italian Restaurant':'Capri Restaurant',\"Carl's Jr.\":\"Carl's Jr\",\"Carl's Jr. / Green Burrito\":\"Carl's Jr\",\"Carl's Jr / Green Burrito\":\"Carl's Jr\",'Caseys Carry Out Pizza':\"Casey's General Store\",\"Charley's Grilled Subs\":'Charleys Philly Steaks',\"Checker's Pizza\":'Checkers','Chick-fil-A':'Chick-Fil-A', 'Chipotle':'Chipotle Mexican Grill','Dairy Queen (Treat Only)':'Dairy Queen','Dunkin Donuts':\"Dunkin' Donuts\",'Five Guys Burgers Fries':'Five Guys', 'Five Guys Burgers And Fries':'Five Guys',\"Foster's Freeze\":'Fosters Freeze', \"Hardee's\":'Hardees',\"Hardee's / Red Burrito\":'Hardees', \"Hardee's/red Burrito\":'Hardees','Jack in the Box':'Jack In The Box', 'Jack in the Box -':'Jack In The Box'})\n",
    "Rest_2018['Name'] = Rest_2018['Name'].replace({\"Jimmy John's\":'Jimmy Johns','KFC - Kentucky Fried Chicken':'KFC','KFC/AW':'KFC','KFC/Long John Silvers':'KFC', 'KFC/Taco Bell':'KFC'})\n",
    "Rest_2018['Name'] = Rest_2018['Name'].replace({\"Little Caesar's Pizza\":'Little Caesars', 'Little Caesars Pizza':'Little Caesars',\"Long John Silver's / AW\" 'Long John Silvers':\"Long John Silver's\",'Long John Silvers / A&W':\"Long John Silver's\",'Mc Donalds':\"McDonald's\",\"McDonald's of Rolesville\":\"McDonald's\",'McDonalds':\"McDonald's\",\"McDonalds's\":\"McDonald's\",\"Mcdonald's\":\"McDonald's\",'Mcdonalds':\"McDonald's\",'Mcdonalds Whitehouse':\"McDonald's\"})\n",
    "Rest_2018['Name'] = Rest_2018['Name'].replace({'Panda Express Innovation Kitchen':'Panda Express' ,'PepperJax Grill':'Pepperjax Grill',\"Popeye's Louisiana Kitchen\":'Popeyes','Popeyes Chicken & Biscuits':'Popeyes','Popeyes Chicken Biscuits':'Popeyes','Popeyes Louisiana Kitchen':'Popeyes'})\n",
    "Rest_2018['Name'] = Rest_2018['Name'].replace({'QDOBA Mexican Eats':'Qdoba Mexican Grill', 'Qdoba Mexican Eats':'Qdoba Mexican Grill', \"Quizno's\": 'Quiznos', 'Quiznos Sub':'Quiznos',\"Raising Cane's\":'Raising Canes', \"Raising Cane's Chicken Fingers\":'Raising Canes'})\n",
    "Rest_2018['Name'] = Rest_2018['Name'].replace({\"Rally's Hamburgers\":\"Rally's\", 'Rallys':\"Rally's\",'Roma Pizza':'Romas Pizza','SONIC Drive In': 'SONIC Drive-In', 'SUBWAY¬Æ':'SUBWAY'})\n",
    "Rest_2018['Name'] = Rest_2018['Name'].replace({'Sonic':'SONIC Drive-In', \"Sonic America's Drive-In\":'SONIC Drive-In','Sonic Drive In':'SONIC Drive-In','Sonic Drive in':'SONIC Drive-In','Sonic Drive-In':'SONIC Drive-In',\"Steak 'n Shake\":'Steak N Shake','Taco Bell / KFC':'Taco Bell' ,'Taco Bell/KFC':'Taco Bell','Taco Bell/Pizza Hut':'Taco Bell'})\n",
    "Rest_2018['Name'] = Rest_2018['Name'].replace({ 'Wienerschitzel':'Wienerschnitzel','Wingstop Restaurant':'Wingstop',\"Wolf's Dairy Queen\" :'Dairy Queen',\"Zaxby's Chicken Fingers & Buffalo Wings\": \"Zaxby's\",'b.good':'B.GOOD', 'A&W/Long John Silvers':\"Long John Silver's\"})\n",
    "# After going through team decided to rename Pizza Hut, Taco Bell and KFC to YUM Brands\n",
    "Rest_2018['Name'] = Rest_2018['Name'].replace({'Pizza Hut': 'YUM Brands', 'KFC': 'YUM Brands','Taco Bell': 'YUM Brands'})"
   ]
  },
  {
   "cell_type": "code",
   "execution_count": null,
   "metadata": {},
   "outputs": [],
   "source": [
    "print(len(Rest_2018))\n"
   ]
  },
  {
   "cell_type": "code",
   "execution_count": null,
   "metadata": {},
   "outputs": [],
   "source": [
    "# Remove locations that are not food related 'Walmart Supercenter''T-Mobile''Hilton Boston Logan Airport''7-Eleven'\n",
    "# https://thispointer.com/python-pandas-how-to-drop-rows-in-dataframe-by-conditions-on-column-values/\n",
    "indexNames= Rest_2018[(Rest_2018['Name']=='Walmart Supercenter')].index\n",
    "Rest_2018.drop(indexNames, inplace=True)"
   ]
  },
  {
   "cell_type": "code",
   "execution_count": null,
   "metadata": {},
   "outputs": [],
   "source": [
    "indexNames= Rest_2018[(Rest_2018['Name']=='T-Mobile')].index\n",
    "Rest_2018.drop(indexNames, inplace=True)"
   ]
  },
  {
   "cell_type": "code",
   "execution_count": null,
   "metadata": {},
   "outputs": [],
   "source": [
    "indexNames= Rest_2018[(Rest_2018['Name']=='Hilton Boston Logan Airport')].index\n",
    "Rest_2018.drop(indexNames, inplace=True)"
   ]
  },
  {
   "cell_type": "code",
   "execution_count": null,
   "metadata": {},
   "outputs": [],
   "source": [
    "indexNames= Rest_2018[(Rest_2018['Name']=='7-Eleven')].index\n",
    "Rest_2018.drop(indexNames, inplace=True)\n",
    "print(len(Rest_2018))\n",
    "Rest_2018['Name'].nunique()"
   ]
  },
  {
   "cell_type": "code",
   "execution_count": null,
   "metadata": {},
   "outputs": [],
   "source": [
    "# find number of entries for each location\n",
    "Rest_2018['Name'].value_counts()"
   ]
  },
  {
   "cell_type": "code",
   "execution_count": null,
   "metadata": {},
   "outputs": [],
   "source": [
    "# Remove all locations that have less than 50 entries\n",
    "# https://www.thetopsites.net/article/58467286.shtml\n",
    "threshold = 50\n",
    "clean_rest_2018 = Rest_2018[Rest_2018.groupby('Name')['Name'].transform('count')>threshold].copy()\n",
    "print(len(clean_rest_2018))\n",
    "clean_rest_2018['Name'].value_counts()"
   ]
  },
  {
   "cell_type": "code",
   "execution_count": null,
   "metadata": {},
   "outputs": [],
   "source": [
    "# export to csv as this is clean data incase anything happens while added in other informatoin\n",
    "clean_rest_2018.to_csv('../Resources/clean_rest_2018.csv', encoding='utf-8', index = False)"
   ]
  },
  {
   "cell_type": "code",
   "execution_count": null,
   "metadata": {},
   "outputs": [],
   "source": [
    "# combine with chipotle csv\n",
    "# first read get file then read into pandas DF\n",
    "Chipotle_stores = \"../Resources/chipotle_stores.csv\"\n",
    "chipotle = pd.read_csv(Chipotle_stores)\n",
    "chipotle.head(2)\n",
    "print(len(chipotle))"
   ]
  },
  {
   "cell_type": "code",
   "execution_count": null,
   "metadata": {},
   "outputs": [],
   "source": [
    "clean_rest_2018.head(2)\n",
    "print(len(clean_rest_2018))"
   ]
  },
  {
   "cell_type": "code",
   "execution_count": null,
   "metadata": {},
   "outputs": [],
   "source": [
    "all_rest_df = pd.concat([chipotle, clean_rest_2018])\n",
    "print(len(all_rest_df))\n",
    "all_rest_df"
   ]
  },
  {
   "cell_type": "code",
   "execution_count": null,
   "metadata": {},
   "outputs": [],
   "source": [
    "# Add census data to right of all rest data\n",
    "census2_2018.head(2)"
   ]
  },
  {
   "cell_type": "code",
   "execution_count": null,
   "metadata": {},
   "outputs": [],
   "source": [
    "# Converted to string because restaurant data information was listed as string and could not merge properly\n",
    "# Adjusted series name to allow proper merge as well\n",
    "# Confirm number of zip codes with less than 5 digits\n",
    "census2_2018['Zipcode'] = census2_2018['Zipcode'].astype(str)\n",
    "census_2018 = census2_2018.rename(columns={'Zipcode': 'Zip Code'})\n",
    "census_2018_badzip= census_2018[census_2018['Zip Code'].str.len()<5]\n",
    "print(census_2018_badzip)"
   ]
  },
  {
   "cell_type": "code",
   "execution_count": null,
   "metadata": {},
   "outputs": [],
   "source": [
    "#Research confirms that for the cities and states with zip codesless than 5 digits, the zip codes begin with 0.\n",
    "#Excel truncates the leading zero. (#e.g. 06001 becomes 6001 in Excel) \n",
    "\n",
    "def format_postal_codes(row):\n",
    "    zipcode= row['Zip Code']\n",
    "    return zipcode[:5].zfill(5)"
   ]
  },
  {
   "cell_type": "code",
   "execution_count": null,
   "metadata": {},
   "outputs": [],
   "source": [
    "# Fix zip codes to have 5 digits\n",
    "census_2018['Zip Code'] = census_2018.apply(format_postal_codes, axis=1)\n",
    "\n",
    "census_2018_badzip = census_2018[census3_2018['Zip Code'].str.len()<5]\n",
    "print(census_2018_badzip)\n"
   ]
  },
  {
   "cell_type": "code",
   "execution_count": null,
   "metadata": {},
   "outputs": [],
   "source": [
    "# Add census data to right of all rest data\n",
    "all_rest_new = pd.merge(all_rest_df,census_2018, on=\"Zip Code\", how='left')\n",
    "all_rest_new.head(50)"
   ]
  },
  {
   "cell_type": "code",
   "execution_count": null,
   "metadata": {},
   "outputs": [],
   "source": [
    "# Remove and rename extra lat/long columns\n",
    "all_rest_new = all_rest_new.rename(columns={'Latitude_x': 'Latitude', 'Longitude_x':'Longitude'})\n",
    "all_rest_df = all_rest_new[['Name', 'Address', 'City','State', 'Zip Code','Country', 'Latitude', 'Longitude','Population', 'Median Age', 'Household Income','Per Capita Income', 'Poverty Count', 'Poverty Rate']]\n",
    "all_rest_df.tail(50)"
   ]
  },
  {
   "cell_type": "code",
   "execution_count": null,
   "metadata": {},
   "outputs": [],
   "source": [
    "# Export to CSV for others to use\n",
    "all_rest_df.to_csv(\"Resources/All_rest_2018.csv\", encoding=\"utf-8\", index=False)"
   ]
  },
  {
   "cell_type": "code",
   "execution_count": null,
   "metadata": {
    "scrolled": true
   },
   "outputs": [],
   "source": [
    "all_rest_df['Population'].describe()"
   ]
  },
  {
   "cell_type": "code",
   "execution_count": null,
   "metadata": {
    "scrolled": true
   },
   "outputs": [],
   "source": [
    "# configure gmaps with API key\n",
    "gmaps.configure(api_key =g_key)"
   ]
  },
  {
   "cell_type": "code",
   "execution_count": null,
   "metadata": {},
   "outputs": [],
   "source": [
    "# Store lat/long into locations\n",
    "locations = census_2018[['Latitude', 'Longitude']]\n",
    "\n",
    "# Store humidity as weight\n",
    "weight = census_2018['Population']\n",
    "\n",
    "# Set Chipotle markers\n",
    "chip_locations = chipotle[['Latitude', 'Longitude']]\n",
    "# Set McDonalds markers\n",
    "mcdon_locations = all_rest_df.loc[all_rest_df['Name']=='McDonald\\'s'] \n",
    "mcdonlatlong=mcdon_locations[['Latitude', 'Longitude']]\n",
    "# Set yum brand locations (Taco Bell, Pizza Hut and KFC)\n",
    "yum_locations = all_rest_df.loc[all_rest_df['Name']=='YUM Brands']\n",
    "yumlatlong=yum_locations[['Latitude', 'Longitude']]\n",
    "# Set Burger King\n",
    "bk_locations = all_rest_df.loc[all_rest_df['Name']=='Burger King']\n",
    "bklatlong=bk_locations[['Latitude', 'Longitude']]"
   ]
  },
  {
   "cell_type": "code",
   "execution_count": null,
   "metadata": {},
   "outputs": [],
   "source": [
    "fig = gmaps.figure()\n",
    "\n",
    "heat_layer=gmaps.heatmap_layer(locations, weight, dissipating=True, max_intensity=25, point_radius=2)\n",
    "\n",
    "chip_layer = gmaps.symbol_layer(\n",
    "    chip_locations, fill_color='black', stroke_color='black', scale=1)\n",
    "\n",
    "yum_layer = gmaps.symbol_layer(\n",
    "    yumlatlong, fill_color='green', stroke_color='green', scale=1)\n",
    "\n",
    "bk_layer = gmaps.symbol_layer(\n",
    "    bklatlong, fill_color='green', stroke_color='green', scale=1)\n",
    "\n",
    "fig.add_layer(heat_layer)\n",
    "fig.add_layer(chip_layer)\n",
    "fig.add_layer(yum_layer)\n",
    "fig.add_layer(bk_layer)\n",
    "\n",
    "\n",
    "fig"
   ]
  },
  {
   "cell_type": "code",
   "execution_count": null,
   "metadata": {},
   "outputs": [],
   "source": [
    "# Set up binns for population on all_rest_df\n",
    "bins = [0, 20000, 40000, 60000, 80000, 100000,120000]\n",
    "group_names=['0-20K', '20k - 40k', '40k - 60k', '60k - 80k', '80k - 100k', '100k - 120k']\n",
    "all_rest_df['Zip Code Population Bins'] = pd.cut(all_rest_df['Population'], bins, labels = group_names, include_lowest =True)\n",
    "all_rest_df['Zip Code Population Bins'].value_counts()"
   ]
  },
  {
   "cell_type": "code",
   "execution_count": null,
   "metadata": {},
   "outputs": [],
   "source": [
    "all_rest_pop = all_rest_df.groupby(['Name','Zip Code Population Bins'])\n",
    "print(all_rest_pop['Zip Code Population Bins'].count())\n"
   ]
  },
  {
   "cell_type": "code",
   "execution_count": null,
   "metadata": {},
   "outputs": [],
   "source": [
    "chart_all_rest = all_rest_df.loc[(all_rest_df['Name']== 'Chipotle Mexican Grill')|(all_rest_df['Name']== 'YUM Brands')|(all_rest_df['Name']=='McDonald\\'s')]|(all_rest_df['Name']=='Burger King')]\n",
    "chart_all_rest.head()"
   ]
  },
  {
   "cell_type": "code",
   "execution_count": null,
   "metadata": {},
   "outputs": [],
   "source": [
    "# https://stackoverflow.com/questions/53997862/pandas-groupby-two-columns-and-plot\n",
    "sns_plot = sns.countplot(data=chart_all_rest,x='Zip Code Population Bins',hue='Name')\n",
    "# sns_plot.savefig('Population_Bins_and_Locations.png')\n"
   ]
  },
  {
   "cell_type": "code",
   "execution_count": null,
   "metadata": {},
   "outputs": [],
   "source": [
    "bins = [0, 20000, 40000, 60000, 80000, 100000,120000]\n",
    "group_names=['0-20K', '20k - 40k', '40k - 60k', '60k - 80k', '80k - 100k', '100k - 120k']\n",
    "census_2018['Zip Code Population Bins'] = pd.cut(census_2018['Population'], bins, labels = group_names, include_lowest =True)\n",
    "census_2018['Zip Code Population Bins'].value_counts()"
   ]
  },
  {
   "cell_type": "code",
   "execution_count": null,
   "metadata": {},
   "outputs": [],
   "source": [
    "sns_plot = sns.countplot(data=census_2018,x='Zip Code Population Bins',hue=census_2018['Zip Code Population Bins'].value_counts())"
   ]
  },
  {
   "cell_type": "code",
   "execution_count": null,
   "metadata": {},
   "outputs": [],
   "source": [
    "\n",
    "\n",
    "# northern_hem = city_data.loc[city_data['Latitude']>=0]\n",
    "\n",
    "x_values = all_rest_df['Name']\n",
    "y_values = all_rest_df['Population']\n",
    "\n",
    "(slope, intercept, rvalue, pvalue, stderr) = linregress(x_values, y_values)\n",
    "regress_values = x_values * slope + intercept\n",
    "line_eq = \"y = \" + str(round(slope,2)) + \"x + \" + str(round(intercept,2))\n",
    "\n",
    "plt.scatter(x_values, y_values, marker=\"o\", facecolors=\"green\", edgecolors=\"black\",\n",
    "            s=30, alpha=0.75)\n",
    "plt.plot(x_values,regress_values,\"r-\")\n",
    "plt.annotate(line_eq,(-9,30),fontsize=15,color=\"red\")\n",
    "plt.xlim(-10, 85)\n",
    "plt.ylim(10,95 )\n",
    "plt.title('Chiptole Locations vs Population by Zip Code')\n",
    "plt.xlabel('Chiptole Locations')\n",
    "plt.ylabel('Population by Zip Code')\n",
    "# plt.savefig('Outputs/Lat_vs_Temp_Northern.png')\n",
    "\n",
    "print(f'The r-value is: {rvalue}')"
   ]
  },
  {
   "cell_type": "code",
   "execution_count": null,
   "metadata": {},
   "outputs": [],
   "source": []
  },
  {
   "cell_type": "code",
   "execution_count": null,
   "metadata": {},
   "outputs": [],
   "source": []
  },
  {
   "cell_type": "code",
   "execution_count": null,
   "metadata": {},
   "outputs": [],
   "source": [
    "# Load Poverty_Rate.csv\n",
    "rest = \"../Resources/Poverty_Rate.csv\"\n",
    "All_rest = pd.read_csv(rest)"
   ]
  },
  {
   "cell_type": "code",
   "execution_count": null,
   "metadata": {},
   "outputs": [],
   "source": [
    "#Create new DF with just Name and Poverty Rate\n",
    "Name = All_rest.loc[:, 'Name']\n",
    "PR = All_rest.loc[:, \"Poverty Rate\"]\n",
    "CleanNPR = pd.DataFrame({\"Name\": Name, \"Poverty Rate\": PR})\n",
    "\n",
    "CleanNPR.head()"
   ]
  },
  {
   "cell_type": "code",
   "execution_count": null,
   "metadata": {},
   "outputs": [],
   "source": [
    "#Calculate mean for poverty rates by specific place.\n",
    "prmean =CleanNPR.groupby(['Name']).mean()['Poverty Rate']\n",
    "mean_df = pd.DataFrame({\"Average Poverty Rate\": prmean})\n",
    "mean_df"
   ]
  },
  {
   "cell_type": "code",
   "execution_count": null,
   "metadata": {},
   "outputs": [],
   "source": [
    "#Dropped unwanted values.\n",
    "praverages = mean_df.drop([\"Arby's\", \"Burger King\", \"Carl's Jr\", \"Chick-Fil-A\", \"Culver's\", \"Dairy Queen\", \"Del Taco\", \"Domino's Pizza\", \"Dunkin' Donuts\", \"Hardees\", \"In-N-Out Burger\", \"Jack In The Box\", \"Jimmy Johns\", \"Krystal\", \"Panda Express\", \"Panera Bread\", \"SONIC Drive-In\", \"SUBWAY\", \"Subway\", \"Steak N Shake\", \"Taco John's\", \"Wendy's\"])\n",
    "PRR = praverages.reset_index()\n",
    "PRR"
   ]
  },
  {
   "cell_type": "code",
   "execution_count": null,
   "metadata": {},
   "outputs": [],
   "source": [
    "#Create List for Names and Mean values\n",
    "Names = [\"Chipotle Mexican Grill\",\"McDonald's\",\"YUM Brands\"]\n",
    "PR_mean = [11.655917,14.744467,14.383936]\n",
    "bars = (Names)\n",
    "y_pos = np.arange(len(bars))\n",
    "#Add border for bars and colors for each individual bar\n",
    "plt.barh(y_pos, PR_mean, color=['brown', 'yellow', 'teal'],edgecolor='black')\n",
    "plt.title('Poverty Rate Comparison')\n",
    "plt.xlabel('Poverty Rate')\n",
    "plt.ylabel('Restaurant')\n",
    "plt.yticks(y_pos, bars)\n",
    "plt.show()"
   ]
  },
  {
   "cell_type": "code",
   "execution_count": null,
   "metadata": {},
   "outputs": [],
   "source": [
    "volume = []\n",
    "CleanNPR.dropna()\n",
    "#Start loop to locate outliers.\n",
    "for place in Names:\n",
    "    volume_list = CleanNPR.loc[CleanNPR[\"Name\"]==place, \"Poverty Rate\"]\n",
    "    \n",
    "    volume.append(volume_list)\n",
    "   \n",
    "    quartiles = volume_list.quantile([.25,.5,.75])\n",
    "    lowerq = quartiles[0.25]\n",
    "    upperq = quartiles[0.75]\n",
    "    iqr = upperq-lowerq \n",
    "    \n",
    "    lower_bound = lowerq - (1.5*iqr)\n",
    "    upper_bound = upperq + (1.5*iqr)\n",
    "    \n",
    "    outliers = volume_list.loc[(volume_list < lower_bound) | (volume_list > upper_bound)]\n",
    "    \n",
    "    print(f\"Possible outlier for {place} is {outliers}\")"
   ]
  },
  {
   "cell_type": "code",
   "execution_count": null,
   "metadata": {},
   "outputs": [],
   "source": [
    "#Box plot to Display Outliers\n",
    "plt.boxplot(volume, labels=Names)\n",
    "plt.ylabel('Poverty Rate')\n",
    "plt.show()"
   ]
  }
 ],
 "metadata": {
  "kernelspec": {
   "display_name": "Python 3",
   "language": "python",
   "name": "python3"
  },
  "language_info": {
   "codemirror_mode": {
    "name": "ipython",
    "version": 3
   },
   "file_extension": ".py",
   "mimetype": "text/x-python",
   "name": "python",
   "nbconvert_exporter": "python",
   "pygments_lexer": "ipython3",
   "version": "3.8.3"
  }
 },
 "nbformat": 4,
 "nbformat_minor": 4
}
