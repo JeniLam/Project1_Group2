{
 "cells": [
  {
   "cell_type": "code",
   "execution_count": 208,
   "metadata": {},
   "outputs": [],
   "source": [
    "#Dependencies\n",
    "import os\n",
    "import pandas as pd\n",
    "import matplotlib.pyplot as plt\n",
    "import numpy as np\n",
    "import seaborn as sns\n",
    "import warnings\n",
    "warnings.filterwarnings('ignore')"
   ]
  },
  {
   "cell_type": "code",
   "execution_count": 209,
   "metadata": {},
   "outputs": [
    {
     "data": {
      "text/html": [
       "<div>\n",
       "<style scoped>\n",
       "    .dataframe tbody tr th:only-of-type {\n",
       "        vertical-align: middle;\n",
       "    }\n",
       "\n",
       "    .dataframe tbody tr th {\n",
       "        vertical-align: top;\n",
       "    }\n",
       "\n",
       "    .dataframe thead th {\n",
       "        text-align: right;\n",
       "    }\n",
       "</style>\n",
       "<table border=\"1\" class=\"dataframe\">\n",
       "  <thead>\n",
       "    <tr style=\"text-align: right;\">\n",
       "      <th></th>\n",
       "      <th>Name</th>\n",
       "      <th>Address</th>\n",
       "      <th>City</th>\n",
       "      <th>State</th>\n",
       "      <th>Zip Code</th>\n",
       "      <th>Country</th>\n",
       "      <th>Latitude</th>\n",
       "      <th>Longitude</th>\n",
       "      <th>Categories</th>\n",
       "      <th>Population</th>\n",
       "      <th>Median Age</th>\n",
       "      <th>Household Income</th>\n",
       "      <th>Per Capita Income</th>\n",
       "      <th>Poverty Count</th>\n",
       "      <th>Poverty Rate</th>\n",
       "    </tr>\n",
       "  </thead>\n",
       "  <tbody>\n",
       "    <tr>\n",
       "      <th>0</th>\n",
       "      <td>Chipotle Mexican Grill</td>\n",
       "      <td>346 W Magnolia Ave</td>\n",
       "      <td>Auburn</td>\n",
       "      <td>Alabama</td>\n",
       "      <td>36832</td>\n",
       "      <td>US</td>\n",
       "      <td>32.606813</td>\n",
       "      <td>-85.487328</td>\n",
       "      <td>NaN</td>\n",
       "      <td>24509.0</td>\n",
       "      <td>23.7</td>\n",
       "      <td>27638.0</td>\n",
       "      <td>22390.0</td>\n",
       "      <td>9821.0</td>\n",
       "      <td>40.070994</td>\n",
       "    </tr>\n",
       "    <tr>\n",
       "      <th>1</th>\n",
       "      <td>Chipotle Mexican Grill</td>\n",
       "      <td>300 20th St S</td>\n",
       "      <td>Birmingham</td>\n",
       "      <td>Alabama</td>\n",
       "      <td>35233</td>\n",
       "      <td>US</td>\n",
       "      <td>33.509722</td>\n",
       "      <td>-86.802756</td>\n",
       "      <td>NaN</td>\n",
       "      <td>1715.0</td>\n",
       "      <td>27.7</td>\n",
       "      <td>41500.0</td>\n",
       "      <td>29812.0</td>\n",
       "      <td>655.0</td>\n",
       "      <td>38.192420</td>\n",
       "    </tr>\n",
       "    <tr>\n",
       "      <th>2</th>\n",
       "      <td>Chipotle Mexican Grill</td>\n",
       "      <td>3220 Morrow Rd</td>\n",
       "      <td>Birmingham</td>\n",
       "      <td>Alabama</td>\n",
       "      <td>35235</td>\n",
       "      <td>US</td>\n",
       "      <td>33.595581</td>\n",
       "      <td>-86.647437</td>\n",
       "      <td>NaN</td>\n",
       "      <td>20926.0</td>\n",
       "      <td>38.0</td>\n",
       "      <td>55609.0</td>\n",
       "      <td>25477.0</td>\n",
       "      <td>2829.0</td>\n",
       "      <td>13.519067</td>\n",
       "    </tr>\n",
       "    <tr>\n",
       "      <th>3</th>\n",
       "      <td>Chipotle Mexican Grill</td>\n",
       "      <td>4719 Highway 280</td>\n",
       "      <td>Birmingham</td>\n",
       "      <td>Alabama</td>\n",
       "      <td>35242</td>\n",
       "      <td>US</td>\n",
       "      <td>33.422582</td>\n",
       "      <td>-86.698279</td>\n",
       "      <td>NaN</td>\n",
       "      <td>55122.0</td>\n",
       "      <td>40.9</td>\n",
       "      <td>91966.0</td>\n",
       "      <td>51709.0</td>\n",
       "      <td>3641.0</td>\n",
       "      <td>6.605348</td>\n",
       "    </tr>\n",
       "    <tr>\n",
       "      <th>4</th>\n",
       "      <td>Chipotle Mexican Grill</td>\n",
       "      <td>1821 Cherokee Ave SW</td>\n",
       "      <td>Cullman</td>\n",
       "      <td>Alabama</td>\n",
       "      <td>35055</td>\n",
       "      <td>US</td>\n",
       "      <td>34.154134</td>\n",
       "      <td>-86.841220</td>\n",
       "      <td>NaN</td>\n",
       "      <td>20884.0</td>\n",
       "      <td>38.4</td>\n",
       "      <td>42252.0</td>\n",
       "      <td>23465.0</td>\n",
       "      <td>3202.0</td>\n",
       "      <td>15.332312</td>\n",
       "    </tr>\n",
       "  </tbody>\n",
       "</table>\n",
       "</div>"
      ],
      "text/plain": [
       "                     Name                  Address        City    State  \\\n",
       "0  Chipotle Mexican Grill    346 W Magnolia Ave         Auburn  Alabama   \n",
       "1  Chipotle Mexican Grill         300 20th St S     Birmingham  Alabama   \n",
       "2  Chipotle Mexican Grill       3220 Morrow Rd      Birmingham  Alabama   \n",
       "3  Chipotle Mexican Grill     4719 Highway 280      Birmingham  Alabama   \n",
       "4  Chipotle Mexican Grill  1821 Cherokee Ave SW        Cullman  Alabama   \n",
       "\n",
       "  Zip Code Country   Latitude  Longitude Categories  Population  Median Age  \\\n",
       "0    36832      US  32.606813 -85.487328        NaN     24509.0        23.7   \n",
       "1    35233      US  33.509722 -86.802756        NaN      1715.0        27.7   \n",
       "2    35235      US  33.595581 -86.647437        NaN     20926.0        38.0   \n",
       "3    35242      US  33.422582 -86.698279        NaN     55122.0        40.9   \n",
       "4    35055      US  34.154134 -86.841220        NaN     20884.0        38.4   \n",
       "\n",
       "   Household Income  Per Capita Income  Poverty Count  Poverty Rate  \n",
       "0           27638.0            22390.0         9821.0     40.070994  \n",
       "1           41500.0            29812.0          655.0     38.192420  \n",
       "2           55609.0            25477.0         2829.0     13.519067  \n",
       "3           91966.0            51709.0         3641.0      6.605348  \n",
       "4           42252.0            23465.0         3202.0     15.332312  "
      ]
     },
     "execution_count": 209,
     "metadata": {},
     "output_type": "execute_result"
    }
   ],
   "source": [
    "file = \"Resources/All_rest_2018.csv\"\n",
    "rest_df = pd.read_csv(file)\n",
    "rest_df.head()"
   ]
  },
  {
   "cell_type": "code",
   "execution_count": 210,
   "metadata": {},
   "outputs": [],
   "source": [
    "#Create dataframe for Chipotle, McDonald's and YUM\n",
    "\n",
    "chipotle_df = rest_df.loc[(rest_df['Name'] == \"Chipotle Mexican Grill\")]\n",
    "mcdonalds_df = rest_df.loc[(rest_df['Name'] == \"McDonald's\")]\n",
    "yum_df = rest_df.loc[(rest_df['Name'] == \"YUM Brands\")]"
   ]
  },
  {
   "cell_type": "code",
   "execution_count": 211,
   "metadata": {},
   "outputs": [],
   "source": [
    "#Determine age bins for each restaurant\n",
    "\n",
    "rest_df['Median Age'].min()\n",
    "#min value = 19\n",
    "\n",
    "#Create bins for each age group \n",
    "\n",
    "bins = [18, 25, 31, 36, 41, 46, 9999]\n",
    "group_names = [\"18-24\", \"25-30\", \"30-35\", \"36-40\", \"41-45\", \"46+\"]"
   ]
  },
  {
   "cell_type": "code",
   "execution_count": 212,
   "metadata": {},
   "outputs": [],
   "source": [
    "# Create Chipotle age groupings and percent of total\n",
    "\n",
    "chipotle_df['Median Age Ranges'] = pd.cut(chipotle_df['Median Age'], bins, labels=group_names, include_lowest=True)\n",
    "\n",
    "chipotle_age_group = chipotle_df.groupby('Median Age Ranges')\n",
    "\n",
    "chipotle_age_count = chipotle_age_group.count()\n",
    "\n",
    "chipotle_percent = (chipotle_age_count['Name']/chipotle_age_count['Name'].sum())*100\n",
    "\n",
    "chipotle_age_df = pd.DataFrame({\"Total Count\": chipotle_age_count[\"Name\"],\n",
    "                       \"Chipotle Percent\": chipotle_percent})\n"
   ]
  },
  {
   "cell_type": "code",
   "execution_count": 213,
   "metadata": {},
   "outputs": [],
   "source": [
    "# Create McDonald's age groupings\n",
    "\n",
    "mcdonalds_df['Median Age Ranges'] = pd.cut(mcdonalds_df['Median Age'], bins, labels=group_names, include_lowest=True)\n",
    "\n",
    "mcdonalds_age_group = mcdonalds_df.groupby('Median Age Ranges')\n",
    "\n",
    "mcdonalds_age_count = mcdonalds_age_group.count()\n",
    "\n",
    "mcdonalds_percent = (mcdonalds_age_count['Name']/mcdonalds_age_count['Name'].sum())*100\n",
    "\n",
    "mcdonalds_age_df = pd.DataFrame({\"Total Count\": mcdonalds_age_count[\"Name\"],\n",
    "                       \"McDonald's Percent\": mcdonalds_percent})"
   ]
  },
  {
   "cell_type": "code",
   "execution_count": 214,
   "metadata": {},
   "outputs": [],
   "source": [
    "# Create YUM age groupings\n",
    "\n",
    "yum_df['Median Age Ranges'] = pd.cut(yum_df['Median Age'], bins, labels=group_names, include_lowest=True)\n",
    "\n",
    "yum_age_group = yum_df.groupby('Median Age Ranges')\n",
    "\n",
    "yum_age_count = yum_age_group.count()\n",
    "\n",
    "yum_percent = (yum_age_count['Name']/yum_age_count['Name'].sum())*100\n",
    "\n",
    "yum_age_df = pd.DataFrame({\"Total Count\": yum_age_count[\"Name\"],\n",
    "                       \"Yum Percent\": yum_percent})"
   ]
  },
  {
   "cell_type": "code",
   "execution_count": 215,
   "metadata": {},
   "outputs": [
    {
     "data": {
      "image/png": "[encoded data removed]",
      "text/plain": [
       "<Figure size 432x288 with 1 Axes>"
      ]
     },
     "metadata": {
      "needs_background": "light"
     },
     "output_type": "display_data"
    }
   ],
   "source": [
    "#Create new dataframe with all info and bar plot\n",
    "\n",
    "percent_rest_df = pd.DataFrame({\"Chipotle Percent\": chipotle_age_df['Chipotle Percent'],\n",
    "                           \"McDonald's Percent\": mcdonalds_age_df[\"McDonald's Percent\"],\n",
    "                          \"YUM Brands Percent\": yum_age_df[\"Yum Percent\"]}, index=group_names)\n",
    "percent_rest_df.plot(kind='bar')\n",
    "plt.xlabel(\"Median Age Ranges\")\n",
    "plt.ylabel(\"Percentage\")\n",
    "plt.title('Percentage of Restaurants by Median Age Range')\n",
    "plt.show()"
   ]
  },
  {
   "cell_type": "code",
   "execution_count": 216,
   "metadata": {},
   "outputs": [
    {
     "data": {
      "image/png": "[encoded data removed]",
      "text/plain": [
       "<Figure size 432x288 with 1 Axes>"
      ]
     },
     "metadata": {
      "needs_background": "light"
     },
     "output_type": "display_data"
    }
   ],
   "source": [
    "percent_rest_df.boxplot()\n",
    "plt.xlabel(\"Median Age Ranges\")\n",
    "plt.ylabel(\"Percentage\")\n",
    "plt.title('Percentage of Restaurants by Median Age Range')\n",
    "plt.show()"
   ]
  },
  {
   "cell_type": "code",
   "execution_count": 217,
   "metadata": {},
   "outputs": [
    {
     "data": {
      "image/png": "[encoded data removed]",
      "text/plain": [
       "<Figure size 432x288 with 1 Axes>"
      ]
     },
     "metadata": {
      "needs_background": "light"
     },
     "output_type": "display_data"
    }
   ],
   "source": [
    "#Create bar plot fpr restaurant count in each age range\n",
    "\n",
    "count_rest_df = pd.DataFrame({\"Chipotle Percent\": chipotle_age_df['Total Count'],\n",
    "                           \"McDonald's Percent\": mcdonalds_age_df[\"Total Count\"],\n",
    "                          \"YUM Brands Percent\": yum_age_df[\"Total Count\"]}, index=group_names)\n",
    "count_rest_df.plot(kind='bar')\n",
    "plt.xlabel(\"Median Age Ranges\")\n",
    "plt.ylabel(\"Restaurant Count\")\n",
    "plt.title('Count of Restaurants by Median Age Range')\n",
    "plt.show()"
   ]
  }
 ],
 "metadata": {
  "kernelspec": {
   "display_name": "Python 3",
   "language": "python",
   "name": "python3"
  },
  "language_info": {
   "codemirror_mode": {
    "name": "ipython",
    "version": 3
   },
   "file_extension": ".py",
   "mimetype": "text/x-python",
   "name": "python",
   "nbconvert_exporter": "python",
   "pygments_lexer": "ipython3",
   "version": "3.6.10"
  }
 },
 "nbformat": 4,
 "nbformat_minor": 4
}
